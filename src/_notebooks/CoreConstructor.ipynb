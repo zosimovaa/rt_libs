{
 "cells": [
  {
   "cell_type": "code",
   "execution_count": 1,
   "metadata": {},
   "outputs": [],
   "source": [
    "# Системные импорты и настройки\n",
    "import os\n",
    "import sys\n",
    "import yaml\n",
    "import warnings\n",
    "import ipynbname\n",
    "import logging.config\n",
    "\n",
    "warnings.filterwarnings('ignore')\n",
    "\n",
    "# for local development\n",
    "RT_LIBS_PATH = \"/Users/alex/Dev_projects/MyOwnRepo/rt_libs/src\"\n",
    "BA_LIBS_PATH = \"/Users/alex/Dev_projects/MyOwnRepo/basic_application/src\"\n",
    "sys.path.append(RT_LIBS_PATH)\n",
    "sys.path.append(BA_LIBS_PATH)"
   ]
  },
  {
   "cell_type": "code",
   "execution_count": 2,
   "metadata": {},
   "outputs": [],
   "source": [
    "from core import context"
   ]
  },
  {
   "cell_type": "code",
   "execution_count": 3,
   "metadata": {},
   "outputs": [
    {
     "name": "stdout",
     "output_type": "stream",
     "text": [
      "None\n"
     ]
    }
   ],
   "source": [
    "class_name = \"core.context.BasicContext\"\n",
    "class_ = globals().get(class_name)\n",
    "print(class_)"
   ]
  },
  {
   "cell_type": "code",
   "execution_count": 8,
   "metadata": {},
   "outputs": [
    {
     "data": {
      "text/plain": [
       "core.context.basic_context.BasicContext"
      ]
     },
     "execution_count": 8,
     "metadata": {},
     "output_type": "execute_result"
    }
   ],
   "source": [
    "getattr(context, \"BasicContext\")"
   ]
  },
  {
   "cell_type": "code",
   "execution_count": null,
   "metadata": {},
   "outputs": [],
   "source": []
  },
  {
   "cell_type": "code",
   "execution_count": null,
   "metadata": {},
   "outputs": [],
   "source": []
  },
  {
   "cell_type": "code",
   "execution_count": null,
   "metadata": {},
   "outputs": [],
   "source": []
  },
  {
   "cell_type": "code",
   "execution_count": 6,
   "metadata": {},
   "outputs": [],
   "source": [
    "import core.context"
   ]
  },
  {
   "cell_type": "code",
   "execution_count": 16,
   "metadata": {},
   "outputs": [],
   "source": [
    "from core import context"
   ]
  },
  {
   "cell_type": "code",
   "execution_count": 28,
   "metadata": {},
   "outputs": [
    {
     "data": {
      "text/plain": [
       "<core.context.basic_context.BasicContext at 0x7fd9a9a03160>"
      ]
     },
     "execution_count": 28,
     "metadata": {},
     "output_type": "execute_result"
    }
   ],
   "source": [
    "getattr(globals()[\"context\"], \"BasicContext\")"
   ]
  },
  {
   "cell_type": "code",
   "execution_count": 25,
   "metadata": {},
   "outputs": [
    {
     "data": {
      "text/plain": [
       "<module 'core.context' from '/Users/alex/Dev_projects/MyOwnRepo/rt_libs/src/core/context/__init__.py'>"
      ]
     },
     "execution_count": 25,
     "metadata": {},
     "output_type": "execute_result"
    }
   ],
   "source": [
    "core.context"
   ]
  },
  {
   "cell_type": "code",
   "execution_count": null,
   "metadata": {},
   "outputs": [],
   "source": []
  },
  {
   "cell_type": "code",
   "execution_count": 3,
   "metadata": {},
   "outputs": [],
   "source": [
    "config = {\n",
    "    \"context\":{\n",
    "        \"class\": \"BasicContext\",\n",
    "        \"params\":{\n",
    "            \"market_fee\": 0.0015\n",
    "        },\n",
    "    },\n",
    "    \"action_controller\":{\n",
    "        \"class\": \"TickerBasic\",\n",
    "        \"params\":{ \n",
    "            \"penalty\": -2, \n",
    "            \"reward\": 0,\n",
    "            \"scale_wait\": 10, \n",
    "            \"scale_open\": 10, \n",
    "            \"scale_hold\": 10, \n",
    "            \"scale_close\": 100, \n",
    "            \"num_mean_obs\": 2\n",
    "        },\n",
    "        \n",
    "    },\n",
    "    \"observation_builder\":{\n",
    "        \"class\": \"ObservationBuilder2Dim\",\n",
    "        \"features\":{\n",
    "            \"static\":[{\"class\": \"TradeStateFeature\"}], \n",
    "            \"series\":[\n",
    "                {\"class\": \"Rates2DFactorFeature\", \"params\": {\"step_factor\":[1, 3, 12]}},\n",
    "                {\"class\": \"ProfitFeature\"},\n",
    "                {\"class\": \"OrderbookDiffFeature2D\", \"params\": {\"levels\": [0.001, 0.0025, 0.005, 0.0075]}},\n",
    "            ]\n",
    "        }\n",
    "    }\n",
    "}"
   ]
  },
  {
   "cell_type": "code",
   "execution_count": 4,
   "metadata": {},
   "outputs": [],
   "source": [
    "from core.facade import RTCore\n",
    "from core import context\n",
    "from core import tickers\n",
    "from core import observation_builder\n",
    "from core.observation_builder import features\n",
    "\n",
    "\n",
    "\n",
    "class ConstructorGen1:\n",
    "    \"\"\"Конструктор core из конфига\"\"\"\n",
    "\n",
    "    def get_core(self, config):\n",
    "        \"\"\"Основной метод для сборки core\"\"\"\n",
    "        context_config = config.get(\"context\")\n",
    "        context = self._context_constructor(context_config)\n",
    "\n",
    "        at_config = config.get(\"action_controller\")\n",
    "        action_controller = self._ticker_constructor(at_config, context)\n",
    "\n",
    "        ob_config = config.get(\"observation_builder\")\n",
    "        observation_builder = self._observation_builder_constructor(ob_config, context)\n",
    "\n",
    "        core = RTCore(context, action_controller, observation_builder)\n",
    "        return core\n",
    "\n",
    "    def _context_constructor(self, config):\n",
    "        \"\"\"Метод собирает контекст\"\"\"\n",
    "        class_name = config.get(\"class\")\n",
    "        params = config.get(\"params\")\n",
    "        context = getattr(globals()[\"context\"], class_name)(**params)\n",
    "        return context\n",
    "\n",
    "    def _ticker_constructor(self, config, context):\n",
    "        \"\"\"Метод собирает экшн контроллер\"\"\"\n",
    "        class_name = config.get(\"class\")\n",
    "        params = config.get(\"params\")\n",
    "        action_controller = getattr(globals()[\"tickers\"], class_name)(context, **params)\n",
    "        return action_controller\n",
    "\n",
    "    def _feature_builder(self, features, context):\n",
    "        \"\"\"метод собирает конкретную фичу\"\"\"\n",
    "        feature_list = []\n",
    "        for feature_config in features:\n",
    "            feature_class_name = feature_config.get(\"class\")\n",
    "            params = feature_config.get(\"params\")\n",
    "\n",
    "            if params is not None:\n",
    "                feat_instance = getattr(globals()[\"features\"], feature_class_name)(context, **params)\n",
    "            else:\n",
    "               feat_instance = getattr(globals()[\"features\"], feature_class_name)(context)\n",
    "            feature_list.append(feat_instance)\n",
    "\n",
    "        return feature_list\n",
    "\n",
    "    def _observation_builder_constructor(self, config, context):\n",
    "        \"\"\"Метод собирает observation_builder из фичей\"\"\"\n",
    "        class_name = config.get(\"class\")\n",
    "\n",
    "        static_config = config.get(\"features\").get(\"static\")\n",
    "        series_config = config.get(\"features\").get(\"series\")\n",
    "\n",
    "        static_feats = self._feature_builder(static_config, context)\n",
    "        series_feats = self._feature_builder(series_config, context)\n",
    "        \n",
    "        observation_builder = getattr(globals()[\"observation_builder\"], class_name)(context, static=static_feats, series=series_feats)\n",
    "        return observation_builder"
   ]
  },
  {
   "cell_type": "code",
   "execution_count": 5,
   "metadata": {},
   "outputs": [],
   "source": [
    "cg = ConstructorGen1()\n",
    "rtcore = cg.get_core(config)"
   ]
  },
  {
   "cell_type": "code",
   "execution_count": 6,
   "metadata": {},
   "outputs": [
    {
     "data": {
      "text/plain": [
       "{'context': <core.context.basic_context.BasicContext at 0x7fd308e10850>,\n",
       " 'action_controller': <core.tickers.ticker.TickerBasic at 0x7fd308e10580>,\n",
       " 'observation_builder': <core.observation_builder.v5_universal.ObservationBuilder2Dim at 0x7fd308e107c0>,\n",
       " 'metric_collector': <core.metrics.MetricCollector at 0x7fd308e10730>}"
      ]
     },
     "execution_count": 6,
     "metadata": {},
     "output_type": "execute_result"
    }
   ],
   "source": [
    "rtcore.__dict__"
   ]
  },
  {
   "cell_type": "code",
   "execution_count": null,
   "metadata": {},
   "outputs": [],
   "source": []
  },
  {
   "cell_type": "code",
   "execution_count": 32,
   "metadata": {},
   "outputs": [],
   "source": [
    "!jt -t gruvboxd -T -N -kl"
   ]
  },
  {
   "cell_type": "code",
   "execution_count": 31,
   "metadata": {},
   "outputs": [
    {
     "name": "stdout",
     "output_type": "stream",
     "text": [
      "Available Themes: \r\n",
      "   chesterish\r\n",
      "   grade3\r\n",
      "   gruvboxd\r\n",
      "   gruvboxl\r\n",
      "   monokai\r\n",
      "   oceans16\r\n",
      "   onedork\r\n",
      "   solarizedd\r\n",
      "   solarizedl\r\n"
     ]
    }
   ],
   "source": [
    "!jt -l"
   ]
  }
 ],
 "metadata": {
  "kernelspec": {
   "display_name": "rt_project_env",
   "language": "python",
   "name": "rt_project_env"
  },
  "language_info": {
   "codemirror_mode": {
    "name": "ipython",
    "version": 3
   },
   "file_extension": ".py",
   "mimetype": "text/x-python",
   "name": "python",
   "nbconvert_exporter": "python",
   "pygments_lexer": "ipython3",
   "version": "3.9.8"
  }
 },
 "nbformat": 4,
 "nbformat_minor": 4
}
