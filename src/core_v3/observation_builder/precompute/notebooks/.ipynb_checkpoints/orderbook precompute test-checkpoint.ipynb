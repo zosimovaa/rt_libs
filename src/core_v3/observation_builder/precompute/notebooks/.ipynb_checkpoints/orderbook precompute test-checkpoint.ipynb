{
 "cells": [
  {
   "cell_type": "code",
   "execution_count": 1,
   "id": "7df62310",
   "metadata": {},
   "outputs": [],
   "source": [
    "import sys\n",
    "# for local development\n",
    "RT_LIBS_PATH = \"/Users/alex/Dev_projects/MyOwnRepo/rt_libs/src\"\n",
    "BA_LIBS_PATH = \"/Users/alex/Dev_projects/MyOwnRepo/basic_application/src\"\n",
    "sys.path.append(RT_LIBS_PATH)\n",
    "sys.path.append(BA_LIBS_PATH)\n",
    "\n",
    "ALIAS = \"test\""
   ]
  },
  {
   "cell_type": "code",
   "execution_count": 2,
   "id": "93d77fb3",
   "metadata": {},
   "outputs": [],
   "source": [
    "import time\n",
    "import json\n",
    "import cProfile, pstats\n",
    "import numpy as np\n",
    "import pandas as pd\n",
    "import matplotlib.pyplot as plt"
   ]
  },
  {
   "cell_type": "code",
   "execution_count": 3,
   "id": "b993fe86",
   "metadata": {},
   "outputs": [
    {
     "data": {
      "text/html": [
       "<div>\n",
       "<style scoped>\n",
       "    .dataframe tbody tr th:only-of-type {\n",
       "        vertical-align: middle;\n",
       "    }\n",
       "\n",
       "    .dataframe tbody tr th {\n",
       "        vertical-align: top;\n",
       "    }\n",
       "\n",
       "    .dataframe thead th {\n",
       "        text-align: right;\n",
       "    }\n",
       "</style>\n",
       "<table border=\"1\" class=\"dataframe\">\n",
       "  <thead>\n",
       "    <tr style=\"text-align: right;\">\n",
       "      <th></th>\n",
       "      <th>dt</th>\n",
       "      <th>lowest_ask</th>\n",
       "      <th>highest_bid</th>\n",
       "      <th>asks</th>\n",
       "      <th>bids</th>\n",
       "      <th>buy_vol</th>\n",
       "      <th>sell_vol</th>\n",
       "      <th>total_vol</th>\n",
       "      <th>buy_num</th>\n",
       "      <th>sell_num</th>\n",
       "      <th>total_num</th>\n",
       "    </tr>\n",
       "    <tr>\n",
       "      <th>ts</th>\n",
       "      <th></th>\n",
       "      <th></th>\n",
       "      <th></th>\n",
       "      <th></th>\n",
       "      <th></th>\n",
       "      <th></th>\n",
       "      <th></th>\n",
       "      <th></th>\n",
       "      <th></th>\n",
       "      <th></th>\n",
       "      <th></th>\n",
       "    </tr>\n",
       "  </thead>\n",
       "  <tbody>\n",
       "    <tr>\n",
       "      <th>1679140919</th>\n",
       "      <td>2023-03-18 15:01:59</td>\n",
       "      <td>27466.400</td>\n",
       "      <td>27460.682</td>\n",
       "      <td>{'27466.40': 0.153, '27469.06': 0.580783, '274...</td>\n",
       "      <td>{'27460.68': 0.006333, '27452.30': 0.000136, '...</td>\n",
       "      <td>0.000000</td>\n",
       "      <td>0.007066</td>\n",
       "      <td>0.007066</td>\n",
       "      <td>0</td>\n",
       "      <td>4</td>\n",
       "      <td>4</td>\n",
       "    </tr>\n",
       "    <tr>\n",
       "      <th>1679140979</th>\n",
       "      <td>2023-03-18 15:02:59</td>\n",
       "      <td>27452.092</td>\n",
       "      <td>27445.960</td>\n",
       "      <td>{'27452.09': 0.580783, '27452.10': 0.153, '274...</td>\n",
       "      <td>{'27445.96': 0.045239, '27445.95': 0.000216, '...</td>\n",
       "      <td>0.007053</td>\n",
       "      <td>0.066226</td>\n",
       "      <td>0.073279</td>\n",
       "      <td>3</td>\n",
       "      <td>8</td>\n",
       "      <td>11</td>\n",
       "    </tr>\n",
       "    <tr>\n",
       "      <th>1679141039</th>\n",
       "      <td>2023-03-18 15:03:59</td>\n",
       "      <td>27440.050</td>\n",
       "      <td>27434.871</td>\n",
       "      <td>{'27440.05': 0.026, '27440.06': 0.14, '27440.4...</td>\n",
       "      <td>{'27434.87': 0.000187, '27434.86': 0.000861, '...</td>\n",
       "      <td>0.010176</td>\n",
       "      <td>0.005139</td>\n",
       "      <td>0.015315</td>\n",
       "      <td>2</td>\n",
       "      <td>8</td>\n",
       "      <td>10</td>\n",
       "    </tr>\n",
       "    <tr>\n",
       "      <th>1679141099</th>\n",
       "      <td>2023-03-18 15:04:59</td>\n",
       "      <td>27434.600</td>\n",
       "      <td>27420.580</td>\n",
       "      <td>{'27434.60': 0.589256, '27434.63': 0.2, '27435...</td>\n",
       "      <td>{'27420.58': 0.100016, '27415.10': 0.153, '274...</td>\n",
       "      <td>0.003643</td>\n",
       "      <td>0.010995</td>\n",
       "      <td>0.014638</td>\n",
       "      <td>3</td>\n",
       "      <td>1</td>\n",
       "      <td>4</td>\n",
       "    </tr>\n",
       "    <tr>\n",
       "      <th>1679141159</th>\n",
       "      <td>2023-03-18 15:05:59</td>\n",
       "      <td>27426.172</td>\n",
       "      <td>27412.771</td>\n",
       "      <td>{'27426.17': 0.589256, '27430.19': 0.2, '27430...</td>\n",
       "      <td>{'27412.77': 0.14387, '27412.76': 0.101108, '2...</td>\n",
       "      <td>0.002593</td>\n",
       "      <td>0.000000</td>\n",
       "      <td>0.002593</td>\n",
       "      <td>1</td>\n",
       "      <td>0</td>\n",
       "      <td>1</td>\n",
       "    </tr>\n",
       "  </tbody>\n",
       "</table>\n",
       "</div>"
      ],
      "text/plain": [
       "                             dt  lowest_ask  highest_bid  \\\n",
       "ts                                                         \n",
       "1679140919  2023-03-18 15:01:59   27466.400    27460.682   \n",
       "1679140979  2023-03-18 15:02:59   27452.092    27445.960   \n",
       "1679141039  2023-03-18 15:03:59   27440.050    27434.871   \n",
       "1679141099  2023-03-18 15:04:59   27434.600    27420.580   \n",
       "1679141159  2023-03-18 15:05:59   27426.172    27412.771   \n",
       "\n",
       "                                                         asks  \\\n",
       "ts                                                              \n",
       "1679140919  {'27466.40': 0.153, '27469.06': 0.580783, '274...   \n",
       "1679140979  {'27452.09': 0.580783, '27452.10': 0.153, '274...   \n",
       "1679141039  {'27440.05': 0.026, '27440.06': 0.14, '27440.4...   \n",
       "1679141099  {'27434.60': 0.589256, '27434.63': 0.2, '27435...   \n",
       "1679141159  {'27426.17': 0.589256, '27430.19': 0.2, '27430...   \n",
       "\n",
       "                                                         bids   buy_vol  \\\n",
       "ts                                                                        \n",
       "1679140919  {'27460.68': 0.006333, '27452.30': 0.000136, '...  0.000000   \n",
       "1679140979  {'27445.96': 0.045239, '27445.95': 0.000216, '...  0.007053   \n",
       "1679141039  {'27434.87': 0.000187, '27434.86': 0.000861, '...  0.010176   \n",
       "1679141099  {'27420.58': 0.100016, '27415.10': 0.153, '274...  0.003643   \n",
       "1679141159  {'27412.77': 0.14387, '27412.76': 0.101108, '2...  0.002593   \n",
       "\n",
       "            sell_vol  total_vol  buy_num  sell_num  total_num  \n",
       "ts                                                             \n",
       "1679140919  0.007066   0.007066        0         4          4  \n",
       "1679140979  0.066226   0.073279        3         8         11  \n",
       "1679141039  0.005139   0.015315        2         8         10  \n",
       "1679141099  0.010995   0.014638        3         1          4  \n",
       "1679141159  0.000000   0.002593        1         0          1  "
      ]
     },
     "execution_count": 3,
     "metadata": {},
     "output_type": "execute_result"
    }
   ],
   "source": [
    "path = \"/Users/alex/Dev_projects/RT/model_train/datasets/rt5/11.BTC_USDT-60.csv\"\n",
    "dataset = pd.read_csv(path, index_col='ts')\n",
    "dataset.head()"
   ]
  },
  {
   "cell_type": "code",
   "execution_count": null,
   "id": "47375df7",
   "metadata": {},
   "outputs": [],
   "source": []
  },
  {
   "cell_type": "code",
   "execution_count": null,
   "id": "731392c5",
   "metadata": {},
   "outputs": [],
   "source": []
  },
  {
   "cell_type": "code",
   "execution_count": 4,
   "id": "9cf1c491",
   "metadata": {},
   "outputs": [
    {
     "data": {
      "text/plain": [
       "\"{'27460.68': 0.006333, '27452.30': 0.000136, '27449.82': 0.082548, '27445.96': 0.045245, '27445.95': 0.000216, '27443.85': 0.019372, '27440.89': 0.911049, '27434.86': 0.001093, '27434.62': 0.000181, '27434.00': 0.146, '27429.80': 0.296, '27423.91': 0.03, '27414.70': 0.458, '27413.80': 0.66, '27408.81': 0.4, '27394.10': 0.46, '27384.33': 0.010392, '27381.70': 0.67, '27369.80': 1.0, '27366.51': 0.033712, '27357.38': 1.502, '27258.70': 0.058642, '27246.13': 1.518, '27211.42': 2.0, '27188.52': 0.34103, '27185.02': 5.3e-05, '27144.00': 0.1775, '27127.54': 6.5e-05, '27124.91': 0.616, '27116.00': 0.0001, '27081.00': 0.014219, '27055.01': 0.001859, '27055.00': 0.147896, '27026.20': 0.00086, '27000.00': 0.018949, '26998.06': 0.088473, '26995.00': 3.883604, '26990.00': 0.5, '26987.04': 0.343576, '26964.04': 0.003924, '26959.07': 0.5, '26950.00': 0.197393, '26947.34': 0.005276, '26928.88': 6.3e-05, '26918.00': 5e-05, '26900.00': 2.231258, '26882.52': 0.000873, '26850.97': 0.000187, '26850.00': 0.264171, '26800.00': 0.003606, '26787.04': 0.346142, '26738.84': 0.000887, '26736.26': 0.295, '26680.00': 0.5, '26679.13': 0.0058, '26673.36': 0.003967, '26648.00': 6e-05, '26616.50': 0.000377, '26600.01': 0.001317, '26600.00': 0.11951, '26595.15': 0.0009, '26588.53': 0.348726, '26536.07': 0.015895, '26531.39': 0.135045, '26512.00': 0.000751, '26500.00': 0.032074, '26478.18': 0.306, '26469.10': 0.011825, '26451.47': 0.000914, '26413.60': 0.006376, '26401.16': 0.001, '26400.00': 0.001, '26394.41': 0.05773, '26391.49': 0.351329, '26385.82': 0.00401, '26384.09': 6e-05, '26382.00': 7e-05, '26372.39': 0.000192, '26365.85': 0.247099, '26307.79': 0.000929, '26300.00': 0.539022, '26290.67': 0.00031, '26250.00': 0.09118, '26200.00': 0.001, '26195.90': 0.353953, '26171.40': 0.003763, '26164.11': 0.000943, '26150.70': 0.007009, '26150.00': 0.009416, '26130.00': 5e-05, '26118.00': 8e-05, '26101.38': 0.004054, '26100.00': 0.001, '26020.42': 0.000958, '26001.77': 0.356595, '26001.00': 0.043769, '26000.00': 0.095861, '25991.90': 0.043733, '25925.00': 0.000771, '25924.30': 0.024802, '25900.00': 0.001, '25895.49': 0.013061, '25891.00': 0.00311, '25890.42': 0.007705, '25879.01': 0.203366, '25876.74': 0.000973, '25870.00': 5e-05, '25868.00': 6e-05, '25857.00': 9e-05, '25831.37': 0.208057, '25820.00': 0.004098, '25809.08': 0.359258, '25800.26': 0.525224, '25800.00': 0.001, '25733.06': 0.000988, '25700.00': 0.003988, '25685.80': 0.072726, '25617.81': 0.36194, '25611.00': 6e-05, '25610.00': 7e-05, '25600.00': 0.044085, '25598.00': 0.0001, '25590.00': 5e-05, '25589.37': 0.001003, '25541.65': 0.004143, '25512.00': 0.000782, '25500.00': 0.169584, '25487.17': 0.027017, '25473.17': 0.030207, '25471.12': 0.002146, '25464.21': 0.48056, '25450.00': 0.005405, '25427.97': 0.364642, '25401.61': 0.000298, '25400.00': 0.90689, '25391.00': 0.003112, '25382.18': 0.01568, '25380.00': 0.064571, '25375.00': 0.016015, '25355.00': 8e-05, '25353.00': 8e-05, '25350.00': 5e-05, '25342.00': 0.00014, '25334.00': 9e-05, '25333.00': 0.058038, '25300.00': 0.001198, '25266.31': 0.004188, '25239.53': 0.367364, '25202.81': 0.029768, '25200.00': 0.001}\""
      ]
     },
     "execution_count": 4,
     "metadata": {},
     "output_type": "execute_result"
    }
   ],
   "source": [
    "asks_current_raw = dataset.loc[1679140979, \"asks\"]\n",
    "bids_current_raw = dataset.loc[1679140979, \"bids\"]\n",
    "\n",
    "asks_prev_raw = dataset.loc[1679140919, \"asks\"]\n",
    "bids_prev_raw = dataset.loc[1679140919, \"bids\"]\n",
    "bids_prev_raw"
   ]
  },
  {
   "cell_type": "code",
   "execution_count": 5,
   "id": "0c225eb0",
   "metadata": {},
   "outputs": [],
   "source": [
    "asks_current = json.loads(dataset.loc[1679140979, \"asks\"].replace(\"\\'\", \"\\\"\"))\n",
    "bids_current = json.loads(dataset.loc[1679140979, \"bids\"].replace(\"\\'\", \"\\\"\"))\n",
    "\n",
    "asks_prev = json.loads(dataset.loc[1679140919, \"asks\"].replace(\"\\'\", \"\\\"\"))\n",
    "bids_prev = json.loads(dataset.loc[1679140919, \"bids\"].replace(\"\\'\", \"\\\"\"))"
   ]
  },
  {
   "cell_type": "code",
   "execution_count": 21,
   "id": "b9ed6e62",
   "metadata": {},
   "outputs": [],
   "source": [
    "class Orderbook:\n",
    "    def __init__(self, asks, bids):\n",
    "        self.asks = json.loads(asks.replace(\"\\'\", \"\\\"\"))\n",
    "        self.bids = json.loads(bids.replace(\"\\'\", \"\\\"\"))\n",
    "        \n",
    "    def get_rates(self):\n",
    "        lowest_ask = np.min(np.array(list(map(float, self.asks.keys()))))\n",
    "        highest_bid = np.max(np.array(list(map(float, self.bids.keys()))))\n",
    "        return lowest_ask, highest_bid\n",
    "    \n",
    "    def _extract_data(self, data):\n",
    "        return np.array(list(map(float, data)))\n",
    "    \n",
    "    def get_volumes(self, level, lowest_ask=None, highest_bid=None): \n",
    "        if lowest_ask is None:\n",
    "            lowest_ask = self.lowest_ask\n",
    "            \n",
    "        if highest_bid is None:\n",
    "            highest_bid = self.highest_bid\n",
    "        \n",
    "        keys_asks = self._extract_data(self.asks.keys())\n",
    "        vols_asks = self._extract_data(self.asks.values())\n",
    "        \n",
    "        keys_bids = self._extract_data(self.bids.keys())\n",
    "        vols_bids = self._extract_data(self.bids.values())\n",
    "\n",
    "        mask_ask = keys_asks < lowest_ask * (1 + level)\n",
    "        ask_vol = sum(vols_asks[mask_ask])\n",
    "\n",
    "        mask_bid = keys_bids > highest_bid * (1 - level)\n",
    "        bid_vol = sum(vols_bids[mask_bid])\n",
    "\n",
    "        return ask_vol, bid_vol\n",
    "    "
   ]
  },
  {
   "cell_type": "code",
   "execution_count": 91,
   "id": "cd493ce9",
   "metadata": {},
   "outputs": [
    {
     "data": {
      "text/plain": [
       "Int64Index([1679140919, 1679140979, 1679141039, 1679141099, 1679141159,\n",
       "            1679141219, 1679141279, 1679141339, 1679141399, 1679141459,\n",
       "            ...\n",
       "            1681536419, 1681536479, 1681536539, 1681536599, 1681536659,\n",
       "            1681536719, 1681536779, 1681536839, 1681536899, 1681536959],\n",
       "           dtype='int64', name='ts', length=39882)"
      ]
     },
     "execution_count": 91,
     "metadata": {},
     "output_type": "execute_result"
    }
   ],
   "source": [
    "dataset.index"
   ]
  },
  {
   "cell_type": "code",
   "execution_count": 13,
   "id": "0242207c",
   "metadata": {},
   "outputs": [
    {
     "name": "stderr",
     "output_type": "stream",
     "text": [
      "\n",
      "KeyboardInterrupt\n",
      "\n"
     ]
    }
   ],
   "source": [
    "asks_col = dataset.columns.tolist().index(\"asks\")\n",
    "bids_col = dataset.columns.tolist().index(\"bids\")\n",
    "asks_vol_diff = [0,]\n",
    "bids_vol_diff = [0,]\n",
    "\n",
    "level = 0.01\n",
    "for i in range(dataset.shape[0] - 1):\n",
    "    ob_current = Orderbook(dataset.iloc[i, asks_col], dataset.iloc[i, bids_col])\n",
    "    ob_previous = Orderbook(dataset.iloc[i-1, asks_col], dataset.iloc[i-1, bids_col])\n",
    "    \n",
    "    lowest_ask, highest_bid = ob_previous.get_rates()\n",
    "    \n",
    "    ask_vol_prev, bid_vol_prev = ob_previous.get_volumes(level, lowest_ask, highest_bid)\n",
    "    ask_vol_curr, bid_vol_curr = ob_current.get_volumes(level, lowest_ask, highest_bid)\n",
    "    \n",
    "    asks_vol_diff.append(ask_vol_curr - ask_vol_prev)\n",
    "    bids_vol_diff.append(bid_vol_curr - bid_vol_prev)\n",
    "\n",
    "    \n",
    "dataset[f\"asks_{level}\"] = asks_vol_diff\n",
    "dataset[f\"asks_{level}\"] = bids_vol_diff\n",
    "dataset[f\"asks_{level}_diff\"] = bids_vol_diff-asks_vol_diff"
   ]
  },
  {
   "cell_type": "code",
   "execution_count": 14,
   "id": "610e42f9",
   "metadata": {},
   "outputs": [
    {
     "name": "stdout",
     "output_type": "stream",
     "text": [
      "-1.6611769999999986\n",
      "-1.203747\n"
     ]
    }
   ],
   "source": [
    "i = 1\n",
    "level = 0.01\n",
    "asks_col = dataset.columns.tolist().index(\"asks\")\n",
    "bids_col = dataset.columns.tolist().index(\"bids\")\n",
    "\n",
    "ob_previous = Orderbook(dataset.iloc[i-1, asks_col], dataset.iloc[i-1, bids_col])\n",
    "ob_current = Orderbook(dataset.iloc[i, asks_col], dataset.iloc[i, bids_col])\n",
    "\n",
    "    \n",
    "    \n",
    "lowest_ask, highest_bid = ob_current.get_rates()\n",
    "\n",
    "ask_vol_prev, bid_vol_prev = ob_previous.get_volumes(level, lowest_ask, highest_bid)\n",
    "\n",
    "\n",
    "ask_vol_curr, bid_vol_curr = ob_current.get_volumes(level, lowest_ask, highest_bid)\n",
    "\n",
    "\n",
    "print(ask_vol_curr - ask_vol_prev)\n",
    "print(bid_vol_curr - bid_vol_prev)"
   ]
  },
  {
   "cell_type": "code",
   "execution_count": 15,
   "id": "b4a3dcdd",
   "metadata": {},
   "outputs": [
    {
     "name": "stdout",
     "output_type": "stream",
     "text": [
      "100 µs ± 1.33 µs per loop (mean ± std. dev. of 7 runs, 10,000 loops each)\n"
     ]
    }
   ],
   "source": [
    "%timeit ask_vol_curr, bid_vol_curr = ob_current.get_volumes(level, lowest_ask, highest_bid)"
   ]
  },
  {
   "cell_type": "code",
   "execution_count": 19,
   "id": "c3422af2",
   "metadata": {},
   "outputs": [],
   "source": [
    "dataset[\"bids_\"] = dataset[\"bids\"].apply(lambda x: json.loads(x.replace(\"\\'\", \"\\\"\")))"
   ]
  },
  {
   "cell_type": "code",
   "execution_count": null,
   "id": "02e6ddde",
   "metadata": {},
   "outputs": [],
   "source": []
  },
  {
   "cell_type": "code",
   "execution_count": null,
   "id": "c8083484",
   "metadata": {},
   "outputs": [],
   "source": []
  }
 ],
 "metadata": {
  "kernelspec": {
   "display_name": "rt_project_env",
   "language": "python",
   "name": "rt_project_env"
  },
  "language_info": {
   "codemirror_mode": {
    "name": "ipython",
    "version": 3
   },
   "file_extension": ".py",
   "mimetype": "text/x-python",
   "name": "python",
   "nbconvert_exporter": "python",
   "pygments_lexer": "ipython3",
   "version": "3.9.8"
  }
 },
 "nbformat": 4,
 "nbformat_minor": 5
}
