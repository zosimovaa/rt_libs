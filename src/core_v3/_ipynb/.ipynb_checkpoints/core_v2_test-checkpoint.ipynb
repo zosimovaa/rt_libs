{
 "cells": [
  {
   "cell_type": "code",
   "execution_count": 1,
   "id": "ca1699fd",
   "metadata": {},
   "outputs": [
    {
     "name": "stdout",
     "output_type": "stream",
     "text": [
      "core_v2_test\n"
     ]
    }
   ],
   "source": [
    "# Системные импорты и настройки\n",
    "import os\n",
    "import sys\n",
    "import ipynbname\n",
    "# for local development\n",
    "RT_LIBS_PATH = \"/Users/alex/Dev_projects/MyOwnRepo/rt_libs/src\"\n",
    "BA_LIBS_PATH = \"/Users/alex/Dev_projects/MyOwnRepo/basic_application/src\"\n",
    "sys.path.append(RT_LIBS_PATH)\n",
    "sys.path.append(BA_LIBS_PATH)\n",
    "\n",
    "ALIAS = ipynbname.name()\n",
    "print(ALIAS)"
   ]
  },
  {
   "cell_type": "markdown",
   "id": "cf2fefe8",
   "metadata": {},
   "source": []
  },
  {
   "cell_type": "code",
   "execution_count": 2,
   "id": "823e9fa8",
   "metadata": {},
   "outputs": [],
   "source": [
    "from core_v2 import RTCore, Constructor"
   ]
  },
  {
   "cell_type": "code",
   "execution_count": null,
   "id": "837295a8",
   "metadata": {},
   "outputs": [],
   "source": []
  },
  {
   "cell_type": "code",
   "execution_count": null,
   "id": "c77b1100",
   "metadata": {},
   "outputs": [],
   "source": []
  },
  {
   "cell_type": "code",
   "execution_count": null,
   "id": "55e5c992",
   "metadata": {},
   "outputs": [],
   "source": []
  },
  {
   "cell_type": "markdown",
   "id": "a175b14c",
   "metadata": {},
   "source": [
    "### Test TrainController4Actions"
   ]
  },
  {
   "cell_type": "code",
   "execution_count": 3,
   "id": "cd37f112",
   "metadata": {},
   "outputs": [],
   "source": [
    "from core_v2.action_controller import TrainController4Actions\n",
    "tc = TrainController4Actions(ALIAS)"
   ]
  },
  {
   "cell_type": "code",
   "execution_count": 4,
   "id": "f82afcd4",
   "metadata": {},
   "outputs": [
    {
     "data": {
      "text/plain": [
       "<core_v2.context.Context at 0x7fb90f37f9a0>"
      ]
     },
     "execution_count": 4,
     "metadata": {},
     "output_type": "execute_result"
    }
   ],
   "source": [
    "tc.context"
   ]
  },
  {
   "cell_type": "markdown",
   "id": "0b6d11a1",
   "metadata": {},
   "source": [
    "### Test RewardController"
   ]
  },
  {
   "cell_type": "code",
   "execution_count": 5,
   "id": "126ada22",
   "metadata": {},
   "outputs": [],
   "source": [
    "from core_v2.action_controller import RewardControllerComplex\n",
    "from core_v2.action_controller import RewardControllerPriceDiff\n",
    "\n",
    "rc = RewardControllerComplex(ALIAS, 0, 0, 0, 0, 0, 0,)"
   ]
  },
  {
   "cell_type": "code",
   "execution_count": 6,
   "id": "7bd94fe4",
   "metadata": {},
   "outputs": [
    {
     "data": {
      "text/plain": [
       "<core_v2.context.Context at 0x7fb90f37f9a0>"
      ]
     },
     "execution_count": 6,
     "metadata": {},
     "output_type": "execute_result"
    }
   ],
   "source": [
    "rc.context"
   ]
  },
  {
   "cell_type": "code",
   "execution_count": null,
   "id": "6909275d",
   "metadata": {},
   "outputs": [],
   "source": []
  },
  {
   "cell_type": "markdown",
   "id": "a1fad70d",
   "metadata": {},
   "source": [
    "### Test ObservationBuilder"
   ]
  },
  {
   "cell_type": "code",
   "execution_count": 7,
   "id": "cd80e895",
   "metadata": {},
   "outputs": [],
   "source": [
    "from core_v2.observation_builder import ObservationBuilder\n",
    "from core_v2.observation_builder import Input2D, Input1D\n",
    "from core_v2.observation_builder.features import BaseFeature\n",
    "\n",
    "\n",
    "bf = BaseFeature(ALIAS)\n",
    "inp = Input1D(bf)\n",
    "ob = ObservationBuilder(inp)"
   ]
  },
  {
   "cell_type": "code",
   "execution_count": 8,
   "id": "70d53393",
   "metadata": {},
   "outputs": [
    {
     "data": {
      "text/plain": [
       "<core_v2.context.Context at 0x7fb90f37f9a0>"
      ]
     },
     "execution_count": 8,
     "metadata": {},
     "output_type": "execute_result"
    }
   ],
   "source": [
    "ob.inputs.features[0].context"
   ]
  },
  {
   "cell_type": "code",
   "execution_count": 9,
   "id": "e7337283",
   "metadata": {},
   "outputs": [],
   "source": [
    "rc.context.put(\"q\", 111)"
   ]
  },
  {
   "cell_type": "markdown",
   "id": "00239732",
   "metadata": {},
   "source": [
    "### Constructor"
   ]
  },
  {
   "cell_type": "code",
   "execution_count": 10,
   "id": "22dbaf19",
   "metadata": {},
   "outputs": [],
   "source": []
  },
  {
   "cell_type": "code",
   "execution_count": 11,
   "id": "599aa4c7",
   "metadata": {},
   "outputs": [],
   "source": [
    "core_config = {\n",
    "    \"action_controller\":{\"class\": \"TrainController4Actions\", \"params\": {}},\n",
    "    \n",
    "    \"reward_controller\":{\n",
    "        \"class\": \"RewardControllerComplex\",\n",
    "        \"params\":{ \n",
    "            \"penalty\": -2, \n",
    "            \"wait_scale\": 0, \n",
    "            \"open_scale\": 0, \n",
    "            \"hold_scale\": 0, \n",
    "            \"close_scale\": 100, \n",
    "            \"num_mean_obs\": 2\n",
    "        },\n",
    "    },\n",
    "    \n",
    "    \n",
    "    \"observation_builder\":{\n",
    "        \"class\": \"ObservationBuilderInput\",\n",
    "        \"inputs\": [\n",
    "            {\"class\": \"Input1D\", \"features\": [{\"class\": \"TradeStateFeature\", \"params\": {}}]},\n",
    "            {\"class\": \"Input2D\", \"features\": [\n",
    "                {\"class\": \"RatesFeature2D\", \"params\": {\"step_factor\":1}},\n",
    "                {\"class\": \"ProfitFeature2D\", \"params\": {\"step_factor\":1}}\n",
    "            ]}\n",
    "    ]\n",
    "    }\n",
    "}\n",
    "# = = = = = = = = = = = = = = = = = = = = = = = = = = = = =\n",
    "core_constructor = Constructor()\n",
    "env_core = core_constructor.get_core(ALIAS, core_config)\n"
   ]
  },
  {
   "cell_type": "code",
   "execution_count": 12,
   "id": "a4cdc7d8",
   "metadata": {},
   "outputs": [
    {
     "data": {
      "text/plain": [
       "<core_v2.context.Context at 0x7fb90f37f9a0>"
      ]
     },
     "execution_count": 12,
     "metadata": {},
     "output_type": "execute_result"
    }
   ],
   "source": [
    "env_core.context"
   ]
  },
  {
   "cell_type": "code",
   "execution_count": 13,
   "id": "413c51f4",
   "metadata": {},
   "outputs": [
    {
     "data": {
      "text/plain": [
       "<core_v2.context.Context at 0x7fb90f37f9a0>"
      ]
     },
     "execution_count": 13,
     "metadata": {},
     "output_type": "execute_result"
    }
   ],
   "source": [
    "env_core.action_controller.context"
   ]
  },
  {
   "cell_type": "code",
   "execution_count": 14,
   "id": "84897e10",
   "metadata": {},
   "outputs": [
    {
     "data": {
      "text/plain": [
       "<core_v2.context.Context at 0x7fb90f37f9a0>"
      ]
     },
     "execution_count": 14,
     "metadata": {},
     "output_type": "execute_result"
    }
   ],
   "source": [
    "env_core.reward_controller.context"
   ]
  },
  {
   "cell_type": "code",
   "execution_count": null,
   "id": "7d1e6b4d",
   "metadata": {},
   "outputs": [],
   "source": []
  }
 ],
 "metadata": {
  "kernelspec": {
   "display_name": "rt_project_env",
   "language": "python",
   "name": "rt_project_env"
  },
  "language_info": {
   "codemirror_mode": {
    "name": "ipython",
    "version": 3
   },
   "file_extension": ".py",
   "mimetype": "text/x-python",
   "name": "python",
   "nbconvert_exporter": "python",
   "pygments_lexer": "ipython3",
   "version": "3.9.8"
  }
 },
 "nbformat": 4,
 "nbformat_minor": 5
}
