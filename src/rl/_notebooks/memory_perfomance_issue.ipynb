{
 "cells": [
  {
   "cell_type": "markdown",
   "metadata": {},
   "source": [
    "При увеличении объема памяти начинает страдать производительность алгорима"
   ]
  },
  {
   "cell_type": "code",
   "execution_count": 31,
   "metadata": {},
   "outputs": [],
   "source": [
    "import numpy as np\n",
    "import pandas as pd\n",
    "import time\n",
    "import collections\n",
    "import cProfile, pstats"
   ]
  },
  {
   "cell_type": "code",
   "execution_count": null,
   "metadata": {},
   "outputs": [],
   "source": []
  },
  {
   "cell_type": "markdown",
   "metadata": {},
   "source": [
    "# Подгтовка данных"
   ]
  },
  {
   "cell_type": "code",
   "execution_count": 107,
   "metadata": {},
   "outputs": [],
   "source": [
    "memory_length = 50000\n",
    "data_object = [np.zeros(1), np.ones(100).reshape(20,-1)]\n",
    "\n",
    "memory = []\n",
    "state = []\n",
    "\n",
    "for i in range(memory_length):\n",
    "    state.append(data_object)\n",
    "    memory.append([data_object, 1, 2, data_object, False])"
   ]
  },
  {
   "cell_type": "code",
   "execution_count": 108,
   "metadata": {},
   "outputs": [],
   "source": [
    "d0 = np.array(memory, dtype=object)"
   ]
  },
  {
   "cell_type": "markdown",
   "metadata": {},
   "source": [
    "# Тесты"
   ]
  },
  {
   "cell_type": "markdown",
   "metadata": {},
   "source": [
    "## Выборка из единого списка"
   ]
  },
  {
   "cell_type": "code",
   "execution_count": 133,
   "metadata": {},
   "outputs": [],
   "source": [
    "profiler = cProfile.Profile()\n",
    "profiler.enable()\n",
    "\n",
    "# = = = = = = = = = = = = = =\n",
    "for n in range(1500):\n",
    "    mini_batch = random.sample(memory, batch_size)\n",
    "    mini_batch = np.array(mini_batch, dtype=object)\n",
    "    d0 = np.array(list(mini_batch[:,0]), dtype=object)\n",
    "    d1 = np.array(list(mini_batch[:,1]), dtype=object)\n",
    "    d2 = np.array(list(mini_batch[:,2]), dtype=object)\n",
    "    d3 = np.array(list(mini_batch[:,3]), dtype=object)\n",
    "    d4 = np.array(list(mini_batch[:,4]), dtype=object)\n",
    "    \n",
    "# = = = = = = = = = = = = = =\n",
    "\n",
    "profiler.disable()"
   ]
  },
  {
   "cell_type": "code",
   "execution_count": 134,
   "metadata": {},
   "outputs": [
    {
     "name": "stdout",
     "output_type": "stream",
     "text": [
      "         224126 function calls in 0.382 seconds\n",
      "\n",
      "   Ordered by: file name\n",
      "\n",
      "   ncalls  tottime  percall  cumtime  percall filename:lineno(function)\n",
      "     3000    0.001    0.000    0.002    0.000 /Library/Frameworks/Python.framework/Versions/3.9/lib/python3.9/abc.py:117(__instancecheck__)\n",
      "        2    0.000    0.000    0.000    0.000 /Library/Frameworks/Python.framework/Versions/3.9/lib/python3.9/codeop.py:142(__call__)\n",
      "        2    0.000    0.000    0.000    0.000 /Library/Frameworks/Python.framework/Versions/3.9/lib/python3.9/contextlib.py:86(__init__)\n",
      "        2    0.000    0.000    0.000    0.000 /Library/Frameworks/Python.framework/Versions/3.9/lib/python3.9/contextlib.py:114(__enter__)\n",
      "        2    0.000    0.000    0.000    0.000 /Library/Frameworks/Python.framework/Versions/3.9/lib/python3.9/contextlib.py:123(__exit__)\n",
      "        2    0.000    0.000    0.000    0.000 /Library/Frameworks/Python.framework/Versions/3.9/lib/python3.9/contextlib.py:261(helper)\n",
      "        4    0.000    0.000    0.000    0.000 /Library/Frameworks/Python.framework/Versions/3.9/lib/python3.9/dis.py:449(findlinestarts)\n",
      "    48003    0.026    0.000    0.037    0.000 /Library/Frameworks/Python.framework/Versions/3.9/lib/python3.9/random.py:237(_randbelow_with_getrandbits)\n",
      "     1500    0.112    0.000    0.162    0.000 /Library/Frameworks/Python.framework/Versions/3.9/lib/python3.9/random.py:374(sample)\n",
      "        4    0.000    0.000    0.000    0.000 /Users/alex/Dev_projects/venvs/env_rt_p39/lib/python3.9/site-packages/IPython/core/compilerop.py:174(extra_flags)\n",
      "        2    0.000    0.000    0.000    0.000 /Users/alex/Dev_projects/venvs/env_rt_p39/lib/python3.9/site-packages/IPython/core/interactiveshell.py:1191(user_global_ns)\n",
      "        2    0.000    0.000    0.000    0.000 /Users/alex/Dev_projects/venvs/env_rt_p39/lib/python3.9/site-packages/IPython/core/interactiveshell.py:3214(_update_code_co_name)\n",
      "        2    0.000    0.000    0.000    0.000 /Users/alex/Dev_projects/venvs/env_rt_p39/lib/python3.9/site-packages/IPython/core/interactiveshell.py:3312(compare)\n",
      "        2    0.000    0.000    0.382    0.191 /Users/alex/Dev_projects/venvs/env_rt_p39/lib/python3.9/site-packages/IPython/core/interactiveshell.py:3361(run_code)\n",
      "        2    0.000    0.000    0.000    0.000 /Users/alex/Dev_projects/venvs/env_rt_p39/lib/python3.9/site-packages/traitlets/traitlets.py:640(get)\n",
      "        2    0.000    0.000    0.000    0.000 /Users/alex/Dev_projects/venvs/env_rt_p39/lib/python3.9/site-packages/traitlets/traitlets.py:672(__get__)\n",
      "        1    0.025    0.025    0.382    0.382 /var/folders/sk/hq18v07n541fcm73_jz_p_k00000gn/T/ipykernel_40946/2739706461.py:5(<cell line: 5>)\n",
      "        1    0.000    0.000    0.000    0.000 /var/folders/sk/hq18v07n541fcm73_jz_p_k00000gn/T/ipykernel_40946/2739706461.py:16(<cell line: 16>)\n",
      "     1500    0.000    0.000    0.000    0.000 {built-in method math.ceil}\n",
      "     1500    0.001    0.000    0.001    0.000 {built-in method math.log}\n",
      "    56067    0.007    0.000    0.007    0.000 {method 'getrandbits' of '_random.Random' objects}\n",
      "        2    0.000    0.000    0.000    0.000 {method 'replace' of 'code' objects}\n",
      "    48003    0.004    0.000    0.004    0.000 {method 'bit_length' of 'int' objects}\n",
      "    48000    0.007    0.000    0.007    0.000 {method 'add' of 'set' objects}\n",
      "        2    0.000    0.000    0.000    0.000 {built-in method builtins.compile}\n",
      "        2    0.000    0.000    0.382    0.191 {built-in method builtins.exec}\n",
      "        4    0.000    0.000    0.000    0.000 {built-in method builtins.getattr}\n",
      "        2    0.000    0.000    0.000    0.000 {built-in method builtins.hasattr}\n",
      "     3000    0.002    0.000    0.004    0.000 {built-in method builtins.isinstance}\n",
      "     1502    0.000    0.000    0.000    0.000 {built-in method builtins.len}\n",
      "        6    0.000    0.000    0.000    0.000 {built-in method builtins.next}\n",
      "     3000    0.001    0.000    0.001    0.000 {built-in method _abc._abc_instancecheck}\n",
      "        1    0.000    0.000    0.000    0.000 {method 'disable' of '_lsprof.Profiler' objects}\n",
      "     9000    0.195    0.000    0.195    0.000 {built-in method numpy.array}\n",
      "\n",
      "\n"
     ]
    },
    {
     "data": {
      "text/plain": [
       "<pstats.Stats at 0x7fa2edd93c40>"
      ]
     },
     "execution_count": 134,
     "metadata": {},
     "output_type": "execute_result"
    }
   ],
   "source": [
    "stats = pstats.Stats(profiler).sort_stats('module')\n",
    "stats.print_stats()"
   ]
  },
  {
   "cell_type": "markdown",
   "metadata": {},
   "source": [
    "## Выборка из персональных списков"
   ]
  },
  {
   "cell_type": "code",
   "execution_count": 130,
   "metadata": {},
   "outputs": [],
   "source": [
    "memory_length = 1800000\n",
    "data_object = [np.zeros(1), np.ones(100).reshape(20,-1)]\n",
    "\n",
    "memory = []\n",
    "state = []\n",
    "\n",
    "for i in range(memory_length):\n",
    "    state.append(data_object)\n",
    "    memory.append([data_object, 1, 2, data_object, False])"
   ]
  },
  {
   "cell_type": "code",
   "execution_count": 135,
   "metadata": {},
   "outputs": [],
   "source": [
    "profiler = cProfile.Profile()\n",
    "profiler.enable()\n",
    "\n",
    "# = = = = = = = = = = = = = =\n",
    "for n in range(1500):\n",
    "    #indices = np.random.choice(range(len(memory)), size=batch_size)\n",
    "    indices = random.sample(range(len(memory)), batch_size)\n",
    "    d0 = [state[i] for i in indices]\n",
    "    d1 = [state[i] for i in indices]\n",
    "    d2 = [state[i] for i in indices]\n",
    "    d3 = [state[i] for i in indices]\n",
    "    d4 = [state[i] for i in indices]\n",
    "    \n",
    "   \n",
    "# = = = = = = = = = = = = \n",
    "\n",
    "profiler.disable()"
   ]
  },
  {
   "cell_type": "code",
   "execution_count": 136,
   "metadata": {},
   "outputs": [
    {
     "name": "stdout",
     "output_type": "stream",
     "text": [
      "         228565 function calls in 0.118 seconds\n",
      "\n",
      "   Ordered by: file name\n",
      "\n",
      "   ncalls  tottime  percall  cumtime  percall filename:lineno(function)\n",
      "     1500    0.000    0.000    0.000    0.000 /Library/Frameworks/Python.framework/Versions/3.9/lib/python3.9/_collections_abc.py:315(__subclasshook__)\n",
      "     3000    0.001    0.000    0.005    0.000 /Library/Frameworks/Python.framework/Versions/3.9/lib/python3.9/abc.py:117(__instancecheck__)\n",
      "     1500    0.000    0.000    0.002    0.000 /Library/Frameworks/Python.framework/Versions/3.9/lib/python3.9/abc.py:121(__subclasscheck__)\n",
      "        2    0.000    0.000    0.000    0.000 /Library/Frameworks/Python.framework/Versions/3.9/lib/python3.9/codeop.py:142(__call__)\n",
      "        2    0.000    0.000    0.000    0.000 /Library/Frameworks/Python.framework/Versions/3.9/lib/python3.9/contextlib.py:86(__init__)\n",
      "        2    0.000    0.000    0.000    0.000 /Library/Frameworks/Python.framework/Versions/3.9/lib/python3.9/contextlib.py:114(__enter__)\n",
      "        2    0.000    0.000    0.000    0.000 /Library/Frameworks/Python.framework/Versions/3.9/lib/python3.9/contextlib.py:123(__exit__)\n",
      "        2    0.000    0.000    0.000    0.000 /Library/Frameworks/Python.framework/Versions/3.9/lib/python3.9/contextlib.py:261(helper)\n",
      "        4    0.000    0.000    0.000    0.000 /Library/Frameworks/Python.framework/Versions/3.9/lib/python3.9/dis.py:449(findlinestarts)\n",
      "    48001    0.025    0.000    0.036    0.000 /Library/Frameworks/Python.framework/Versions/3.9/lib/python3.9/random.py:237(_randbelow_with_getrandbits)\n",
      "     1500    0.031    0.000    0.081    0.000 /Library/Frameworks/Python.framework/Versions/3.9/lib/python3.9/random.py:374(sample)\n",
      "        4    0.000    0.000    0.000    0.000 /Users/alex/Dev_projects/venvs/env_rt_p39/lib/python3.9/site-packages/IPython/core/compilerop.py:174(extra_flags)\n",
      "        2    0.000    0.000    0.000    0.000 /Users/alex/Dev_projects/venvs/env_rt_p39/lib/python3.9/site-packages/IPython/core/interactiveshell.py:1191(user_global_ns)\n",
      "        2    0.000    0.000    0.000    0.000 /Users/alex/Dev_projects/venvs/env_rt_p39/lib/python3.9/site-packages/IPython/core/interactiveshell.py:3214(_update_code_co_name)\n",
      "        2    0.000    0.000    0.000    0.000 /Users/alex/Dev_projects/venvs/env_rt_p39/lib/python3.9/site-packages/IPython/core/interactiveshell.py:3312(compare)\n",
      "        2    0.000    0.000    0.118    0.059 /Users/alex/Dev_projects/venvs/env_rt_p39/lib/python3.9/site-packages/IPython/core/interactiveshell.py:3361(run_code)\n",
      "        2    0.000    0.000    0.000    0.000 /Users/alex/Dev_projects/venvs/env_rt_p39/lib/python3.9/site-packages/traitlets/traitlets.py:640(get)\n",
      "        2    0.000    0.000    0.000    0.000 /Users/alex/Dev_projects/venvs/env_rt_p39/lib/python3.9/site-packages/traitlets/traitlets.py:672(__get__)\n",
      "        1    0.009    0.009    0.118    0.118 /var/folders/sk/hq18v07n541fcm73_jz_p_k00000gn/T/ipykernel_40946/2167418402.py:5(<cell line: 5>)\n",
      "     1500    0.016    0.000    0.016    0.000 /var/folders/sk/hq18v07n541fcm73_jz_p_k00000gn/T/ipykernel_40946/2167418402.py:8(<listcomp>)\n",
      "     1500    0.003    0.000    0.003    0.000 /var/folders/sk/hq18v07n541fcm73_jz_p_k00000gn/T/ipykernel_40946/2167418402.py:9(<listcomp>)\n",
      "     1500    0.003    0.000    0.003    0.000 /var/folders/sk/hq18v07n541fcm73_jz_p_k00000gn/T/ipykernel_40946/2167418402.py:11(<listcomp>)\n",
      "     1500    0.003    0.000    0.003    0.000 /var/folders/sk/hq18v07n541fcm73_jz_p_k00000gn/T/ipykernel_40946/2167418402.py:10(<listcomp>)\n",
      "     1500    0.003    0.000    0.003    0.000 /var/folders/sk/hq18v07n541fcm73_jz_p_k00000gn/T/ipykernel_40946/2167418402.py:12(<listcomp>)\n",
      "        1    0.000    0.000    0.000    0.000 /var/folders/sk/hq18v07n541fcm73_jz_p_k00000gn/T/ipykernel_40946/2167418402.py:17(<cell line: 17>)\n",
      "     1500    0.000    0.000    0.000    0.000 {built-in method math.ceil}\n",
      "     1500    0.001    0.000    0.001    0.000 {built-in method math.log}\n",
      "    56010    0.007    0.000    0.007    0.000 {method 'getrandbits' of '_random.Random' objects}\n",
      "        2    0.000    0.000    0.000    0.000 {method 'replace' of 'code' objects}\n",
      "    48001    0.005    0.000    0.005    0.000 {method 'bit_length' of 'int' objects}\n",
      "    48000    0.006    0.000    0.006    0.000 {method 'add' of 'set' objects}\n",
      "        2    0.000    0.000    0.000    0.000 {built-in method builtins.compile}\n",
      "        2    0.000    0.000    0.118    0.059 {built-in method builtins.exec}\n",
      "        4    0.000    0.000    0.000    0.000 {built-in method builtins.getattr}\n",
      "        2    0.000    0.000    0.000    0.000 {built-in method builtins.hasattr}\n",
      "     3000    0.001    0.000    0.006    0.000 {built-in method builtins.isinstance}\n",
      "     3002    0.001    0.000    0.001    0.000 {built-in method builtins.len}\n",
      "        6    0.000    0.000    0.000    0.000 {built-in method builtins.next}\n",
      "     3000    0.001    0.000    0.003    0.000 {built-in method _abc._abc_instancecheck}\n",
      "     1500    0.001    0.000    0.001    0.000 {built-in method _abc._abc_subclasscheck}\n",
      "        1    0.000    0.000    0.000    0.000 {method 'disable' of '_lsprof.Profiler' objects}\n",
      "\n",
      "\n"
     ]
    },
    {
     "data": {
      "text/plain": [
       "<pstats.Stats at 0x7fa2ebd9dee0>"
      ]
     },
     "execution_count": 136,
     "metadata": {},
     "output_type": "execute_result"
    }
   ],
   "source": [
    "stats = pstats.Stats(profiler).sort_stats('module')\n",
    "stats.print_stats()"
   ]
  },
  {
   "cell_type": "markdown",
   "metadata": {},
   "source": [
    "# Проверка выбора рандомного действия"
   ]
  },
  {
   "cell_type": "code",
   "execution_count": 154,
   "metadata": {},
   "outputs": [
    {
     "name": "stdout",
     "output_type": "stream",
     "text": [
      "Длительность 5.811\n"
     ]
    }
   ],
   "source": [
    "action_size = 4\n",
    "\n",
    "start = time.time()\n",
    "\n",
    "for i in range(300):\n",
    "    for n in range(1500):\n",
    "        action = np.random.choice(action_size)\n",
    "    \n",
    "duration = time.time() - start\n",
    "print(f\"Длительность {duration:.3f}\")\n",
    "\n"
   ]
  },
  {
   "cell_type": "code",
   "execution_count": null,
   "metadata": {},
   "outputs": [],
   "source": []
  },
  {
   "cell_type": "code",
   "execution_count": 153,
   "metadata": {},
   "outputs": [
    {
     "name": "stdout",
     "output_type": "stream",
     "text": [
      "Длительность 1.115\n"
     ]
    }
   ],
   "source": [
    "action_size = 4\n",
    "\n",
    "start = time.time()\n",
    "\n",
    "for i in range(1):\n",
    "    for n in range(1500):\n",
    "        action = random.sample(range(action_size), 1)\n",
    "    \n",
    "duration = time.time() - start\n",
    "print(f\"Длительность {duration:.3f}\")"
   ]
  },
  {
   "cell_type": "code",
   "execution_count": 10,
   "metadata": {},
   "outputs": [],
   "source": []
  },
  {
   "cell_type": "code",
   "execution_count": 203,
   "metadata": {},
   "outputs": [],
   "source": [
    "import tensorflow as tf"
   ]
  },
  {
   "cell_type": "code",
   "execution_count": 211,
   "metadata": {},
   "outputs": [
    {
     "name": "stdout",
     "output_type": "stream",
     "text": [
      "Длительность 0.056\n"
     ]
    }
   ],
   "source": [
    "action_size = 4\n",
    "\n",
    "start = time.time()\n",
    "action_probs = np.linspace(0,1,4)\n",
    "\n",
    "for i in range(1):\n",
    "    for n in range(1500):\n",
    "    \n",
    "        action = tf.argmax(action_probs).numpy()\n",
    "       #action = np.argmax(action_probs)\n",
    "    \n",
    "duration = time.time() - start\n",
    "print(f\"Длительность {duration:.3f}\")"
   ]
  },
  {
   "cell_type": "markdown",
   "metadata": {},
   "source": [
    "# Удаление из списка"
   ]
  },
  {
   "cell_type": "code",
   "execution_count": 212,
   "metadata": {},
   "outputs": [],
   "source": [
    "memory_length = 50000\n",
    "data_object = [np.zeros(1), np.ones(100).reshape(20,-1)]\n",
    "\n",
    "memory = []\n",
    "state = []\n",
    "\n",
    "for i in range(memory_length):\n",
    "    state.append(data_object)\n",
    "    memory.append([data_object, 1, 2, data_object, False])"
   ]
  },
  {
   "cell_type": "code",
   "execution_count": 216,
   "metadata": {},
   "outputs": [
    {
     "name": "stdout",
     "output_type": "stream",
     "text": [
      "Длительность 5.065\n"
     ]
    }
   ],
   "source": [
    "start = time.time()\n",
    "for i in range(500000):\n",
    "    state.append(data_object)\n",
    "    del state[:1]\n",
    "    \n",
    "duration = time.time() - start\n",
    "print(f\"Длительность {duration:.3f}\")"
   ]
  },
  {
   "cell_type": "code",
   "execution_count": null,
   "metadata": {},
   "outputs": [],
   "source": []
  },
  {
   "cell_type": "code",
   "execution_count": null,
   "metadata": {},
   "outputs": [],
   "source": []
  },
  {
   "cell_type": "code",
   "execution_count": 19,
   "metadata": {},
   "outputs": [
    {
     "name": "stdout",
     "output_type": "stream",
     "text": [
      "Длительность 5.956\n"
     ]
    }
   ],
   "source": [
    "memory = []\n",
    "batch_size = 32\n",
    "memory_length = 10000\n",
    "data_object = np.ones(100).reshape(20,-1)\n",
    "\n",
    "\n",
    "for i in range(memory_length):\n",
    "    memory.append(data_object)\n",
    "\n",
    "\n",
    "start = time.time()\n",
    "for n in range(1000):\n",
    "    indices = np.random.choice(range(len(memory)), size=batch_size)\n",
    "    state_sample = np.array(memory)[indices]\n",
    "\n",
    "duration = time.time() - start\n",
    "print(f\"Длительность {duration:.3f}\")"
   ]
  },
  {
   "cell_type": "code",
   "execution_count": 36,
   "metadata": {},
   "outputs": [
    {
     "ename": "TypeError",
     "evalue": "list indices must be integers or slices, not list",
     "output_type": "error",
     "traceback": [
      "\u001b[0;31m---------------------------------------------------------------------------\u001b[0m",
      "\u001b[0;31mTypeError\u001b[0m                                 Traceback (most recent call last)",
      "Input \u001b[0;32mIn [36]\u001b[0m, in \u001b[0;36m<cell line: 3>\u001b[0;34m()\u001b[0m\n\u001b[1;32m      1\u001b[0m d \u001b[38;5;241m=\u001b[39m [\u001b[38;5;241m1\u001b[39m,\u001b[38;5;241m2\u001b[39m,\u001b[38;5;241m3\u001b[39m,\u001b[38;5;241m4\u001b[39m,\u001b[38;5;241m5\u001b[39m,\u001b[38;5;241m6\u001b[39m]\n\u001b[0;32m----> 3\u001b[0m \u001b[43md\u001b[49m\u001b[43m[\u001b[49m\u001b[43m[\u001b[49m\u001b[38;5;241;43m1\u001b[39;49m\u001b[43m,\u001b[49m\u001b[38;5;241;43m4\u001b[39;49m\u001b[43m]\u001b[49m\u001b[43m]\u001b[49m\n",
      "\u001b[0;31mTypeError\u001b[0m: list indices must be integers or slices, not list"
     ]
    }
   ],
   "source": [
    "d = [1,2,3,4,5,6]\n",
    "\n"
   ]
  },
  {
   "cell_type": "code",
   "execution_count": 27,
   "metadata": {},
   "outputs": [
    {
     "name": "stdout",
     "output_type": "stream",
     "text": [
      "Длительность 7.089\n"
     ]
    }
   ],
   "source": [
    "memory = [] #collections.deque(maxlen=memory_length)\n",
    "batch_size = 32\n",
    "memory_length = 10000\n",
    "data_object = np.ones(100).reshape(20,-1)\n",
    "\n",
    "for i in range(memory_length):\n",
    "    memory.append(data_object)"
   ]
  },
  {
   "cell_type": "code",
   "execution_count": null,
   "metadata": {},
   "outputs": [],
   "source": []
  },
  {
   "cell_type": "code",
   "execution_count": 39,
   "metadata": {},
   "outputs": [],
   "source": [
    "profiler = cProfile.Profile()\n",
    "profiler.enable()\n",
    "\n",
    "# = = = = = = = = = = = = = =\n",
    "for n in range(1500):\n",
    "    indices = np.random.choice(range(len(memory)), size=batch_size)\n",
    "    state_sample = np.array(memory)[indices]\n",
    "   \n",
    "# = = = = = = = = = = = = = =\n",
    "\n",
    "profiler.disable()"
   ]
  },
  {
   "cell_type": "code",
   "execution_count": 40,
   "metadata": {},
   "outputs": [
    {
     "name": "stdout",
     "output_type": "stream",
     "text": [
      "         31553 function calls in 8.962 seconds\n",
      "\n",
      "   Ordered by: file name\n",
      "\n",
      "   ncalls  tottime  percall  cumtime  percall filename:lineno(function)\n",
      "        2    0.000    0.000    0.000    0.000 /Library/Frameworks/Python.framework/Versions/3.9/lib/python3.9/codeop.py:142(__call__)\n",
      "        2    0.000    0.000    0.000    0.000 /Library/Frameworks/Python.framework/Versions/3.9/lib/python3.9/contextlib.py:86(__init__)\n",
      "        2    0.000    0.000    0.000    0.000 /Library/Frameworks/Python.framework/Versions/3.9/lib/python3.9/contextlib.py:114(__enter__)\n",
      "        2    0.000    0.000    0.000    0.000 /Library/Frameworks/Python.framework/Versions/3.9/lib/python3.9/contextlib.py:123(__exit__)\n",
      "        2    0.000    0.000    0.000    0.000 /Library/Frameworks/Python.framework/Versions/3.9/lib/python3.9/contextlib.py:261(helper)\n",
      "        4    0.000    0.000    0.000    0.000 /Library/Frameworks/Python.framework/Versions/3.9/lib/python3.9/dis.py:449(findlinestarts)\n",
      "        4    0.000    0.000    0.000    0.000 /Users/alex/Dev_projects/venvs/env_rt_p39/lib/python3.9/site-packages/IPython/core/compilerop.py:174(extra_flags)\n",
      "        2    0.000    0.000    0.000    0.000 /Users/alex/Dev_projects/venvs/env_rt_p39/lib/python3.9/site-packages/IPython/core/interactiveshell.py:1191(user_global_ns)\n",
      "        2    0.000    0.000    0.000    0.000 /Users/alex/Dev_projects/venvs/env_rt_p39/lib/python3.9/site-packages/IPython/core/interactiveshell.py:3214(_update_code_co_name)\n",
      "        2    0.000    0.000    0.000    0.000 /Users/alex/Dev_projects/venvs/env_rt_p39/lib/python3.9/site-packages/IPython/core/interactiveshell.py:3312(compare)\n",
      "        2    0.000    0.000    8.961    4.481 /Users/alex/Dev_projects/venvs/env_rt_p39/lib/python3.9/site-packages/IPython/core/interactiveshell.py:3361(run_code)\n",
      "     3000    0.004    0.000    0.004    0.000 /Users/alex/Dev_projects/venvs/env_rt_p39/lib/python3.9/site-packages/numpy/core/fromnumeric.py:70(<dictcomp>)\n",
      "     3000    0.019    0.000    0.065    0.000 /Users/alex/Dev_projects/venvs/env_rt_p39/lib/python3.9/site-packages/numpy/core/fromnumeric.py:69(_wrapreduction)\n",
      "     3000    0.001    0.000    0.001    0.000 /Users/alex/Dev_projects/venvs/env_rt_p39/lib/python3.9/site-packages/numpy/core/fromnumeric.py:2928(_prod_dispatcher)\n",
      "     3000    0.009    0.000    0.074    0.000 /Users/alex/Dev_projects/venvs/env_rt_p39/lib/python3.9/site-packages/numpy/core/fromnumeric.py:2933(prod)\n",
      "        2    0.000    0.000    0.000    0.000 /Users/alex/Dev_projects/venvs/env_rt_p39/lib/python3.9/site-packages/traitlets/traitlets.py:640(get)\n",
      "        2    0.000    0.000    0.000    0.000 /Users/alex/Dev_projects/venvs/env_rt_p39/lib/python3.9/site-packages/traitlets/traitlets.py:672(__get__)\n",
      "        1    0.000    0.000    0.000    0.000 /var/folders/sk/hq18v07n541fcm73_jz_p_k00000gn/T/ipykernel_40946/3054649173.py:11(<cell line: 11>)\n",
      "        1    0.059    0.059    8.961    8.961 /var/folders/sk/hq18v07n541fcm73_jz_p_k00000gn/T/ipykernel_40946/3054649173.py:5(<cell line: 5>)\n",
      "     3000    0.010    0.000    0.091    0.000 <__array_function__ internals>:2(prod)\n",
      "        2    0.000    0.000    0.000    0.000 {method 'replace' of 'code' objects}\n",
      "     3000    0.001    0.000    0.001    0.000 {method 'items' of 'dict' objects}\n",
      "        2    0.000    0.000    0.000    0.000 {built-in method builtins.compile}\n",
      "        2    0.000    0.000    8.961    4.481 {built-in method builtins.exec}\n",
      "     3004    0.005    0.000    0.005    0.000 {built-in method builtins.getattr}\n",
      "        2    0.000    0.000    0.000    0.000 {built-in method builtins.hasattr}\n",
      "     1502    0.002    0.000    0.002    0.000 {built-in method builtins.len}\n",
      "        6    0.000    0.000    0.000    0.000 {built-in method builtins.next}\n",
      "        1    0.000    0.000    0.000    0.000 {method 'disable' of '_lsprof.Profiler' objects}\n",
      "     1500    1.711    0.001    1.803    0.001 {method 'choice' of 'numpy.random.mtrand.RandomState' objects}\n",
      "     1500    7.098    0.005    7.098    0.005 {built-in method numpy.array}\n",
      "     3000    0.006    0.000    0.081    0.000 {built-in method numpy.core._multiarray_umath.implement_array_function}\n",
      "     3000    0.036    0.000    0.036    0.000 {method 'reduce' of 'numpy.ufunc' objects}\n",
      "\n",
      "\n"
     ]
    },
    {
     "data": {
      "text/plain": [
       "<pstats.Stats at 0x7fa305b30fa0>"
      ]
     },
     "execution_count": 40,
     "metadata": {},
     "output_type": "execute_result"
    }
   ],
   "source": [
    "stats = pstats.Stats(profiler).sort_stats('module')\n",
    "stats.print_stats()"
   ]
  },
  {
   "cell_type": "code",
   "execution_count": 55,
   "metadata": {},
   "outputs": [],
   "source": [
    "profiler = cProfile.Profile()\n",
    "profiler.enable()\n",
    "\n",
    "state_sample = []\n",
    "state_sample1 = []\n",
    "state_sample2 = []\n",
    "state_sample3 = []\n",
    "state_sample4 = []\n",
    "state_sample5 = []\n",
    "# = = = = = = = = = = = = = =\n",
    "for n in range(1500):\n",
    "    indices = np.random.choice(range(len(memory)), size=batch_size)\n",
    "    for idx in indices:\n",
    "        state_sample.append(memory[i])\n",
    "        state_sample1.append(memory[i])\n",
    "        state_sample2.append(memory[i])\n",
    "        state_sample3.append(memory[i])\n",
    "        state_sample4.append(memory[i])\n",
    "        state_sample5.append(memory[i])\n",
    "    \n",
    "    \n",
    "    #state_sample = [memory[i] for i in indices]\n",
    "    #state_sample1 = [memory[i] for i in indices]\n",
    "    #state_sample2 = [memory[i] for i in indices]\n",
    "    #state_sample3 = [memory[i] for i in indices]\n",
    "    #state_sample4 = [memory[i] for i in indices]\n",
    "   \n",
    "# = = = = = = = = = = = = = =\n",
    "\n",
    "profiler.disable()"
   ]
  },
  {
   "cell_type": "code",
   "execution_count": 56,
   "metadata": {},
   "outputs": [
    {
     "name": "stdout",
     "output_type": "stream",
     "text": [
      "         318209 function calls in 1.735 seconds\n",
      "\n",
      "   Ordered by: file name\n",
      "\n",
      "   ncalls  tottime  percall  cumtime  percall filename:lineno(function)\n",
      "        8    0.000    0.000    0.000    0.000 /Library/Frameworks/Python.framework/Versions/3.9/lib/python3.9/codeop.py:142(__call__)\n",
      "        8    0.000    0.000    0.000    0.000 /Library/Frameworks/Python.framework/Versions/3.9/lib/python3.9/contextlib.py:86(__init__)\n",
      "        8    0.000    0.000    0.000    0.000 /Library/Frameworks/Python.framework/Versions/3.9/lib/python3.9/contextlib.py:114(__enter__)\n",
      "        8    0.000    0.000    0.000    0.000 /Library/Frameworks/Python.framework/Versions/3.9/lib/python3.9/contextlib.py:123(__exit__)\n",
      "        8    0.000    0.000    0.000    0.000 /Library/Frameworks/Python.framework/Versions/3.9/lib/python3.9/contextlib.py:261(helper)\n",
      "       16    0.000    0.000    0.000    0.000 /Library/Frameworks/Python.framework/Versions/3.9/lib/python3.9/dis.py:449(findlinestarts)\n",
      "       16    0.000    0.000    0.000    0.000 /Users/alex/Dev_projects/venvs/env_rt_p39/lib/python3.9/site-packages/IPython/core/compilerop.py:174(extra_flags)\n",
      "        8    0.000    0.000    0.000    0.000 /Users/alex/Dev_projects/venvs/env_rt_p39/lib/python3.9/site-packages/IPython/core/interactiveshell.py:1191(user_global_ns)\n",
      "        8    0.000    0.000    0.000    0.000 /Users/alex/Dev_projects/venvs/env_rt_p39/lib/python3.9/site-packages/IPython/core/interactiveshell.py:3214(_update_code_co_name)\n",
      "        8    0.000    0.000    0.000    0.000 /Users/alex/Dev_projects/venvs/env_rt_p39/lib/python3.9/site-packages/IPython/core/interactiveshell.py:3312(compare)\n",
      "        8    0.000    0.000    1.734    0.217 /Users/alex/Dev_projects/venvs/env_rt_p39/lib/python3.9/site-packages/IPython/core/interactiveshell.py:3361(run_code)\n",
      "     3000    0.002    0.000    0.002    0.000 /Users/alex/Dev_projects/venvs/env_rt_p39/lib/python3.9/site-packages/numpy/core/fromnumeric.py:70(<dictcomp>)\n",
      "     3000    0.012    0.000    0.041    0.000 /Users/alex/Dev_projects/venvs/env_rt_p39/lib/python3.9/site-packages/numpy/core/fromnumeric.py:69(_wrapreduction)\n",
      "     3000    0.001    0.000    0.001    0.000 /Users/alex/Dev_projects/venvs/env_rt_p39/lib/python3.9/site-packages/numpy/core/fromnumeric.py:2928(_prod_dispatcher)\n",
      "     3000    0.005    0.000    0.047    0.000 /Users/alex/Dev_projects/venvs/env_rt_p39/lib/python3.9/site-packages/numpy/core/fromnumeric.py:2933(prod)\n",
      "        8    0.000    0.000    0.000    0.000 /Users/alex/Dev_projects/venvs/env_rt_p39/lib/python3.9/site-packages/traitlets/traitlets.py:640(get)\n",
      "        8    0.000    0.000    0.000    0.000 /Users/alex/Dev_projects/venvs/env_rt_p39/lib/python3.9/site-packages/traitlets/traitlets.py:672(__get__)\n",
      "        1    0.000    0.000    0.000    0.000 /var/folders/sk/hq18v07n541fcm73_jz_p_k00000gn/T/ipykernel_40946/2085733118.py:6(<cell line: 6>)\n",
      "        1    0.000    0.000    0.000    0.000 /var/folders/sk/hq18v07n541fcm73_jz_p_k00000gn/T/ipykernel_40946/2085733118.py:5(<cell line: 5>)\n",
      "        1    0.000    0.000    0.000    0.000 /var/folders/sk/hq18v07n541fcm73_jz_p_k00000gn/T/ipykernel_40946/2085733118.py:4(<cell line: 4>)\n",
      "        1    0.086    0.086    1.734    1.734 /var/folders/sk/hq18v07n541fcm73_jz_p_k00000gn/T/ipykernel_40946/2085733118.py:11(<cell line: 11>)\n",
      "        1    0.000    0.000    0.000    0.000 /var/folders/sk/hq18v07n541fcm73_jz_p_k00000gn/T/ipykernel_40946/2085733118.py:9(<cell line: 9>)\n",
      "        1    0.000    0.000    0.000    0.000 /var/folders/sk/hq18v07n541fcm73_jz_p_k00000gn/T/ipykernel_40946/2085733118.py:8(<cell line: 8>)\n",
      "        1    0.000    0.000    0.000    0.000 /var/folders/sk/hq18v07n541fcm73_jz_p_k00000gn/T/ipykernel_40946/2085733118.py:7(<cell line: 7>)\n",
      "        1    0.000    0.000    0.000    0.000 /var/folders/sk/hq18v07n541fcm73_jz_p_k00000gn/T/ipykernel_40946/2085733118.py:30(<cell line: 30>)\n",
      "     3000    0.006    0.000    0.057    0.000 <__array_function__ internals>:2(prod)\n",
      "        8    0.000    0.000    0.000    0.000 {method 'replace' of 'code' objects}\n",
      "   288000    0.032    0.000    0.032    0.000 {method 'append' of 'list' objects}\n",
      "     3000    0.001    0.000    0.001    0.000 {method 'items' of 'dict' objects}\n",
      "        8    0.000    0.000    0.000    0.000 {built-in method builtins.compile}\n",
      "        8    0.000    0.000    1.734    0.217 {built-in method builtins.exec}\n",
      "     3016    0.004    0.000    0.004    0.000 {built-in method builtins.getattr}\n",
      "        8    0.000    0.000    0.000    0.000 {built-in method builtins.hasattr}\n",
      "     1508    0.000    0.000    0.000    0.000 {built-in method builtins.len}\n",
      "       24    0.000    0.000    0.000    0.000 {built-in method builtins.next}\n",
      "        1    0.000    0.000    0.000    0.000 {method 'disable' of '_lsprof.Profiler' objects}\n",
      "     1500    1.558    0.001    1.616    0.001 {method 'choice' of 'numpy.random.mtrand.RandomState' objects}\n",
      "     3000    0.004    0.000    0.051    0.000 {built-in method numpy.core._multiarray_umath.implement_array_function}\n",
      "     3000    0.023    0.000    0.023    0.000 {method 'reduce' of 'numpy.ufunc' objects}\n",
      "\n",
      "\n"
     ]
    },
    {
     "data": {
      "text/plain": [
       "<pstats.Stats at 0x7fa305939280>"
      ]
     },
     "execution_count": 56,
     "metadata": {},
     "output_type": "execute_result"
    }
   ],
   "source": [
    "stats = pstats.Stats(profiler).sort_stats('module')\n",
    "stats.print_stats()"
   ]
  },
  {
   "cell_type": "code",
   "execution_count": 62,
   "metadata": {},
   "outputs": [],
   "source": [
    "profiler = cProfile.Profile()\n",
    "profiler.enable()\n",
    "\n",
    "# = = = = = = = = = = = = = =\n",
    "for n in range(1500):\n",
    "    indices = np.random.choice(range(len(memory)), size=batch_size)\n",
    "    state_sample = [memory[i] for i in indices]\n",
    "    state_sample1 = [memory[i] for i in indices]\n",
    "    state_sample2 = [memory[i] for i in indices]\n",
    "    state_sample3 = [memory[i] for i in indices]\n",
    "    state_sample4 = [memory[i] for i in indices]\n",
    "    state_sample5 = [memory[i] for i in indices]\n",
    "# = = = = = = = = = = = = = =\n",
    "\n",
    "profiler.disable()"
   ]
  },
  {
   "cell_type": "code",
   "execution_count": 63,
   "metadata": {},
   "outputs": [
    {
     "name": "stdout",
     "output_type": "stream",
     "text": [
      "         9099 function calls in 0.085 seconds\n",
      "\n",
      "   Ordered by: cumulative time\n",
      "\n",
      "   ncalls  tottime  percall  cumtime  percall filename:lineno(function)\n",
      "        3    0.000    0.000    0.084    0.028 /Users/alex/Dev_projects/venvs/env_rt_p39/lib/python3.9/site-packages/IPython/core/interactiveshell.py:3361(run_code)\n",
      "        3    0.000    0.000    0.084    0.028 {built-in method builtins.exec}\n",
      "        1    0.006    0.006    0.083    0.083 /var/folders/sk/hq18v07n541fcm73_jz_p_k00000gn/T/ipykernel_40946/3048183977.py:6(<cell line: 6>)\n",
      "     1500    0.014    0.000    0.014    0.000 /var/folders/sk/hq18v07n541fcm73_jz_p_k00000gn/T/ipykernel_40946/3048183977.py:13(<listcomp>)\n",
      "     1500    0.013    0.000    0.013    0.000 /var/folders/sk/hq18v07n541fcm73_jz_p_k00000gn/T/ipykernel_40946/3048183977.py:11(<listcomp>)\n",
      "     1500    0.013    0.000    0.013    0.000 /var/folders/sk/hq18v07n541fcm73_jz_p_k00000gn/T/ipykernel_40946/3048183977.py:12(<listcomp>)\n",
      "     1500    0.013    0.000    0.013    0.000 /var/folders/sk/hq18v07n541fcm73_jz_p_k00000gn/T/ipykernel_40946/3048183977.py:10(<listcomp>)\n",
      "     1500    0.012    0.000    0.012    0.000 /var/folders/sk/hq18v07n541fcm73_jz_p_k00000gn/T/ipykernel_40946/3048183977.py:14(<listcomp>)\n",
      "     1500    0.012    0.000    0.012    0.000 /var/folders/sk/hq18v07n541fcm73_jz_p_k00000gn/T/ipykernel_40946/3048183977.py:9(<listcomp>)\n",
      "        1    0.000    0.000    0.002    0.002 /var/folders/sk/hq18v07n541fcm73_jz_p_k00000gn/T/ipykernel_40946/3048183977.py:5(<cell line: 5>)\n",
      "        1    0.001    0.001    0.002    0.002 {method 'choice' of 'numpy.random.mtrand.RandomState' objects}\n",
      "        2    0.000    0.000    0.000    0.000 <__array_function__ internals>:2(prod)\n",
      "        3    0.000    0.000    0.000    0.000 /Library/Frameworks/Python.framework/Versions/3.9/lib/python3.9/codeop.py:142(__call__)\n",
      "        3    0.000    0.000    0.000    0.000 {built-in method builtins.compile}\n",
      "        2    0.000    0.000    0.000    0.000 {built-in method numpy.core._multiarray_umath.implement_array_function}\n",
      "        2    0.000    0.000    0.000    0.000 /Users/alex/Dev_projects/venvs/env_rt_p39/lib/python3.9/site-packages/numpy/core/fromnumeric.py:2933(prod)\n",
      "        2    0.000    0.000    0.000    0.000 /Users/alex/Dev_projects/venvs/env_rt_p39/lib/python3.9/site-packages/numpy/core/fromnumeric.py:69(_wrapreduction)\n",
      "        3    0.000    0.000    0.000    0.000 /Users/alex/Dev_projects/venvs/env_rt_p39/lib/python3.9/site-packages/IPython/core/interactiveshell.py:3214(_update_code_co_name)\n",
      "        9    0.000    0.000    0.000    0.000 {built-in method builtins.next}\n",
      "        2    0.000    0.000    0.000    0.000 {method 'reduce' of 'numpy.ufunc' objects}\n",
      "        3    0.000    0.000    0.000    0.000 /Library/Frameworks/Python.framework/Versions/3.9/lib/python3.9/contextlib.py:261(helper)\n",
      "        6    0.000    0.000    0.000    0.000 /Library/Frameworks/Python.framework/Versions/3.9/lib/python3.9/dis.py:449(findlinestarts)\n",
      "        3    0.000    0.000    0.000    0.000 /Library/Frameworks/Python.framework/Versions/3.9/lib/python3.9/contextlib.py:123(__exit__)\n",
      "        3    0.000    0.000    0.000    0.000 /Library/Frameworks/Python.framework/Versions/3.9/lib/python3.9/contextlib.py:86(__init__)\n",
      "        3    0.000    0.000    0.000    0.000 /Library/Frameworks/Python.framework/Versions/3.9/lib/python3.9/contextlib.py:114(__enter__)\n",
      "        6    0.000    0.000    0.000    0.000 /Users/alex/Dev_projects/venvs/env_rt_p39/lib/python3.9/site-packages/IPython/core/compilerop.py:174(extra_flags)\n",
      "        8    0.000    0.000    0.000    0.000 {built-in method builtins.getattr}\n",
      "        3    0.000    0.000    0.000    0.000 /Users/alex/Dev_projects/venvs/env_rt_p39/lib/python3.9/site-packages/traitlets/traitlets.py:672(__get__)\n",
      "        3    0.000    0.000    0.000    0.000 /Users/alex/Dev_projects/venvs/env_rt_p39/lib/python3.9/site-packages/IPython/core/interactiveshell.py:3312(compare)\n",
      "        3    0.000    0.000    0.000    0.000 {method 'replace' of 'code' objects}\n",
      "        1    0.000    0.000    0.000    0.000 /var/folders/sk/hq18v07n541fcm73_jz_p_k00000gn/T/ipykernel_40946/3048183977.py:18(<cell line: 18>)\n",
      "        3    0.000    0.000    0.000    0.000 {built-in method builtins.hasattr}\n",
      "        3    0.000    0.000    0.000    0.000 /Users/alex/Dev_projects/venvs/env_rt_p39/lib/python3.9/site-packages/traitlets/traitlets.py:640(get)\n",
      "        3    0.000    0.000    0.000    0.000 /Users/alex/Dev_projects/venvs/env_rt_p39/lib/python3.9/site-packages/IPython/core/interactiveshell.py:1191(user_global_ns)\n",
      "        2    0.000    0.000    0.000    0.000 /Users/alex/Dev_projects/venvs/env_rt_p39/lib/python3.9/site-packages/numpy/core/fromnumeric.py:70(<dictcomp>)\n",
      "        4    0.000    0.000    0.000    0.000 {built-in method builtins.len}\n",
      "        2    0.000    0.000    0.000    0.000 /Users/alex/Dev_projects/venvs/env_rt_p39/lib/python3.9/site-packages/numpy/core/fromnumeric.py:2928(_prod_dispatcher)\n",
      "        2    0.000    0.000    0.000    0.000 {method 'items' of 'dict' objects}\n",
      "        1    0.000    0.000    0.000    0.000 {method 'disable' of '_lsprof.Profiler' objects}\n",
      "\n",
      "\n"
     ]
    },
    {
     "data": {
      "text/plain": [
       "<pstats.Stats at 0x7fa305933940>"
      ]
     },
     "execution_count": 63,
     "metadata": {},
     "output_type": "execute_result"
    }
   ],
   "source": [
    "stats = pstats.Stats(profiler).sort_stats('cumtime')\n",
    "stats.print_stats()"
   ]
  },
  {
   "cell_type": "code",
   "execution_count": null,
   "metadata": {},
   "outputs": [],
   "source": []
  },
  {
   "cell_type": "code",
   "execution_count": null,
   "metadata": {},
   "outputs": [],
   "source": []
  },
  {
   "cell_type": "code",
   "execution_count": 67,
   "metadata": {},
   "outputs": [],
   "source": [
    "import random"
   ]
  },
  {
   "cell_type": "code",
   "execution_count": 72,
   "metadata": {},
   "outputs": [
    {
     "name": "stdout",
     "output_type": "stream",
     "text": [
      "         251937 function calls in 15.985 seconds\n",
      "\n",
      "   Ordered by: cumulative time\n",
      "\n",
      "   ncalls  tottime  percall  cumtime  percall filename:lineno(function)\n",
      "        2    0.000    0.000   15.985    7.993 /Users/alex/Dev_projects/venvs/env_rt_p39/lib/python3.9/site-packages/IPython/core/interactiveshell.py:3361(run_code)\n",
      "        2    0.000    0.000   15.985    7.993 {built-in method builtins.exec}\n",
      "        1    0.018    0.018   15.985   15.985 /var/folders/sk/hq18v07n541fcm73_jz_p_k00000gn/T/ipykernel_40946/152121945.py:14(<cell line: 14>)\n",
      "     1500   15.746    0.010   15.840    0.011 {method 'choice' of 'numpy.random.mtrand.RandomState' objects}\n",
      "     1500    0.054    0.000    0.127    0.000 /Library/Frameworks/Python.framework/Versions/3.9/lib/python3.9/random.py:374(sample)\n",
      "     3000    0.011    0.000    0.094    0.000 <__array_function__ internals>:2(prod)\n",
      "     3000    0.006    0.000    0.082    0.000 {built-in method numpy.core._multiarray_umath.implement_array_function}\n",
      "     3000    0.009    0.000    0.076    0.000 /Users/alex/Dev_projects/venvs/env_rt_p39/lib/python3.9/site-packages/numpy/core/fromnumeric.py:2933(prod)\n",
      "     3000    0.018    0.000    0.067    0.000 /Users/alex/Dev_projects/venvs/env_rt_p39/lib/python3.9/site-packages/numpy/core/fromnumeric.py:69(_wrapreduction)\n",
      "    48009    0.032    0.000    0.048    0.000 /Library/Frameworks/Python.framework/Versions/3.9/lib/python3.9/random.py:237(_randbelow_with_getrandbits)\n",
      "     3000    0.038    0.000    0.038    0.000 {method 'reduce' of 'numpy.ufunc' objects}\n",
      "     3000    0.004    0.000    0.010    0.000 {built-in method builtins.isinstance}\n",
      "    62866    0.010    0.000    0.010    0.000 {method 'getrandbits' of '_random.Random' objects}\n",
      "    48000    0.009    0.000    0.009    0.000 {method 'add' of 'set' objects}\n",
      "     3004    0.007    0.000    0.007    0.000 {built-in method builtins.getattr}\n",
      "     3000    0.002    0.000    0.006    0.000 /Library/Frameworks/Python.framework/Versions/3.9/lib/python3.9/abc.py:117(__instancecheck__)\n",
      "    48009    0.005    0.000    0.005    0.000 {method 'bit_length' of 'int' objects}\n",
      "     1500    0.005    0.000    0.005    0.000 {built-in method math.log}\n",
      "     3000    0.004    0.000    0.004    0.000 {built-in method _abc._abc_instancecheck}\n",
      "     3000    0.003    0.000    0.003    0.000 /Users/alex/Dev_projects/venvs/env_rt_p39/lib/python3.9/site-packages/numpy/core/fromnumeric.py:70(<dictcomp>)\n",
      "     3000    0.001    0.000    0.001    0.000 /Users/alex/Dev_projects/venvs/env_rt_p39/lib/python3.9/site-packages/numpy/core/fromnumeric.py:2928(_prod_dispatcher)\n",
      "     3000    0.001    0.000    0.001    0.000 {method 'items' of 'dict' objects}\n",
      "     3002    0.001    0.000    0.001    0.000 {built-in method builtins.len}\n",
      "     1500    0.001    0.000    0.001    0.000 {built-in method math.ceil}\n",
      "        2    0.000    0.000    0.000    0.000 /Library/Frameworks/Python.framework/Versions/3.9/lib/python3.9/codeop.py:142(__call__)\n",
      "        2    0.000    0.000    0.000    0.000 {built-in method builtins.compile}\n",
      "        2    0.000    0.000    0.000    0.000 /Users/alex/Dev_projects/venvs/env_rt_p39/lib/python3.9/site-packages/IPython/core/interactiveshell.py:3214(_update_code_co_name)\n",
      "        6    0.000    0.000    0.000    0.000 {built-in method builtins.next}\n",
      "        2    0.000    0.000    0.000    0.000 /Library/Frameworks/Python.framework/Versions/3.9/lib/python3.9/contextlib.py:261(helper)\n",
      "        4    0.000    0.000    0.000    0.000 /Library/Frameworks/Python.framework/Versions/3.9/lib/python3.9/dis.py:449(findlinestarts)\n",
      "        2    0.000    0.000    0.000    0.000 /Library/Frameworks/Python.framework/Versions/3.9/lib/python3.9/contextlib.py:86(__init__)\n",
      "        2    0.000    0.000    0.000    0.000 /Library/Frameworks/Python.framework/Versions/3.9/lib/python3.9/contextlib.py:123(__exit__)\n",
      "        2    0.000    0.000    0.000    0.000 /Library/Frameworks/Python.framework/Versions/3.9/lib/python3.9/contextlib.py:114(__enter__)\n",
      "        1    0.000    0.000    0.000    0.000 /var/folders/sk/hq18v07n541fcm73_jz_p_k00000gn/T/ipykernel_40946/152121945.py:24(<cell line: 24>)\n",
      "        2    0.000    0.000    0.000    0.000 /Users/alex/Dev_projects/venvs/env_rt_p39/lib/python3.9/site-packages/traitlets/traitlets.py:672(__get__)\n",
      "        4    0.000    0.000    0.000    0.000 /Users/alex/Dev_projects/venvs/env_rt_p39/lib/python3.9/site-packages/IPython/core/compilerop.py:174(extra_flags)\n",
      "        2    0.000    0.000    0.000    0.000 /Users/alex/Dev_projects/venvs/env_rt_p39/lib/python3.9/site-packages/IPython/core/interactiveshell.py:3312(compare)\n",
      "        2    0.000    0.000    0.000    0.000 {method 'replace' of 'code' objects}\n",
      "        2    0.000    0.000    0.000    0.000 {built-in method builtins.hasattr}\n",
      "        2    0.000    0.000    0.000    0.000 /Users/alex/Dev_projects/venvs/env_rt_p39/lib/python3.9/site-packages/traitlets/traitlets.py:640(get)\n",
      "        2    0.000    0.000    0.000    0.000 /Users/alex/Dev_projects/venvs/env_rt_p39/lib/python3.9/site-packages/IPython/core/interactiveshell.py:1191(user_global_ns)\n",
      "        1    0.000    0.000    0.000    0.000 {method 'disable' of '_lsprof.Profiler' objects}\n",
      "\n",
      "\n"
     ]
    },
    {
     "data": {
      "text/plain": [
       "<pstats.Stats at 0x7fa305e37220>"
      ]
     },
     "execution_count": 72,
     "metadata": {},
     "output_type": "execute_result"
    }
   ],
   "source": [
    "memory = [] #collections.deque(maxlen=memory_length)\n",
    "batch_size = 32\n",
    "memory_length = 100000\n",
    "data_object = np.ones(100).reshape(20,-1)\n",
    "\n",
    "for i in range(memory_length):\n",
    "    memory.append((data_object, 1, 2, data_object, False))\n",
    "    \n",
    "    \n",
    "profiler = cProfile.Profile()\n",
    "profiler.enable()\n",
    "\n",
    "# = = = = = = = = = = = = = =\n",
    "for n in range(1500):\n",
    "    indices = np.random.choice(range(len(memory)), size=batch_size)\n",
    "    mini_batch = random.sample(memory, batch_size) # sample a minibatch from memory\n",
    "    #state_sample1 = [memory[i] for i in indices]\n",
    "    #state_sample2 = [memory[i] for i in indices]\n",
    "    #state_sample3 = [memory[i] for i in indices]\n",
    "    #state_sample4 = [memory[i] for i in indices]\n",
    "    #state_sample5 = [memory[i] for i in indices]\n",
    "# = = = = = = = = = = = = = =\n",
    "\n",
    "profiler.disable()\n",
    "\n",
    "pstats.Stats(profiler).sort_stats('cumtime').print_stats()\n"
   ]
  },
  {
   "cell_type": "code",
   "execution_count": 137,
   "metadata": {},
   "outputs": [],
   "source": [
    "class A:\n",
    "    def __init__(self, f):\n",
    "        self.f = f\n",
    "        \n",
    "        \n",
    "a = A(1)"
   ]
  },
  {
   "cell_type": "code",
   "execution_count": 149,
   "metadata": {},
   "outputs": [],
   "source": [
    "setattr(a, \"fss\", 2)"
   ]
  },
  {
   "cell_type": "code",
   "execution_count": 150,
   "metadata": {},
   "outputs": [
    {
     "data": {
      "text/plain": [
       "{'f': 2, 'fss': 2}"
      ]
     },
     "execution_count": 150,
     "metadata": {},
     "output_type": "execute_result"
    }
   ],
   "source": [
    "a.__dict__"
   ]
  },
  {
   "cell_type": "code",
   "execution_count": null,
   "metadata": {},
   "outputs": [],
   "source": []
  },
  {
   "cell_type": "code",
   "execution_count": null,
   "metadata": {},
   "outputs": [],
   "source": []
  },
  {
   "cell_type": "code",
   "execution_count": null,
   "metadata": {},
   "outputs": [],
   "source": []
  }
 ],
 "metadata": {
  "kernelspec": {
   "display_name": "rt_project_env",
   "language": "python",
   "name": "rt_project_env"
  },
  "language_info": {
   "codemirror_mode": {
    "name": "ipython",
    "version": 3
   },
   "file_extension": ".py",
   "mimetype": "text/x-python",
   "name": "python",
   "nbconvert_exporter": "python",
   "pygments_lexer": "ipython3",
   "version": "3.9.8"
  }
 },
 "nbformat": 4,
 "nbformat_minor": 4
}
