{
 "cells": [
  {
   "cell_type": "code",
   "execution_count": 1,
   "metadata": {},
   "outputs": [],
   "source": [
    "import sys\n",
    "# for local development\n",
    "RT_LIBS_PATH = \"/Users/alex/Dev_projects/MyOwnRepo/rt_libs/src\"\n",
    "BA_LIBS_PATH = \"/Users/alex/Dev_projects/MyOwnRepo/basic_application/src\"\n",
    "sys.path.append(RT_LIBS_PATH)\n",
    "sys.path.append(BA_LIBS_PATH)"
   ]
  },
  {
   "cell_type": "code",
   "execution_count": 2,
   "metadata": {},
   "outputs": [],
   "source": [
    "%matplotlib notebook\n",
    "db_connect_params = {\n",
    "    \"host\" : \"194.87.210.189\",\n",
    "    \"port\" : 59000,\n",
    "    \"user\" : \"alex\",\n",
    "    \"password\" : \"Xrxcmr758\",\n",
    "    \"database\" : \"rt5\"\n",
    "}"
   ]
  },
  {
   "cell_type": "code",
   "execution_count": 3,
   "metadata": {},
   "outputs": [],
   "source": [
    "import time\n",
    "import pandas as pd"
   ]
  },
  {
   "cell_type": "code",
   "execution_count": 4,
   "metadata": {},
   "outputs": [],
   "source": [
    "from data_providers import DbDataProviderRT5\n",
    "from data_providers import ClickHouseConnector"
   ]
  },
  {
   "cell_type": "markdown",
   "metadata": {},
   "source": [
    "## Dataset"
   ]
  },
  {
   "cell_type": "code",
   "execution_count": 5,
   "metadata": {},
   "outputs": [
    {
     "name": "stdout",
     "output_type": "stream",
     "text": [
      "Прочитано из файла\n",
      "(5000, 11)\n"
     ]
    }
   ],
   "source": [
    "try:\n",
    "    dataset = pd.read_csv(\"./test_dataset.csv\", index_col='ts')\n",
    "    print(\"Прочитано из файла\")\n",
    "except FileNotFoundError:\n",
    "    \n",
    "    ts = int(time.time())\n",
    "    period = 60\n",
    "    total_points = 5000\n",
    "\n",
    "    pair = \"BTC_USDT\"\n",
    "\n",
    "\n",
    "    #----\n",
    "    with ClickHouseConnector(db_connect_params) as conn:\n",
    "        data_provider = DbDataProviderRT5(conn)\n",
    "\n",
    "        dataset = data_provider.get(\n",
    "                                ts,\n",
    "                                period,\n",
    "                                total_points,\n",
    "                                pair\n",
    "                            )\n",
    "    dataset.to_csv(\"./test_dataset.csv\")\n",
    "    print(\"Загружен новый датасет\")\n",
    "    \n",
    "print(dataset.shape)"
   ]
  },
  {
   "cell_type": "code",
   "execution_count": 6,
   "metadata": {
    "scrolled": true
   },
   "outputs": [
    {
     "data": {
      "text/html": [
       "<div>\n",
       "<style scoped>\n",
       "    .dataframe tbody tr th:only-of-type {\n",
       "        vertical-align: middle;\n",
       "    }\n",
       "\n",
       "    .dataframe tbody tr th {\n",
       "        vertical-align: top;\n",
       "    }\n",
       "\n",
       "    .dataframe thead th {\n",
       "        text-align: right;\n",
       "    }\n",
       "</style>\n",
       "<table border=\"1\" class=\"dataframe\">\n",
       "  <thead>\n",
       "    <tr style=\"text-align: right;\">\n",
       "      <th></th>\n",
       "      <th>dt</th>\n",
       "      <th>lowest_ask</th>\n",
       "      <th>highest_bid</th>\n",
       "      <th>asks</th>\n",
       "      <th>bids</th>\n",
       "      <th>buy_vol</th>\n",
       "      <th>sell_vol</th>\n",
       "      <th>total_vol</th>\n",
       "      <th>buy_num</th>\n",
       "      <th>sell_num</th>\n",
       "      <th>total_num</th>\n",
       "    </tr>\n",
       "    <tr>\n",
       "      <th>ts</th>\n",
       "      <th></th>\n",
       "      <th></th>\n",
       "      <th></th>\n",
       "      <th></th>\n",
       "      <th></th>\n",
       "      <th></th>\n",
       "      <th></th>\n",
       "      <th></th>\n",
       "      <th></th>\n",
       "      <th></th>\n",
       "      <th></th>\n",
       "    </tr>\n",
       "  </thead>\n",
       "  <tbody>\n",
       "    <tr>\n",
       "      <th>1677398443</th>\n",
       "      <td>2023-02-26 11:00:43</td>\n",
       "      <td>23152.512</td>\n",
       "      <td>23150.441</td>\n",
       "      <td>{'23152.51': 0.002093, '23155.87': 0.057322, '...</td>\n",
       "      <td>{'23150.44': 1.059529, '23150.43': 0.000353, '...</td>\n",
       "      <td>0.006216</td>\n",
       "      <td>0.032863</td>\n",
       "      <td>0.039079</td>\n",
       "      <td>5</td>\n",
       "      <td>7</td>\n",
       "      <td>12</td>\n",
       "    </tr>\n",
       "    <tr>\n",
       "      <th>1677398503</th>\n",
       "      <td>2023-02-26 11:01:43</td>\n",
       "      <td>23152.500</td>\n",
       "      <td>23147.592</td>\n",
       "      <td>{'23152.50': 0.647878, '23155.87': 0.057322, '...</td>\n",
       "      <td>{'23147.59': 0.001354, '23147.58': 0.002099, '...</td>\n",
       "      <td>0.012029</td>\n",
       "      <td>0.010726</td>\n",
       "      <td>0.022755</td>\n",
       "      <td>3</td>\n",
       "      <td>4</td>\n",
       "      <td>7</td>\n",
       "    </tr>\n",
       "    <tr>\n",
       "      <th>1677398563</th>\n",
       "      <td>2023-02-26 11:02:43</td>\n",
       "      <td>23152.490</td>\n",
       "      <td>23148.148</td>\n",
       "      <td>{'23152.49': 0.817561, '23152.50': 0.647878, '...</td>\n",
       "      <td>{'23148.15': 0.304896, '23148.14': 0.001354, '...</td>\n",
       "      <td>0.019433</td>\n",
       "      <td>0.012837</td>\n",
       "      <td>0.032270</td>\n",
       "      <td>11</td>\n",
       "      <td>8</td>\n",
       "      <td>19</td>\n",
       "    </tr>\n",
       "    <tr>\n",
       "      <th>1677398623</th>\n",
       "      <td>2023-02-26 11:03:43</td>\n",
       "      <td>23161.690</td>\n",
       "      <td>23158.102</td>\n",
       "      <td>{'23161.69': 0.81715, '23161.70': 0.056663, '2...</td>\n",
       "      <td>{'23158.10': 0.305176, '23158.09': 0.647721, '...</td>\n",
       "      <td>0.018082</td>\n",
       "      <td>0.012298</td>\n",
       "      <td>0.030380</td>\n",
       "      <td>10</td>\n",
       "      <td>7</td>\n",
       "      <td>17</td>\n",
       "    </tr>\n",
       "    <tr>\n",
       "      <th>1677398683</th>\n",
       "      <td>2023-02-26 11:04:43</td>\n",
       "      <td>23148.450</td>\n",
       "      <td>23148.410</td>\n",
       "      <td>{'23148.45': 0.000205, '23148.46': 0.003257, '...</td>\n",
       "      <td>{'23148.41': 0.314122, '23146.30': 0.000201, '...</td>\n",
       "      <td>0.037033</td>\n",
       "      <td>0.001243</td>\n",
       "      <td>0.038276</td>\n",
       "      <td>12</td>\n",
       "      <td>2</td>\n",
       "      <td>14</td>\n",
       "    </tr>\n",
       "  </tbody>\n",
       "</table>\n",
       "</div>"
      ],
      "text/plain": [
       "                             dt  lowest_ask  highest_bid  \\\n",
       "ts                                                         \n",
       "1677398443  2023-02-26 11:00:43   23152.512    23150.441   \n",
       "1677398503  2023-02-26 11:01:43   23152.500    23147.592   \n",
       "1677398563  2023-02-26 11:02:43   23152.490    23148.148   \n",
       "1677398623  2023-02-26 11:03:43   23161.690    23158.102   \n",
       "1677398683  2023-02-26 11:04:43   23148.450    23148.410   \n",
       "\n",
       "                                                         asks  \\\n",
       "ts                                                              \n",
       "1677398443  {'23152.51': 0.002093, '23155.87': 0.057322, '...   \n",
       "1677398503  {'23152.50': 0.647878, '23155.87': 0.057322, '...   \n",
       "1677398563  {'23152.49': 0.817561, '23152.50': 0.647878, '...   \n",
       "1677398623  {'23161.69': 0.81715, '23161.70': 0.056663, '2...   \n",
       "1677398683  {'23148.45': 0.000205, '23148.46': 0.003257, '...   \n",
       "\n",
       "                                                         bids   buy_vol  \\\n",
       "ts                                                                        \n",
       "1677398443  {'23150.44': 1.059529, '23150.43': 0.000353, '...  0.006216   \n",
       "1677398503  {'23147.59': 0.001354, '23147.58': 0.002099, '...  0.012029   \n",
       "1677398563  {'23148.15': 0.304896, '23148.14': 0.001354, '...  0.019433   \n",
       "1677398623  {'23158.10': 0.305176, '23158.09': 0.647721, '...  0.018082   \n",
       "1677398683  {'23148.41': 0.314122, '23146.30': 0.000201, '...  0.037033   \n",
       "\n",
       "            sell_vol  total_vol  buy_num  sell_num  total_num  \n",
       "ts                                                             \n",
       "1677398443  0.032863   0.039079        5         7         12  \n",
       "1677398503  0.010726   0.022755        3         4          7  \n",
       "1677398563  0.012837   0.032270       11         8         19  \n",
       "1677398623  0.012298   0.030380       10         7         17  \n",
       "1677398683  0.001243   0.038276       12         2         14  "
      ]
     },
     "execution_count": 6,
     "metadata": {},
     "output_type": "execute_result"
    }
   ],
   "source": [
    "dataset.head()"
   ]
  },
  {
   "cell_type": "markdown",
   "metadata": {},
   "source": [
    "## DataPoint"
   ]
  },
  {
   "cell_type": "code",
   "execution_count": 7,
   "metadata": {},
   "outputs": [],
   "source": [
    "\"\"\"\n",
    "Класс DataPoint реализован, чтобы передать текущее представление точки данных в z_core.\n",
    "\n",
    "Данный класс решает несколько проблем:\n",
    " 1. На этапе обучение позвозяет передать дополнительные данные о точках в будущем\n",
    " для расчета индикатора тренда. В целевом решении эта задача будет решаться с помощью дополнительной модели.\n",
    "\n",
    " 2.Содержит в себе необходимые методы для получения нужных представлений данных.\n",
    "\n",
    "Основные тезисы:\n",
    " - Индексы реальные, не обнуляются (не начинаются с нуля).\n",
    " - Текущее значение имеет индекс с максимальным значением, остальные значения считаются историчсекими.\n",
    " - Информация о будущих точках представлена в отдельном поле и не пересекается с датасетом.\n",
    " - Реализация DataPoint отвязана от названий полей, чтобы была возможность работать с разными датасетами.\n",
    "\n",
    "\"\"\"\n",
    "import numpy as np\n",
    "\n",
    "from basic_application import with_exception\n",
    "\n",
    "\n",
    "class DataPointError(Exception):\n",
    "    pass\n",
    "\n",
    "\n",
    "class DataPoint:\n",
    "    def __init__(self, data, future_points=0, observation_len=5):\n",
    "        self.data = data\n",
    "        self.offset = future_points\n",
    "        self.observation_len = observation_len\n",
    "\n",
    "        # Верхушка observation = текущая точка данных\n",
    "        self.cursor = data.shape[0] - self.offset - 1\n",
    "        self.current_idx = data.index.values[self.cursor]\n",
    "\n",
    "        self.period = data.index[1] - data.index[0]\n",
    "\n",
    "    def get_points(self, scale_factor=1, num=None):\n",
    "        \"\"\"Возвращает индексы по реперным точкам - т.е. будет соответствовать количеству запрошенных точек\"\"\"\n",
    "        if num is None:\n",
    "            num = self.observation_len\n",
    "\n",
    "        if num >= 0:\n",
    "            up_bound = self.cursor + 1\n",
    "            low_bound = up_bound - (num - 1) * scale_factor - 1\n",
    "        else:\n",
    "            low_bound = self.cursor + scale_factor\n",
    "            up_bound = low_bound - num * scale_factor\n",
    "\n",
    "        idxs = self.data.index.values[low_bound : up_bound : scale_factor]\n",
    "        return idxs\n",
    "\n",
    "    def get_indexes(self, scale_factor=1, num=None):\n",
    "        \"\"\"Возвращает все индексы, в том числе расположенные между реперными точками\"\"\"\n",
    "        if num is None:\n",
    "            num = self.observation_len\n",
    "\n",
    "        if num >= 0:\n",
    "            up_bound = self.cursor + 1\n",
    "            low_bound = up_bound - num * scale_factor\n",
    "\n",
    "        else:\n",
    "            low_bound = self.cursor + 1\n",
    "            up_bound = low_bound - num * scale_factor\n",
    "\n",
    "        #idxs = self.data.index.values[low_bound : up_bound : 1]\n",
    "        #return idxs\n",
    "        return low_bound, up_bound\n",
    "\n",
    "    def get_values(self, name, scale_factor=1, num=None):\n",
    "        if num is None:\n",
    "            num = self.observation_len\n",
    "            \n",
    "        low_bound, up_bound = self.get_indexes(scale_factor=scale_factor, num=num)\n",
    "        col = self.data.loc[:, name].values\n",
    "        result = col[low_bound: up_bound]\n",
    "\n",
    "        return result\n",
    "    \n",
    "    def get_value(self, name, scale_factor, idx=None):\n",
    "        \"\"\"Метод возвращает одно значение. По умолчанию для текущего индекса.\n",
    "        Индекс можно задать из вне. Данные возвращаются с учетом scale_factor\n",
    "        Расчет по одной точке (_build_point в AbstractFeatureWithHistory) для scalefactor>1 будет неточным -\n",
    "        там надо считать все сразу. Надо исследовать, сходу сложно оценить.\n",
    "        \"\"\"\n",
    "        if idx is None:\n",
    "            idx = self.current_idx\n",
    "            \n",
    "        cursor = np.where(self.data.index.values == idx)[0][0]\n",
    "        col = self.data.loc[:, name].values\n",
    "        \n",
    "        result = col[cursor - scale_factor + 1 : cursor+1]\n",
    "        return result\n",
    "        \n",
    "\n",
    "    def get_current_index(self):\n",
    "        return self.current_idx\n",
    "\n",
    "\n"
   ]
  },
  {
   "cell_type": "code",
   "execution_count": 8,
   "metadata": {},
   "outputs": [
    {
     "ename": "NameError",
     "evalue": "name 'dp' is not defined",
     "output_type": "error",
     "traceback": [
      "\u001b[0;31m---------------------------------------------------------------------------\u001b[0m",
      "\u001b[0;31mNameError\u001b[0m                                 Traceback (most recent call last)",
      "Input \u001b[0;32mIn [8]\u001b[0m, in \u001b[0;36m<cell line: 1>\u001b[0;34m()\u001b[0m\n\u001b[0;32m----> 1\u001b[0m current_rate \u001b[38;5;241m=\u001b[39m \u001b[43mdp\u001b[49m\u001b[38;5;241m.\u001b[39mget_value(\u001b[38;5;124m\"\u001b[39m\u001b[38;5;124mhighest_bid\u001b[39m\u001b[38;5;124m\"\u001b[39m, scale_factor\u001b[38;5;241m=\u001b[39m\u001b[38;5;241m1\u001b[39m)\n\u001b[1;32m      2\u001b[0m current_rate\n",
      "\u001b[0;31mNameError\u001b[0m: name 'dp' is not defined"
     ]
    }
   ],
   "source": [
    "current_rate = dp.get_value(\"highest_bid\", scale_factor=1)\n",
    "current_rate"
   ]
  },
  {
   "cell_type": "code",
   "execution_count": 106,
   "metadata": {},
   "outputs": [
    {
     "data": {
      "text/plain": [
       "array([23138.96 , 23154.03 , 23154.03 , 23162.89 , 23163.94 , 23173.87 ,\n",
       "       23182.19 , 23175.229, 23162.129, 23175.229, 23175.229, 23174.55 ])"
      ]
     },
     "execution_count": 106,
     "metadata": {},
     "output_type": "execute_result"
    }
   ],
   "source": [
    "col = dp.data.loc[:, \"lowest_ask\"].values\n",
    "col"
   ]
  },
  {
   "cell_type": "code",
   "execution_count": 107,
   "metadata": {},
   "outputs": [
    {
     "data": {
      "text/plain": [
       "array([23163.94, 23173.87])"
      ]
     },
     "execution_count": 107,
     "metadata": {},
     "output_type": "execute_result"
    }
   ],
   "source": [
    "cursor = 5\n",
    "scale_factor = 2\n",
    "result = col[cursor - scale_factor + 1 : cursor + 1]\n",
    "result"
   ]
  },
  {
   "cell_type": "markdown",
   "metadata": {},
   "source": [
    "## Datapoint Factory"
   ]
  },
  {
   "cell_type": "code",
   "execution_count": 9,
   "metadata": {},
   "outputs": [],
   "source": [
    "\"\"\"\n",
    "Рефакторинг DataPointFactory\n",
    "Цель - запилить фабрику, работающую с любым шагом датасета\n",
    "\n",
    "\"\"\"\n",
    "\n",
    "#from .data_point import DataPoint\n",
    "import numpy as np\n",
    "import logging\n",
    "from basic_application import with_exception\n",
    "\n",
    "logger = logging.getLogger(__name__)\n",
    "\n",
    "\n",
    "class DataPointFactoryError(Exception):\n",
    "    pass\n",
    "\n",
    "\n",
    "class DataPointFactory2:\n",
    "    def __init__(self, dataset, step_size=1, offset=10, observation_len=10, future_points=0):\n",
    "        \"\"\"\n",
    "        Все параметры указываются в единицах, без привязки к шагу датасета\n",
    "        :param dataset: pandas dataframe с данными\n",
    "        :param step_size: шаг по датасету. Указывается в единицах\n",
    "        :param offest: 'хвост' с историческими данными - количество точек, которые надо захватить. \n",
    "        Рассчитывается как произведение n_observation на max scale_factor\n",
    "        :param observation_len: количество точек в наблюдении\n",
    "        :param future_points: количество точек в будущем\n",
    "        \"\"\"\n",
    "        self.dataset = dataset\n",
    "        self.offset = offset\n",
    "        self.step_size = step_size\n",
    "        self.observation_len = observation_len\n",
    "        self.future_points = future_points\n",
    "\n",
    "        #self.period = self.dataset.index[1] - self.dataset.index[0]\n",
    "        self.max_step = self.dataset.shape[0]\n",
    "        self.cursor = self.offset\n",
    "        self.done = True\n",
    "\n",
    "        self.reset()\n",
    "\n",
    "    def reset(self):\n",
    "        \"\"\"Сброс в начальное состояние\"\"\"\n",
    "        self.done = False\n",
    "\n",
    "        # Курсор устанавливается на значение, которое отстоит от начала так, чтобы от начала\n",
    "        # до курсора был размер данных для одного датапоинта.\n",
    "        self.cursor = self.offset #min(self.dataset.index) + self.period * (self.offset - 1)\n",
    "        data_point = self.get_current_step()\n",
    "        return data_point\n",
    "    \n",
    "    def get_current_step(self):\n",
    "        \"\"\" Возвращает текущий data_point\"\"\"\n",
    "        data = self.dataset.iloc[self.cursor - self.offset : self.cursor + self.future_points, :]\n",
    "\n",
    "        data_point = DataPoint(\n",
    "            data,\n",
    "            future_points=self.future_points,\n",
    "            observation_len=self.observation_len\n",
    "        )\n",
    "        return data_point\n",
    "\n",
    "    def get_next_step(self):\n",
    "        \"\"\"Переводит курсор на величину шага и возвращает data_point\"\"\"\n",
    "        if not self.done:\n",
    "            self.cursor = self.cursor + self.step_size\n",
    "\n",
    "        if self.cursor >= self.max_step:\n",
    "            self.done = True\n",
    "        else:\n",
    "            self.done = False\n",
    "\n",
    "        data_point = self.get_current_step()\n",
    "        return data_point, self.done\n"
   ]
  },
  {
   "cell_type": "code",
   "execution_count": 10,
   "metadata": {},
   "outputs": [],
   "source": [
    "dpf = DataPointFactory2(dataset, step_size=3, offset=10, observation_len=10, future_points=2)"
   ]
  },
  {
   "cell_type": "code",
   "execution_count": 11,
   "metadata": {},
   "outputs": [],
   "source": [
    "dp = dpf.get_current_step()"
   ]
  },
  {
   "cell_type": "code",
   "execution_count": 12,
   "metadata": {},
   "outputs": [],
   "source": [
    "dp, done = dpf.get_next_step()"
   ]
  },
  {
   "cell_type": "code",
   "execution_count": 13,
   "metadata": {},
   "outputs": [
    {
     "data": {
      "text/html": [
       "<div>\n",
       "<style scoped>\n",
       "    .dataframe tbody tr th:only-of-type {\n",
       "        vertical-align: middle;\n",
       "    }\n",
       "\n",
       "    .dataframe tbody tr th {\n",
       "        vertical-align: top;\n",
       "    }\n",
       "\n",
       "    .dataframe thead th {\n",
       "        text-align: right;\n",
       "    }\n",
       "</style>\n",
       "<table border=\"1\" class=\"dataframe\">\n",
       "  <thead>\n",
       "    <tr style=\"text-align: right;\">\n",
       "      <th></th>\n",
       "      <th>dt</th>\n",
       "      <th>lowest_ask</th>\n",
       "      <th>highest_bid</th>\n",
       "      <th>asks</th>\n",
       "      <th>bids</th>\n",
       "      <th>buy_vol</th>\n",
       "      <th>sell_vol</th>\n",
       "      <th>total_vol</th>\n",
       "      <th>buy_num</th>\n",
       "      <th>sell_num</th>\n",
       "      <th>total_num</th>\n",
       "    </tr>\n",
       "    <tr>\n",
       "      <th>ts</th>\n",
       "      <th></th>\n",
       "      <th></th>\n",
       "      <th></th>\n",
       "      <th></th>\n",
       "      <th></th>\n",
       "      <th></th>\n",
       "      <th></th>\n",
       "      <th></th>\n",
       "      <th></th>\n",
       "      <th></th>\n",
       "      <th></th>\n",
       "    </tr>\n",
       "  </thead>\n",
       "  <tbody>\n",
       "    <tr>\n",
       "      <th>1677398623</th>\n",
       "      <td>2023-02-26 11:03:43</td>\n",
       "      <td>23161.690</td>\n",
       "      <td>23158.102</td>\n",
       "      <td>{'23161.69': 0.81715, '23161.70': 0.056663, '2...</td>\n",
       "      <td>{'23158.10': 0.305176, '23158.09': 0.647721, '...</td>\n",
       "      <td>0.018082</td>\n",
       "      <td>0.012298</td>\n",
       "      <td>0.030380</td>\n",
       "      <td>10</td>\n",
       "      <td>7</td>\n",
       "      <td>17</td>\n",
       "    </tr>\n",
       "    <tr>\n",
       "      <th>1677398683</th>\n",
       "      <td>2023-02-26 11:04:43</td>\n",
       "      <td>23148.450</td>\n",
       "      <td>23148.410</td>\n",
       "      <td>{'23148.45': 0.000205, '23148.46': 0.003257, '...</td>\n",
       "      <td>{'23148.41': 0.314122, '23146.30': 0.000201, '...</td>\n",
       "      <td>0.037033</td>\n",
       "      <td>0.001243</td>\n",
       "      <td>0.038276</td>\n",
       "      <td>12</td>\n",
       "      <td>2</td>\n",
       "      <td>14</td>\n",
       "    </tr>\n",
       "    <tr>\n",
       "      <th>1677398743</th>\n",
       "      <td>2023-02-26 11:05:43</td>\n",
       "      <td>23144.389</td>\n",
       "      <td>23142.240</td>\n",
       "      <td>{'23144.39': 0.793314, '23144.40': 0.648104, '...</td>\n",
       "      <td>{'23142.24': 0.329244, '23142.23': 0.000201, '...</td>\n",
       "      <td>0.020705</td>\n",
       "      <td>0.009659</td>\n",
       "      <td>0.030364</td>\n",
       "      <td>12</td>\n",
       "      <td>6</td>\n",
       "      <td>18</td>\n",
       "    </tr>\n",
       "    <tr>\n",
       "      <th>1677398803</th>\n",
       "      <td>2023-02-26 11:06:43</td>\n",
       "      <td>23143.560</td>\n",
       "      <td>23138.600</td>\n",
       "      <td>{'23143.56': 0.790106, '23143.57': 0.001306, '...</td>\n",
       "      <td>{'23138.60': 0.332524, '23138.59': 0.000201, '...</td>\n",
       "      <td>0.030491</td>\n",
       "      <td>0.002579</td>\n",
       "      <td>0.033070</td>\n",
       "      <td>11</td>\n",
       "      <td>5</td>\n",
       "      <td>16</td>\n",
       "    </tr>\n",
       "    <tr>\n",
       "      <th>1677398863</th>\n",
       "      <td>2023-02-26 11:07:43</td>\n",
       "      <td>23133.709</td>\n",
       "      <td>23131.361</td>\n",
       "      <td>{'23133.71': 0.9562, '23133.72': 0.002125, '23...</td>\n",
       "      <td>{'23131.36': 0.1665, '23131.35': 0.000967, '23...</td>\n",
       "      <td>0.011956</td>\n",
       "      <td>0.197516</td>\n",
       "      <td>0.209472</td>\n",
       "      <td>6</td>\n",
       "      <td>11</td>\n",
       "      <td>17</td>\n",
       "    </tr>\n",
       "  </tbody>\n",
       "</table>\n",
       "</div>"
      ],
      "text/plain": [
       "                             dt  lowest_ask  highest_bid  \\\n",
       "ts                                                         \n",
       "1677398623  2023-02-26 11:03:43   23161.690    23158.102   \n",
       "1677398683  2023-02-26 11:04:43   23148.450    23148.410   \n",
       "1677398743  2023-02-26 11:05:43   23144.389    23142.240   \n",
       "1677398803  2023-02-26 11:06:43   23143.560    23138.600   \n",
       "1677398863  2023-02-26 11:07:43   23133.709    23131.361   \n",
       "\n",
       "                                                         asks  \\\n",
       "ts                                                              \n",
       "1677398623  {'23161.69': 0.81715, '23161.70': 0.056663, '2...   \n",
       "1677398683  {'23148.45': 0.000205, '23148.46': 0.003257, '...   \n",
       "1677398743  {'23144.39': 0.793314, '23144.40': 0.648104, '...   \n",
       "1677398803  {'23143.56': 0.790106, '23143.57': 0.001306, '...   \n",
       "1677398863  {'23133.71': 0.9562, '23133.72': 0.002125, '23...   \n",
       "\n",
       "                                                         bids   buy_vol  \\\n",
       "ts                                                                        \n",
       "1677398623  {'23158.10': 0.305176, '23158.09': 0.647721, '...  0.018082   \n",
       "1677398683  {'23148.41': 0.314122, '23146.30': 0.000201, '...  0.037033   \n",
       "1677398743  {'23142.24': 0.329244, '23142.23': 0.000201, '...  0.020705   \n",
       "1677398803  {'23138.60': 0.332524, '23138.59': 0.000201, '...  0.030491   \n",
       "1677398863  {'23131.36': 0.1665, '23131.35': 0.000967, '23...  0.011956   \n",
       "\n",
       "            sell_vol  total_vol  buy_num  sell_num  total_num  \n",
       "ts                                                             \n",
       "1677398623  0.012298   0.030380       10         7         17  \n",
       "1677398683  0.001243   0.038276       12         2         14  \n",
       "1677398743  0.009659   0.030364       12         6         18  \n",
       "1677398803  0.002579   0.033070       11         5         16  \n",
       "1677398863  0.197516   0.209472        6        11         17  "
      ]
     },
     "execution_count": 13,
     "metadata": {},
     "output_type": "execute_result"
    }
   ],
   "source": [
    "dp.data.head()"
   ]
  },
  {
   "cell_type": "code",
   "execution_count": 113,
   "metadata": {},
   "outputs": [],
   "source": [
    "import numpy as np"
   ]
  },
  {
   "cell_type": "code",
   "execution_count": 114,
   "metadata": {},
   "outputs": [],
   "source": [
    "result = np.where(dp.data.index.values == 1675191071)"
   ]
  },
  {
   "cell_type": "code",
   "execution_count": 115,
   "metadata": {},
   "outputs": [
    {
     "data": {
      "text/plain": [
       "6"
      ]
     },
     "execution_count": 115,
     "metadata": {},
     "output_type": "execute_result"
    }
   ],
   "source": [
    "result[0][0]"
   ]
  },
  {
   "cell_type": "code",
   "execution_count": 34,
   "metadata": {},
   "outputs": [
    {
     "name": "stdout",
     "output_type": "stream",
     "text": [
      "duration 3.421\n"
     ]
    }
   ],
   "source": [
    "st = time.time()\n",
    "for i in range(100000):\n",
    "    try:\n",
    "        val = dp.get_value(\"lowest_ask\", scale_factor=2)\n",
    "    except KeyError:\n",
    "        val = 0\n",
    "print(f\"duration {time.time()-st:.3f}\")"
   ]
  },
  {
   "cell_type": "markdown",
   "metadata": {},
   "source": [
    "## Perfomance test"
   ]
  },
  {
   "cell_type": "code",
   "execution_count": 116,
   "metadata": {},
   "outputs": [],
   "source": [
    "import cProfile"
   ]
  },
  {
   "cell_type": "code",
   "execution_count": 18,
   "metadata": {},
   "outputs": [],
   "source": [
    "\n",
    "def perfomance_test(dataset):\n",
    "    dpf = DataPointFactory2(dataset, step_size=1, offset=100, observation_len=10, future_points=0)\n",
    "    dp = dpf.reset()\n",
    "    done = False\n",
    "    scale_factor = (1,2,5,10)\n",
    "\n",
    "    while not done:\n",
    "        dp, done = dpf.get_next_step()\n",
    "        for sf in scale_factor:\n",
    "            dp.get_points(scale_factor=sf)\n",
    "            dp.get_indexes(scale_factor=sf)\n",
    "            dp.get_values(\"lowest_ask\", scale_factor=sf)\n",
    "            dp.get_value(\"lowest_ask\", scale_factor=sf)\n"
   ]
  },
  {
   "cell_type": "code",
   "execution_count": 118,
   "metadata": {},
   "outputs": [],
   "source": [
    "#%prun perfomance_test(dataset)    "
   ]
  },
  {
   "cell_type": "code",
   "execution_count": 119,
   "metadata": {},
   "outputs": [
    {
     "name": "stdout",
     "output_type": "stream",
     "text": [
      "         5743130 function calls (5733324 primitive calls) in 2.943 seconds\n",
      "\n",
      "   Ordered by: standard name\n",
      "\n",
      "   ncalls  tottime  percall  cumtime  percall filename:lineno(function)\n",
      "        1    0.060    0.060    2.943    2.943 3631435050.py:1(perfomance_test)\n",
      "        1    0.000    0.000    0.000    0.000 3878179567.py:20(__init__)\n",
      "        2    0.000    0.000    0.000    0.000 3878179567.py:43(reset)\n",
      "     4902    0.015    0.000    0.462    0.000 3878179567.py:53(get_current_step)\n",
      "     4900    0.007    0.000    0.468    0.000 3878179567.py:64(get_next_step)\n",
      "     4902    0.017    0.000    0.048    0.000 486743214.py:27(__init__)\n",
      "    19600    0.030    0.000    0.034    0.000 486743214.py:38(get_points)\n",
      "    39200    0.014    0.000    0.014    0.000 486743214.py:53(get_indexes)\n",
      "    19600    0.048    0.000    1.190    0.000 486743214.py:70(get_values)\n",
      "    19600    0.162    0.000    1.183    0.000 486743214.py:92(get_value)\n",
      "    19600    0.018    0.000    0.049    0.000 <__array_function__ internals>:2(where)\n",
      "        1    0.000    0.000    2.943    2.943 <string>:1(<module>)\n",
      "     4900    0.002    0.000    0.002    0.000 base.py:2344(is_floating)\n",
      "    39200    0.005    0.000    0.005    0.000 base.py:326(ndim)\n",
      "     4900    0.005    0.000    0.018    0.000 base.py:3577(get_loc)\n",
      "     4902    0.005    0.000    0.011    0.000 base.py:3999(_validate_positional_slice)\n",
      "    44102    0.008    0.000    0.008    0.000 base.py:4786(values)\n",
      "    39200    0.028    0.000    0.033    0.000 base.py:4973(__contains__)\n",
      "    19604    0.020    0.000    0.032    0.000 base.py:5023(__getitem__)\n",
      "     4902    0.006    0.000    0.018    0.000 base.py:5071(_getitem_slice)\n",
      "     4900    0.004    0.000    0.008    0.000 base.py:6284(_maybe_cast_indexer)\n",
      "    14706    0.005    0.000    0.006    0.000 base.py:6299(_validate_indexer)\n",
      "     4902    0.007    0.000    0.012    0.000 base.py:654(_simple_new)\n",
      "     4902    0.002    0.000    0.002    0.000 base.py:834(_reset_identity)\n",
      "     9806    0.003    0.000    0.005    0.000 base.py:884(__len__)\n",
      "    39200    0.017    0.000    0.051    0.000 blocks.py:209(external_values)\n",
      "    39200    0.021    0.000    0.034    0.000 blocks.py:2239(external_values)\n",
      "     4900    0.004    0.000    0.004    0.000 blocks.py:358(iget)\n",
      "    49004    0.041    0.000    0.153    0.000 common.py:105(is_bool_indexer)\n",
      "    24504    0.008    0.000    0.011    0.000 common.py:160(cast_scalar_indexer)\n",
      "    49004    0.023    0.000    0.028    0.000 common.py:297(is_null_slice)\n",
      "   127404    0.031    0.000    0.045    0.000 common.py:346(apply_if_callable)\n",
      "    44102    0.013    0.000    0.013    0.000 contextlib.py:376(__init__)\n",
      "    44102    0.005    0.000    0.005    0.000 contextlib.py:379(__enter__)\n",
      "    44102    0.008    0.000    0.009    0.000 contextlib.py:382(__exit__)\n",
      "     9802    0.007    0.000    0.007    0.000 flags.py:47(__init__)\n",
      "     9802    0.002    0.000    0.002    0.000 flags.py:51(allows_duplicate_labels)\n",
      "     9802    0.008    0.000    0.008    0.000 flags.py:83(allows_duplicate_labels)\n",
      "     4900    0.011    0.000    0.135    0.000 frame.py:3411(_ixs)\n",
      "    39200    0.119    0.000    0.429    0.000 frame.py:3463(__getitem__)\n",
      "     4900    0.012    0.000    0.067    0.000 frame.py:3906(_box_col_values)\n",
      "    39200    0.029    0.000    0.190    0.000 frame.py:3923(_get_item_cache)\n",
      "     4902    0.001    0.000    0.001    0.000 frame.py:578(_constructor)\n",
      "     4902    0.007    0.000    0.025    0.000 frame.py:587(__init__)\n",
      "    44102    0.022    0.000    0.022    0.000 frame.py:804(axes)\n",
      "     4903    0.004    0.000    0.014    0.000 frame.py:821(shape)\n",
      "     9802    0.024    0.000    0.031    0.000 generic.py:239(__init__)\n",
      "     9802    0.003    0.000    0.003    0.000 generic.py:328(attrs)\n",
      "    19604    0.003    0.000    0.003    0.000 generic.py:349(flags)\n",
      "    39200    0.052    0.000    0.519    0.000 generic.py:3722(xs)\n",
      "     4902    0.020    0.000    0.154    0.000 generic.py:3908(_slice)\n",
      "     4902    0.004    0.000    0.008    0.000 generic.py:3925(_set_is_copy)\n",
      "   102910    0.031    0.000    0.043    0.000 generic.py:43(_check)\n",
      "   171506    0.034    0.000    0.034    0.000 generic.py:546(_get_axis_number)\n",
      "     9802    0.034    0.000    0.052    0.000 generic.py:5517(__finalize__)\n",
      "    14702    0.020    0.000    0.020    0.000 generic.py:5577(__setattr__)\n",
      "   127404    0.076    0.000    0.102    0.000 generic.py:560(_get_axis)\n",
      "     4902    0.003    0.000    0.004    0.000 generic.py:566(_get_block_manager_axis)\n",
      "    49004    0.012    0.000    0.012    0.000 generic.py:660(ndim)\n",
      "    39200    0.014    0.000    0.022    0.000 indexing.py:1001(_validate_key)\n",
      "    39200    0.052    0.000    0.101    0.000 indexing.py:1023(_is_scalar_access)\n",
      "    39200    0.088    0.000    1.467    0.000 indexing.py:1137(_getitem_tuple)\n",
      "    39200    0.026    0.000    0.545    0.000 indexing.py:1151(_get_label)\n",
      "    39200    0.094    0.000    0.842    0.000 indexing.py:1169(_getitem_axis)\n",
      "     9804    0.003    0.000    0.003    0.000 indexing.py:130(iloc)\n",
      "     9804    0.006    0.000    0.039    0.000 indexing.py:1343(_validate_key)\n",
      "     4902    0.008    0.000    0.015    0.000 indexing.py:1419(_is_scalar_access)\n",
      "     9804    0.003    0.000    0.004    0.000 indexing.py:1432(<genexpr>)\n",
      "     4902    0.015    0.000    0.329    0.000 indexing.py:1456(_getitem_tuple)\n",
      "     4902    0.004    0.000    0.188    0.000 indexing.py:1487(_getitem_axis)\n",
      "     4902    0.010    0.000    0.180    0.000 indexing.py:1524(_get_slice_axis)\n",
      "    88204    0.036    0.000    0.069    0.000 indexing.py:2454(is_label_like)\n",
      "     4902    0.001    0.000    0.001    0.000 indexing.py:2468(need_slice)\n",
      "    83302    0.087    0.000    0.253    0.000 indexing.py:2481(check_deprecated_indexers)\n",
      "   132306    0.030    0.000    0.040    0.000 indexing.py:2486(<genexpr>)\n",
      "   132306    0.025    0.000    0.034    0.000 indexing.py:2497(<genexpr>)\n",
      "    39200    0.013    0.000    0.013    0.000 indexing.py:267(loc)\n",
      "    44102    0.023    0.000    0.071    0.000 indexing.py:740(_expand_ellipsis)\n",
      "   132306    0.020    0.000    0.020    0.000 indexing.py:745(<genexpr>)\n",
      "     4902    0.009    0.000    0.058    0.000 indexing.py:761(_validate_tuple_indexer)\n",
      "    44102    0.042    0.000    0.135    0.000 indexing.py:777(_is_nested_tuple_indexer)\n",
      "   132306    0.030    0.000    0.045    0.000 indexing.py:783(<genexpr>)\n",
      "    49004    0.019    0.000    0.025    0.000 indexing.py:804(_validate_key_length)\n",
      "     4902    0.014    0.000    0.212    0.000 indexing.py:815(_getitem_tuple_same_dim)\n",
      "    44102    0.182    0.000    1.333    0.000 indexing.py:834(_getitem_lowerdim)\n",
      "    44102    0.139    0.000    2.387    0.000 indexing.py:954(__getitem__)\n",
      "   132306    0.029    0.000    0.039    0.000 indexing.py:957(<genexpr>)\n",
      "   132306    0.051    0.000    0.082    0.000 indexing.py:958(<genexpr>)\n",
      "    49004    0.012    0.000    0.026    0.000 inference.py:184(is_array_like)\n",
      "    39200    0.013    0.000    0.020    0.000 inference.py:321(is_hashable)\n",
      "     4900    0.022    0.000    0.032    0.000 managers.py:1016(iget)\n",
      "     4900    0.001    0.000    0.001    0.000 managers.py:156(blknos)\n",
      "     4900    0.003    0.000    0.003    0.000 managers.py:1700(__init__)\n",
      "     4900    0.001    0.000    0.001    0.000 managers.py:172(blklocs)\n",
      "     4900    0.001    0.000    0.001    0.000 managers.py:1792(_block)\n",
      "    39200    0.028    0.000    0.080    0.000 managers.py:1844(external_values)\n",
      "     4902    0.001    0.000    0.001    0.000 managers.py:919(__init__)\n",
      "    19600    0.004    0.000    0.004    0.000 multiarray.py:341(where)\n",
      "     4900    0.004    0.000    0.016    0.000 series.py:1238(_set_as_cached)\n",
      "     4900    0.006    0.000    0.021    0.000 series.py:323(__init__)\n",
      "    39200    0.021    0.000    0.101    0.000 series.py:645(values)\n",
      "    78400    0.019    0.000    0.038    0.000 utils.py:69(is_list_like_indexer)\n",
      "     4902    0.002    0.000    0.002    0.000 {built-in method __new__ of type object at 0x1071a4d58}\n",
      "     4902    0.001    0.000    0.004    0.000 {built-in method builtins.all}\n",
      "   176408    0.113    0.000    0.252    0.000 {built-in method builtins.any}\n",
      "   127404    0.014    0.000    0.014    0.000 {built-in method builtins.callable}\n",
      "        1    0.000    0.000    2.943    2.943 {built-in method builtins.exec}\n",
      "   107812    0.014    0.000    0.016    0.000 {built-in method builtins.getattr}\n",
      "    78400    0.012    0.000    0.012    0.000 {built-in method builtins.hash}\n",
      "  1205456    0.179    0.000    0.222    0.000 {built-in method builtins.isinstance}\n",
      "     4902    0.001    0.000    0.001    0.000 {built-in method builtins.issubclass}\n",
      "156818/147012    0.024    0.000    0.027    0.000 {built-in method builtins.len}\n",
      "    19600    0.027    0.000    0.027    0.000 {built-in method numpy.core._multiarray_umath.implement_array_function}\n",
      "        1    0.000    0.000    0.000    0.000 {method 'disable' of '_lsprof.Profiler' objects}\n",
      "    39200    0.005    0.000    0.005    0.000 {method 'get' of 'dict' objects}\n",
      "     4900    0.005    0.000    0.005    0.000 {method 'get_loc' of 'pandas._libs.index.IndexEngine' objects}\n",
      "     4902    0.052    0.000    0.071    0.000 {method 'get_slice' of 'pandas._libs.internals.BlockManager' objects}\n",
      "    24504    0.003    0.000    0.003    0.000 {pandas._libs.lib.is_float}\n",
      "    34310    0.005    0.000    0.005    0.000 {pandas._libs.lib.is_integer}\n",
      "   166604    0.018    0.000    0.018    0.000 {pandas._libs.lib.is_iterator}\n",
      "   127404    0.033    0.000    0.033    0.000 {pandas._libs.lib.is_list_like}\n",
      "    39200    0.034    0.000    0.034    0.000 {pandas._libs.lib.is_scalar}\n",
      "    78400    0.010    0.000    0.010    0.000 {pandas._libs.lib.item_from_zerodim}\n",
      "\n",
      "\n"
     ]
    }
   ],
   "source": [
    "cProfile.run(\"perfomance_test(dataset)\")"
   ]
  },
  {
   "cell_type": "code",
   "execution_count": 72,
   "metadata": {},
   "outputs": [
    {
     "name": "stdout",
     "output_type": "stream",
     "text": [
      "         7786430 function calls (7757024 primitive calls) in 4.132 seconds\n",
      "\n",
      "   Ordered by: standard name\n",
      "\n",
      "   ncalls  tottime  percall  cumtime  percall filename:lineno(function)\n",
      "     4902    0.017    0.000    0.047    0.000 2861719652.py:27(__init__)\n",
      "    19600    0.040    0.000    0.043    0.000 2861719652.py:38(get_points)\n",
      "    39200    0.014    0.000    0.014    0.000 2861719652.py:53(get_indexes)\n",
      "    19600    0.050    0.000    1.228    0.000 2861719652.py:70(get_values)\n",
      "    19600    0.047    0.000    2.306    0.000 2861719652.py:80(get_value)\n",
      "        1    0.088    0.088    4.132    4.132 3631435050.py:1(perfomance_test)\n",
      "        1    0.000    0.000    0.000    0.000 3878179567.py:20(__init__)\n",
      "        2    0.000    0.000    0.001    0.000 3878179567.py:43(reset)\n",
      "     4902    0.015    0.000    0.452    0.000 3878179567.py:53(get_current_step)\n",
      "     4900    0.007    0.000    0.458    0.000 3878179567.py:64(get_next_step)\n",
      "        1    0.000    0.000    4.132    4.132 <string>:1(<module>)\n",
      "    83300    0.024    0.000    0.032    0.000 base.py:2344(is_floating)\n",
      "    39200    0.005    0.000    0.005    0.000 base.py:326(ndim)\n",
      "    44100    0.037    0.000    0.172    0.000 base.py:3577(get_loc)\n",
      "     4902    0.005    0.000    0.011    0.000 base.py:3999(_validate_positional_slice)\n",
      "    24502    0.004    0.000    0.004    0.000 base.py:4786(values)\n",
      "    14700    0.002    0.000    0.002    0.000 base.py:4820(_values)\n",
      "     4900    0.002    0.000    0.003    0.000 base.py:4846(_get_engine_target)\n",
      "    39200    0.029    0.000    0.034    0.000 base.py:4973(__contains__)\n",
      "    39204    0.058    0.000    0.117    0.000 base.py:5023(__getitem__)\n",
      "     4902    0.005    0.000    0.016    0.000 base.py:5071(_getitem_slice)\n",
      "    19600    0.035    0.000    0.445    0.000 base.py:6224(slice_indexer)\n",
      "    83300    0.054    0.000    0.127    0.000 base.py:6284(_maybe_cast_indexer)\n",
      "    14706    0.004    0.000    0.006    0.000 base.py:6299(_validate_indexer)\n",
      "    39200    0.078    0.000    0.364    0.000 base.py:6358(get_slice_bound)\n",
      "    19600    0.030    0.000    0.401    0.000 base.py:6427(slice_locs)\n",
      "    24502    0.032    0.000    0.051    0.000 base.py:654(_simple_new)\n",
      "   117600    0.016    0.000    0.016    0.000 base.py:6933(_deprecated_arg)\n",
      "    24502    0.009    0.000    0.009    0.000 base.py:834(_reset_identity)\n",
      "     4900    0.012    0.000    0.018    0.000 base.py:845(_engine)\n",
      "     9806    0.003    0.000    0.005    0.000 base.py:884(__len__)\n",
      "     4900    0.002    0.000    0.002    0.000 base.py:937(dtype)\n",
      "    19600    0.010    0.000    0.028    0.000 blocks.py:209(external_values)\n",
      "    19600    0.011    0.000    0.018    0.000 blocks.py:2239(external_values)\n",
      "    19600    0.013    0.000    0.013    0.000 blocks.py:310(_slice)\n",
      "     4900    0.004    0.000    0.004    0.000 blocks.py:358(iget)\n",
      "    49004    0.043    0.000    0.157    0.000 common.py:105(is_bool_indexer)\n",
      "   102904    0.035    0.000    0.048    0.000 common.py:160(cast_scalar_indexer)\n",
      "    39200    0.024    0.000    0.089    0.000 common.py:1721(validate_all_hashable)\n",
      "    78400    0.022    0.000    0.042    0.000 common.py:1740(<genexpr>)\n",
      "    49004    0.022    0.000    0.027    0.000 common.py:297(is_null_slice)\n",
      "   147004    0.035    0.000    0.051    0.000 common.py:346(apply_if_callable)\n",
      "    44102    0.013    0.000    0.013    0.000 contextlib.py:376(__init__)\n",
      "    44102    0.005    0.000    0.005    0.000 contextlib.py:379(__enter__)\n",
      "    44102    0.008    0.000    0.009    0.000 contextlib.py:382(__exit__)\n",
      "    29402    0.019    0.000    0.019    0.000 flags.py:47(__init__)\n",
      "    29402    0.005    0.000    0.005    0.000 flags.py:51(allows_duplicate_labels)\n",
      "    29402    0.023    0.000    0.023    0.000 flags.py:83(allows_duplicate_labels)\n",
      "     4900    0.012    0.000    0.130    0.000 frame.py:3411(_ixs)\n",
      "    39200    0.124    0.000    0.427    0.000 frame.py:3463(__getitem__)\n",
      "     4900    0.012    0.000    0.065    0.000 frame.py:3906(_box_col_values)\n",
      "    39200    0.029    0.000    0.185    0.000 frame.py:3923(_get_item_cache)\n",
      "     4902    0.001    0.000    0.001    0.000 frame.py:578(_constructor)\n",
      "     4902    0.006    0.000    0.022    0.000 frame.py:587(__init__)\n",
      "    44102    0.024    0.000    0.024    0.000 frame.py:804(axes)\n",
      "     4903    0.004    0.000    0.014    0.000 frame.py:821(shape)\n",
      "    29402    0.073    0.000    0.093    0.000 generic.py:239(__init__)\n",
      "    29402    0.008    0.000    0.008    0.000 generic.py:328(attrs)\n",
      "    58804    0.010    0.000    0.010    0.000 generic.py:349(flags)\n",
      "    39200    0.053    0.000    0.518    0.000 generic.py:3722(xs)\n",
      "     4902    0.019    0.000    0.139    0.000 generic.py:3908(_slice)\n",
      "     4902    0.004    0.000    0.007    0.000 generic.py:3925(_set_is_copy)\n",
      "   102910    0.032    0.000    0.044    0.000 generic.py:43(_check)\n",
      "   210706    0.043    0.000    0.043    0.000 generic.py:546(_get_axis_number)\n",
      "    29402    0.111    0.000    0.232    0.000 generic.py:5517(__finalize__)\n",
      "    19600    0.019    0.000    0.019    0.000 generic.py:5561(__getattr__)\n",
      "    34302    0.060    0.000    0.177    0.000 generic.py:5577(__setattr__)\n",
      "   166604    0.104    0.000    0.139    0.000 generic.py:560(_get_axis)\n",
      "     4902    0.003    0.000    0.004    0.000 generic.py:566(_get_block_manager_axis)\n",
      "    49004    0.012    0.000    0.012    0.000 generic.py:660(ndim)\n",
      "    58800    0.028    0.000    0.044    0.000 indexing.py:1001(_validate_key)\n",
      "    39200    0.053    0.000    0.102    0.000 indexing.py:1023(_is_scalar_access)\n",
      "    39200    0.087    0.000    2.839    0.000 indexing.py:1137(_getitem_tuple)\n",
      "    39200    0.026    0.000    0.544    0.000 indexing.py:1151(_get_label)\n",
      "    58800    0.130    0.000    2.120    0.000 indexing.py:1169(_getitem_axis)\n",
      "    19600    0.044    0.000    1.193    0.000 indexing.py:1204(_get_slice_axis)\n",
      "     9804    0.003    0.000    0.003    0.000 indexing.py:130(iloc)\n",
      "     9804    0.006    0.000    0.040    0.000 indexing.py:1343(_validate_key)\n",
      "     4902    0.008    0.000    0.015    0.000 indexing.py:1419(_is_scalar_access)\n",
      "     9804    0.003    0.000    0.003    0.000 indexing.py:1432(<genexpr>)\n",
      "     4902    0.016    0.000    0.319    0.000 indexing.py:1456(_getitem_tuple)\n",
      "     4902    0.004    0.000    0.173    0.000 indexing.py:1487(_getitem_axis)\n",
      "     4902    0.009    0.000    0.164    0.000 indexing.py:1524(_get_slice_axis)\n",
      "    88204    0.037    0.000    0.071    0.000 indexing.py:2454(is_label_like)\n",
      "    24502    0.005    0.000    0.005    0.000 indexing.py:2468(need_slice)\n",
      "   102902    0.095    0.000    0.267    0.000 indexing.py:2481(check_deprecated_indexers)\n",
      "   132306    0.029    0.000    0.040    0.000 indexing.py:2486(<genexpr>)\n",
      "   132306    0.025    0.000    0.033    0.000 indexing.py:2497(<genexpr>)\n",
      "    58800    0.018    0.000    0.018    0.000 indexing.py:267(loc)\n",
      "    44102    0.022    0.000    0.068    0.000 indexing.py:740(_expand_ellipsis)\n",
      "   132306    0.019    0.000    0.019    0.000 indexing.py:745(<genexpr>)\n",
      "     4902    0.009    0.000    0.058    0.000 indexing.py:761(_validate_tuple_indexer)\n",
      "    44102    0.042    0.000    0.138    0.000 indexing.py:777(_is_nested_tuple_indexer)\n",
      "   132306    0.031    0.000    0.045    0.000 indexing.py:783(<genexpr>)\n",
      "    49004    0.019    0.000    0.024    0.000 indexing.py:804(_validate_key_length)\n",
      "     4902    0.014    0.000    0.197    0.000 indexing.py:815(_getitem_tuple_same_dim)\n",
      "    44102    0.210    0.000    2.712    0.000 indexing.py:834(_getitem_lowerdim)\n",
      "63702/44102    0.171    0.000    3.749    0.000 indexing.py:954(__getitem__)\n",
      "   132306    0.029    0.000    0.039    0.000 indexing.py:957(<genexpr>)\n",
      "   132306    0.052    0.000    0.083    0.000 indexing.py:958(<genexpr>)\n",
      "    49004    0.012    0.000    0.027    0.000 inference.py:184(is_array_like)\n",
      "    78400    0.026    0.000    0.039    0.000 inference.py:321(is_hashable)\n",
      "     4900    0.021    0.000    0.031    0.000 managers.py:1016(iget)\n",
      "     4900    0.001    0.000    0.001    0.000 managers.py:156(blknos)\n",
      "    24500    0.014    0.000    0.014    0.000 managers.py:1700(__init__)\n",
      "     4900    0.001    0.000    0.001    0.000 managers.py:172(blklocs)\n",
      "     4900    0.001    0.000    0.001    0.000 managers.py:1792(_block)\n",
      "    19600    0.074    0.000    0.193    0.000 managers.py:1806(getitem_mgr)\n",
      "    19600    0.005    0.000    0.005    0.000 managers.py:1833(index)\n",
      "    19600    0.018    0.000    0.047    0.000 managers.py:1844(external_values)\n",
      "     4902    0.001    0.000    0.001    0.000 managers.py:919(__init__)\n",
      "     4900    0.006    0.000    0.008    0.000 numeric.py:125(inferred_type)\n",
      "    39200    0.037    0.000    0.116    0.000 numeric.py:281(_maybe_cast_slice_bound)\n",
      "    19600    0.043    0.000    0.675    0.000 series.py:1042(_get_values)\n",
      "     4900    0.004    0.000    0.014    0.000 series.py:1238(_set_as_cached)\n",
      "    24500    0.032    0.000    0.274    0.000 series.py:323(__init__)\n",
      "    19600    0.003    0.000    0.003    0.000 series.py:523(_constructor)\n",
      "    39200    0.029    0.000    0.048    0.000 series.py:590(name)\n",
      "    39200    0.042    0.000    0.131    0.000 series.py:640(name)\n",
      "    19600    0.011    0.000    0.058    0.000 series.py:645(values)\n",
      "    19600    0.010    0.000    0.685    0.000 series.py:938(_slice)\n",
      "    78400    0.019    0.000    0.038    0.000 utils.py:69(is_list_like_indexer)\n",
      "    24502    0.007    0.000    0.007    0.000 {built-in method __new__ of type object at 0x1071a4d58}\n",
      "    44102    0.025    0.000    0.069    0.000 {built-in method builtins.all}\n",
      "   176408    0.110    0.000    0.248    0.000 {built-in method builtins.any}\n",
      "   147004    0.016    0.000    0.016    0.000 {built-in method builtins.callable}\n",
      "        1    0.000    0.000    4.132    4.132 {built-in method builtins.exec}\n",
      "   147012    0.030    0.000    0.039    0.000 {built-in method builtins.getattr}\n",
      "   117600    0.018    0.000    0.018    0.000 {built-in method builtins.hash}\n",
      "  1568056    0.219    0.000    0.263    0.000 {built-in method builtins.isinstance}\n",
      "     4902    0.001    0.000    0.001    0.000 {built-in method builtins.issubclass}\n",
      "176418/166612    0.027    0.000    0.030    0.000 {built-in method builtins.len}\n",
      "        1    0.000    0.000    0.000    0.000 {method 'disable' of '_lsprof.Profiler' objects}\n",
      "    39200    0.006    0.000    0.006    0.000 {method 'get' of 'dict' objects}\n",
      "    44100    0.065    0.000    0.065    0.000 {method 'get_loc' of 'pandas._libs.index.IndexEngine' objects}\n",
      "     4902    0.047    0.000    0.063    0.000 {method 'get_slice' of 'pandas._libs.internals.BlockManager' objects}\n",
      "   122504    0.015    0.000    0.015    0.000 {pandas._libs.lib.is_float}\n",
      "    53910    0.007    0.000    0.007    0.000 {pandas._libs.lib.is_integer}\n",
      "   186204    0.020    0.000    0.020    0.000 {pandas._libs.lib.is_iterator}\n",
      "   127404    0.034    0.000    0.034    0.000 {pandas._libs.lib.is_list_like}\n",
      "    78400    0.040    0.000    0.040    0.000 {pandas._libs.lib.is_scalar}\n",
      "    98000    0.012    0.000    0.012    0.000 {pandas._libs.lib.item_from_zerodim}\n",
      "\n",
      "\n"
     ]
    }
   ],
   "source": [
    "cProfile.run(\"perfomance_test(dataset)\")"
   ]
  },
  {
   "cell_type": "code",
   "execution_count": null,
   "metadata": {},
   "outputs": [],
   "source": []
  },
  {
   "cell_type": "code",
   "execution_count": null,
   "metadata": {},
   "outputs": [],
   "source": []
  },
  {
   "cell_type": "code",
   "execution_count": 510,
   "metadata": {},
   "outputs": [
    {
     "data": {
      "text/plain": [
       "Int64Index([1675275006, 1675275066, 1675275126, 1675275186, 1675275246,\n",
       "            1675275306, 1675275366, 1675275426, 1675275486, 1675275546,\n",
       "            1675275606, 1675275666, 1675275726, 1675275786, 1675275846,\n",
       "            1675275906, 1675275966, 1675276026, 1675276086, 1675276146,\n",
       "            1675276206, 1675276266, 1675276326, 1675276386, 1675276446,\n",
       "            1675276506, 1675276566, 1675276626, 1675276686, 1675276746],\n",
       "           dtype='int64', name='ts')"
      ]
     },
     "execution_count": 510,
     "metadata": {},
     "output_type": "execute_result"
    }
   ],
   "source": [
    "dataset.iloc[:30,:].index"
   ]
  },
  {
   "cell_type": "code",
   "execution_count": 501,
   "metadata": {},
   "outputs": [],
   "source": [
    "dp = DataPoint(dataset.iloc[:30,:], future_points=10)"
   ]
  },
  {
   "cell_type": "code",
   "execution_count": 502,
   "metadata": {},
   "outputs": [
    {
     "data": {
      "text/plain": [
       "19"
      ]
     },
     "execution_count": 502,
     "metadata": {},
     "output_type": "execute_result"
    }
   ],
   "source": [
    "dp.cursor"
   ]
  },
  {
   "cell_type": "code",
   "execution_count": 503,
   "metadata": {},
   "outputs": [
    {
     "data": {
      "text/plain": [
       "1675276146"
      ]
     },
     "execution_count": 503,
     "metadata": {},
     "output_type": "execute_result"
    }
   ],
   "source": [
    "dp.current_idx"
   ]
  },
  {
   "cell_type": "code",
   "execution_count": 504,
   "metadata": {},
   "outputs": [
    {
     "data": {
      "text/plain": [
       "array([1675276206, 1675276266, 1675276326])"
      ]
     },
     "execution_count": 504,
     "metadata": {},
     "output_type": "execute_result"
    }
   ],
   "source": [
    "dp.get_points(scale_factor=1, num=-3)"
   ]
  },
  {
   "cell_type": "code",
   "execution_count": 508,
   "metadata": {},
   "outputs": [
    {
     "data": {
      "text/plain": [
       "array([1675276206, 1675276266, 1675276326, 1675276386, 1675276446,\n",
       "       1675276506, 1675276566, 1675276626, 1675276686])"
      ]
     },
     "execution_count": 508,
     "metadata": {},
     "output_type": "execute_result"
    }
   ],
   "source": [
    "dp.get_indexes(scale_factor=3, num=-3)"
   ]
  },
  {
   "cell_type": "code",
   "execution_count": 506,
   "metadata": {},
   "outputs": [
    {
     "data": {
      "text/plain": [
       "array([22996.69 , 22990.51 , 22997.148, 22990.361, 22984.67 , 22995.42 ,\n",
       "       22995.42 , 22995.12 , 23011.629, 23036.31 ], dtype=float32)"
      ]
     },
     "execution_count": 506,
     "metadata": {},
     "output_type": "execute_result"
    }
   ],
   "source": [
    "dp.get_values('lowest_ask', scale_factor=2)"
   ]
  },
  {
   "cell_type": "code",
   "execution_count": 475,
   "metadata": {},
   "outputs": [
    {
     "data": {
      "text/plain": [
       "array([22996.69 , 22990.51 , 22997.148, 22990.361, 22984.67 , 22995.42 ,\n",
       "       22995.42 , 22995.12 , 23011.629, 23036.31 , 23105.99 , 23100.34 ,\n",
       "       23074.36 , 23076.55 , 23070.32 , 23077.92 , 23068.43 , 23075.94 ,\n",
       "       23057.29 , 23056.47 ], dtype=float32)"
      ]
     },
     "execution_count": 475,
     "metadata": {},
     "output_type": "execute_result"
    }
   ],
   "source": [
    "dp.get_values('lowest_ask', scale_factor=4)"
   ]
  },
  {
   "cell_type": "code",
   "execution_count": 515,
   "metadata": {},
   "outputs": [
    {
     "data": {
      "text/plain": [
       "23036.31"
      ]
     },
     "execution_count": 515,
     "metadata": {},
     "output_type": "execute_result"
    }
   ],
   "source": [
    "s = dp.get_value('lowest_ask', scale_factor=1)\n",
    "s.values[0]"
   ]
  },
  {
   "cell_type": "code",
   "execution_count": null,
   "metadata": {},
   "outputs": [],
   "source": []
  },
  {
   "cell_type": "code",
   "execution_count": null,
   "metadata": {},
   "outputs": [],
   "source": []
  },
  {
   "cell_type": "code",
   "execution_count": 448,
   "metadata": {
    "scrolled": true
   },
   "outputs": [
    {
     "data": {
      "text/html": [
       "<div>\n",
       "<style scoped>\n",
       "    .dataframe tbody tr th:only-of-type {\n",
       "        vertical-align: middle;\n",
       "    }\n",
       "\n",
       "    .dataframe tbody tr th {\n",
       "        vertical-align: top;\n",
       "    }\n",
       "\n",
       "    .dataframe thead th {\n",
       "        text-align: right;\n",
       "    }\n",
       "</style>\n",
       "<table border=\"1\" class=\"dataframe\">\n",
       "  <thead>\n",
       "    <tr style=\"text-align: right;\">\n",
       "      <th></th>\n",
       "      <th>dt</th>\n",
       "      <th>lowest_ask</th>\n",
       "      <th>highest_bid</th>\n",
       "      <th>asks</th>\n",
       "      <th>bids</th>\n",
       "      <th>buy_vol</th>\n",
       "      <th>sell_vol</th>\n",
       "      <th>total_vol</th>\n",
       "      <th>buy_num</th>\n",
       "      <th>sell_num</th>\n",
       "      <th>total_num</th>\n",
       "    </tr>\n",
       "    <tr>\n",
       "      <th>ts</th>\n",
       "      <th></th>\n",
       "      <th></th>\n",
       "      <th></th>\n",
       "      <th></th>\n",
       "      <th></th>\n",
       "      <th></th>\n",
       "      <th></th>\n",
       "      <th></th>\n",
       "      <th></th>\n",
       "      <th></th>\n",
       "      <th></th>\n",
       "    </tr>\n",
       "  </thead>\n",
       "  <tbody>\n",
       "    <tr>\n",
       "      <th>1675276206</th>\n",
       "      <td>2023-02-01 21:30:06</td>\n",
       "      <td>23105.990234</td>\n",
       "      <td>23091.648438</td>\n",
       "      <td>{'23105.99': 1.130567, '23106.00': 0.1638, '23...</td>\n",
       "      <td>{'23091.65': 0.14, '23091.64': 0.433057, '2309...</td>\n",
       "      <td>0.049586</td>\n",
       "      <td>0.173875</td>\n",
       "      <td>0.223461</td>\n",
       "      <td>8</td>\n",
       "      <td>12</td>\n",
       "      <td>20</td>\n",
       "    </tr>\n",
       "    <tr>\n",
       "      <th>1675276266</th>\n",
       "      <td>2023-02-01 21:31:06</td>\n",
       "      <td>23100.339844</td>\n",
       "      <td>23084.921875</td>\n",
       "      <td>{'23100.34': 1.130567, '23100.35': 0.072796, '...</td>\n",
       "      <td>{'23084.92': 0.072611, '23082.05': 0.433237, '...</td>\n",
       "      <td>0.177567</td>\n",
       "      <td>0.018250</td>\n",
       "      <td>0.195817</td>\n",
       "      <td>8</td>\n",
       "      <td>9</td>\n",
       "      <td>17</td>\n",
       "    </tr>\n",
       "    <tr>\n",
       "      <th>1675276326</th>\n",
       "      <td>2023-02-01 21:32:06</td>\n",
       "      <td>23074.359375</td>\n",
       "      <td>23061.210938</td>\n",
       "      <td>{'23074.36': 1.123013, '23074.37': 0.071934, '...</td>\n",
       "      <td>{'23061.21': 0.083628, '23061.20': 0.433628, '...</td>\n",
       "      <td>0.007781</td>\n",
       "      <td>0.004471</td>\n",
       "      <td>0.012252</td>\n",
       "      <td>6</td>\n",
       "      <td>2</td>\n",
       "      <td>8</td>\n",
       "    </tr>\n",
       "    <tr>\n",
       "      <th>1675276386</th>\n",
       "      <td>2023-02-01 21:33:06</td>\n",
       "      <td>23076.550781</td>\n",
       "      <td>23066.138672</td>\n",
       "      <td>{'23076.55': 1.122374, '23076.56': 0.001306, '...</td>\n",
       "      <td>{'23066.14': 0.0069, '23061.21': 0.077366, '23...</td>\n",
       "      <td>0.005242</td>\n",
       "      <td>0.012612</td>\n",
       "      <td>0.017854</td>\n",
       "      <td>1</td>\n",
       "      <td>3</td>\n",
       "      <td>4</td>\n",
       "    </tr>\n",
       "    <tr>\n",
       "      <th>1675276446</th>\n",
       "      <td>2023-02-01 21:34:06</td>\n",
       "      <td>23070.320312</td>\n",
       "      <td>23063.740234</td>\n",
       "      <td>{'23070.32': 1.125054, '23070.33': 0.002106, '...</td>\n",
       "      <td>{'23063.74': 0.004224, '23063.73': 0.14, '2306...</td>\n",
       "      <td>0.007578</td>\n",
       "      <td>0.007244</td>\n",
       "      <td>0.014822</td>\n",
       "      <td>3</td>\n",
       "      <td>2</td>\n",
       "      <td>5</td>\n",
       "    </tr>\n",
       "    <tr>\n",
       "      <th>1675276506</th>\n",
       "      <td>2023-02-01 21:35:06</td>\n",
       "      <td>23077.919922</td>\n",
       "      <td>23069.179688</td>\n",
       "      <td>{'23077.92': 1.119862, '23077.93': 0.083979, '...</td>\n",
       "      <td>{'23069.18': 0.00027, '23069.17': 0.14, '23069...</td>\n",
       "      <td>0.008497</td>\n",
       "      <td>0.012700</td>\n",
       "      <td>0.021197</td>\n",
       "      <td>7</td>\n",
       "      <td>3</td>\n",
       "      <td>10</td>\n",
       "    </tr>\n",
       "    <tr>\n",
       "      <th>1675276566</th>\n",
       "      <td>2023-02-01 21:36:06</td>\n",
       "      <td>23068.429688</td>\n",
       "      <td>23060.958984</td>\n",
       "      <td>{'23068.43': 1.11961, '23068.44': 0.00191, '23...</td>\n",
       "      <td>{'23060.96': 0.009673, '23060.95': 0.000271, '...</td>\n",
       "      <td>0.014755</td>\n",
       "      <td>0.011496</td>\n",
       "      <td>0.026251</td>\n",
       "      <td>7</td>\n",
       "      <td>6</td>\n",
       "      <td>13</td>\n",
       "    </tr>\n",
       "    <tr>\n",
       "      <th>1675276626</th>\n",
       "      <td>2023-02-01 21:37:06</td>\n",
       "      <td>23075.939453</td>\n",
       "      <td>23060.939453</td>\n",
       "      <td>{'23075.94': 1.122408, '23075.95': 0.002091, '...</td>\n",
       "      <td>{'23060.94': 0.004195, '23060.93': 0.433633, '...</td>\n",
       "      <td>0.038254</td>\n",
       "      <td>0.019944</td>\n",
       "      <td>0.058198</td>\n",
       "      <td>6</td>\n",
       "      <td>5</td>\n",
       "      <td>11</td>\n",
       "    </tr>\n",
       "    <tr>\n",
       "      <th>1675276686</th>\n",
       "      <td>2023-02-01 21:38:06</td>\n",
       "      <td>23057.289062</td>\n",
       "      <td>23046.791016</td>\n",
       "      <td>{'23057.29': 1.117885, '23057.30': 0.002162, '...</td>\n",
       "      <td>{'23046.79': 0.14, '23046.78': 0.008722, '2304...</td>\n",
       "      <td>0.027223</td>\n",
       "      <td>0.018791</td>\n",
       "      <td>0.046014</td>\n",
       "      <td>10</td>\n",
       "      <td>3</td>\n",
       "      <td>13</td>\n",
       "    </tr>\n",
       "    <tr>\n",
       "      <th>1675276746</th>\n",
       "      <td>2023-02-01 21:39:06</td>\n",
       "      <td>23056.470703</td>\n",
       "      <td>23044.351562</td>\n",
       "      <td>{'23056.47': 1.124798, '23056.48': 0.002099, '...</td>\n",
       "      <td>{'23044.35': 0.14, '23044.34': 0.001816, '2304...</td>\n",
       "      <td>0.005223</td>\n",
       "      <td>0.071223</td>\n",
       "      <td>0.076446</td>\n",
       "      <td>1</td>\n",
       "      <td>3</td>\n",
       "      <td>4</td>\n",
       "    </tr>\n",
       "  </tbody>\n",
       "</table>\n",
       "</div>"
      ],
      "text/plain": [
       "                            dt    lowest_ask   highest_bid  \\\n",
       "ts                                                           \n",
       "1675276206 2023-02-01 21:30:06  23105.990234  23091.648438   \n",
       "1675276266 2023-02-01 21:31:06  23100.339844  23084.921875   \n",
       "1675276326 2023-02-01 21:32:06  23074.359375  23061.210938   \n",
       "1675276386 2023-02-01 21:33:06  23076.550781  23066.138672   \n",
       "1675276446 2023-02-01 21:34:06  23070.320312  23063.740234   \n",
       "1675276506 2023-02-01 21:35:06  23077.919922  23069.179688   \n",
       "1675276566 2023-02-01 21:36:06  23068.429688  23060.958984   \n",
       "1675276626 2023-02-01 21:37:06  23075.939453  23060.939453   \n",
       "1675276686 2023-02-01 21:38:06  23057.289062  23046.791016   \n",
       "1675276746 2023-02-01 21:39:06  23056.470703  23044.351562   \n",
       "\n",
       "                                                         asks  \\\n",
       "ts                                                              \n",
       "1675276206  {'23105.99': 1.130567, '23106.00': 0.1638, '23...   \n",
       "1675276266  {'23100.34': 1.130567, '23100.35': 0.072796, '...   \n",
       "1675276326  {'23074.36': 1.123013, '23074.37': 0.071934, '...   \n",
       "1675276386  {'23076.55': 1.122374, '23076.56': 0.001306, '...   \n",
       "1675276446  {'23070.32': 1.125054, '23070.33': 0.002106, '...   \n",
       "1675276506  {'23077.92': 1.119862, '23077.93': 0.083979, '...   \n",
       "1675276566  {'23068.43': 1.11961, '23068.44': 0.00191, '23...   \n",
       "1675276626  {'23075.94': 1.122408, '23075.95': 0.002091, '...   \n",
       "1675276686  {'23057.29': 1.117885, '23057.30': 0.002162, '...   \n",
       "1675276746  {'23056.47': 1.124798, '23056.48': 0.002099, '...   \n",
       "\n",
       "                                                         bids   buy_vol  \\\n",
       "ts                                                                        \n",
       "1675276206  {'23091.65': 0.14, '23091.64': 0.433057, '2309...  0.049586   \n",
       "1675276266  {'23084.92': 0.072611, '23082.05': 0.433237, '...  0.177567   \n",
       "1675276326  {'23061.21': 0.083628, '23061.20': 0.433628, '...  0.007781   \n",
       "1675276386  {'23066.14': 0.0069, '23061.21': 0.077366, '23...  0.005242   \n",
       "1675276446  {'23063.74': 0.004224, '23063.73': 0.14, '2306...  0.007578   \n",
       "1675276506  {'23069.18': 0.00027, '23069.17': 0.14, '23069...  0.008497   \n",
       "1675276566  {'23060.96': 0.009673, '23060.95': 0.000271, '...  0.014755   \n",
       "1675276626  {'23060.94': 0.004195, '23060.93': 0.433633, '...  0.038254   \n",
       "1675276686  {'23046.79': 0.14, '23046.78': 0.008722, '2304...  0.027223   \n",
       "1675276746  {'23044.35': 0.14, '23044.34': 0.001816, '2304...  0.005223   \n",
       "\n",
       "            sell_vol  total_vol  buy_num  sell_num  total_num  \n",
       "ts                                                             \n",
       "1675276206  0.173875   0.223461        8        12         20  \n",
       "1675276266  0.018250   0.195817        8         9         17  \n",
       "1675276326  0.004471   0.012252        6         2          8  \n",
       "1675276386  0.012612   0.017854        1         3          4  \n",
       "1675276446  0.007244   0.014822        3         2          5  \n",
       "1675276506  0.012700   0.021197        7         3         10  \n",
       "1675276566  0.011496   0.026251        7         6         13  \n",
       "1675276626  0.019944   0.058198        6         5         11  \n",
       "1675276686  0.018791   0.046014       10         3         13  \n",
       "1675276746  0.071223   0.076446        1         3          4  "
      ]
     },
     "execution_count": 448,
     "metadata": {},
     "output_type": "execute_result"
    }
   ],
   "source": [
    "dataset.iloc[:30,:].tail(10)"
   ]
  },
  {
   "cell_type": "code",
   "execution_count": null,
   "metadata": {},
   "outputs": [],
   "source": []
  },
  {
   "cell_type": "code",
   "execution_count": null,
   "metadata": {},
   "outputs": [],
   "source": []
  },
  {
   "cell_type": "code",
   "execution_count": null,
   "metadata": {},
   "outputs": [],
   "source": []
  },
  {
   "cell_type": "code",
   "execution_count": null,
   "metadata": {},
   "outputs": [],
   "source": []
  },
  {
   "cell_type": "code",
   "execution_count": null,
   "metadata": {},
   "outputs": [],
   "source": []
  },
  {
   "cell_type": "code",
   "execution_count": null,
   "metadata": {},
   "outputs": [],
   "source": []
  },
  {
   "cell_type": "code",
   "execution_count": null,
   "metadata": {},
   "outputs": [],
   "source": []
  },
  {
   "cell_type": "code",
   "execution_count": 195,
   "metadata": {},
   "outputs": [
    {
     "data": {
      "text/plain": [
       "array([1675275006, 1675275066, 1675275126, 1675275186, 1675275246,\n",
       "       1675275306, 1675275366, 1675275426, 1675275486, 1675275546,\n",
       "       1675275606, 1675275666, 1675275726, 1675275786, 1675275846,\n",
       "       1675275906, 1675275966, 1675276026, 1675276086, 1675276146,\n",
       "       1675276206, 1675276266, 1675276326, 1675276386, 1675276446,\n",
       "       1675276506, 1675276566, 1675276626, 1675276686, 1675276746,\n",
       "       1675276806, 1675276866, 1675276926, 1675276986, 1675277046,\n",
       "       1675277106, 1675277166, 1675277226, 1675277286, 1675277346,\n",
       "       1675277406, 1675277466, 1675277526, 1675277586, 1675277646,\n",
       "       1675277706, 1675277766, 1675277826, 1675277886, 1675277946,\n",
       "       1675278006, 1675278066, 1675278126, 1675278186, 1675278246,\n",
       "       1675278306, 1675278366, 1675278426, 1675278486, 1675278546,\n",
       "       1675278606, 1675278666, 1675278726, 1675278786, 1675278846,\n",
       "       1675278906, 1675278966, 1675279026, 1675279086, 1675279146,\n",
       "       1675279206, 1675279266, 1675279326, 1675279386, 1675279446,\n",
       "       1675279506, 1675279566, 1675279626, 1675279686, 1675279746,\n",
       "       1675279806, 1675279866, 1675279926, 1675279986, 1675280046,\n",
       "       1675280106, 1675280166, 1675280226, 1675280286, 1675280346,\n",
       "       1675280406, 1675280466, 1675280526, 1675280586, 1675280646,\n",
       "       1675280706, 1675280766, 1675280826, 1675280886, 1675280946])"
      ]
     },
     "execution_count": 195,
     "metadata": {},
     "output_type": "execute_result"
    }
   ],
   "source": [
    "dataset.index.values"
   ]
  },
  {
   "cell_type": "code",
   "execution_count": null,
   "metadata": {},
   "outputs": [],
   "source": []
  },
  {
   "cell_type": "code",
   "execution_count": null,
   "metadata": {},
   "outputs": [],
   "source": []
  },
  {
   "cell_type": "code",
   "execution_count": null,
   "metadata": {},
   "outputs": [],
   "source": []
  },
  {
   "cell_type": "code",
   "execution_count": null,
   "metadata": {},
   "outputs": [],
   "source": []
  },
  {
   "cell_type": "code",
   "execution_count": null,
   "metadata": {},
   "outputs": [],
   "source": []
  },
  {
   "cell_type": "code",
   "execution_count": null,
   "metadata": {},
   "outputs": [],
   "source": []
  },
  {
   "cell_type": "code",
   "execution_count": null,
   "metadata": {},
   "outputs": [],
   "source": []
  },
  {
   "cell_type": "code",
   "execution_count": null,
   "metadata": {},
   "outputs": [],
   "source": []
  },
  {
   "cell_type": "code",
   "execution_count": null,
   "metadata": {},
   "outputs": [],
   "source": []
  }
 ],
 "metadata": {
  "kernelspec": {
   "display_name": "rt_project_env",
   "language": "python",
   "name": "rt_project_env"
  },
  "language_info": {
   "codemirror_mode": {
    "name": "ipython",
    "version": 3
   },
   "file_extension": ".py",
   "mimetype": "text/x-python",
   "name": "python",
   "nbconvert_exporter": "python",
   "pygments_lexer": "ipython3",
   "version": "3.9.8"
  }
 },
 "nbformat": 4,
 "nbformat_minor": 4
}
