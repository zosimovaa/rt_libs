{
 "cells": [
  {
   "cell_type": "markdown",
   "metadata": {},
   "source": [
    "# ТЗ"
   ]
  },
  {
   "cell_type": "markdown",
   "metadata": {},
   "source": [
    "## Обучение\n",
    "\n",
    "Обучение ведется на большом интервале данных -> запрос делаем по дате начала/конца\n",
    "Шаг данных можт быть меньше периода.\n",
    "\n",
    "\n",
    "Параметры формирования выборки\n",
    " - Период\n",
    " - Кол-во точек\n",
    " - пара"
   ]
  },
  {
   "cell_type": "markdown",
   "metadata": {},
   "source": [
    "## Торговля\n",
    "Для операции нужны только актуальные данные -> запрашиваем минимальный набор для формирования датапоинта\n",
    "Шаг данных может быть меньше периода."
   ]
  },
  {
   "cell_type": "code",
   "execution_count": 1,
   "metadata": {},
   "outputs": [],
   "source": [
    "import os\n",
    "import sys\n",
    "from pathlib import Path\n",
    "path = Path(sys.path[0])\n",
    "sys.path.insert(0, os.path.join(path.parent.absolute(), 'rt_libs'))\n"
   ]
  },
  {
   "cell_type": "code",
   "execution_count": 2,
   "metadata": {},
   "outputs": [
    {
     "ename": "ModuleNotFoundError",
     "evalue": "No module named 'db'",
     "output_type": "error",
     "traceback": [
      "\u001b[0;31m---------------------------------------------------------------------------\u001b[0m",
      "\u001b[0;31mModuleNotFoundError\u001b[0m                       Traceback (most recent call last)",
      "\u001b[0;32m<ipython-input-2-50baa87ec8a8>\u001b[0m in \u001b[0;36m<module>\u001b[0;34m\u001b[0m\n\u001b[1;32m      1\u001b[0m \u001b[0;32mimport\u001b[0m \u001b[0mnumpy\u001b[0m \u001b[0;32mas\u001b[0m \u001b[0mnp\u001b[0m\u001b[0;34m\u001b[0m\u001b[0;34m\u001b[0m\u001b[0m\n\u001b[0;32m----> 2\u001b[0;31m \u001b[0;32mfrom\u001b[0m \u001b[0mdb\u001b[0m \u001b[0;32mimport\u001b[0m \u001b[0mClickHouseConnector\u001b[0m\u001b[0;34m\u001b[0m\u001b[0;34m\u001b[0m\u001b[0m\n\u001b[0m\u001b[1;32m      3\u001b[0m \u001b[0;32mfrom\u001b[0m \u001b[0mdata_providers\u001b[0m \u001b[0;32mimport\u001b[0m \u001b[0mTradeDataProvider\u001b[0m\u001b[0;34m,\u001b[0m \u001b[0mTrainDbDataProvider\u001b[0m\u001b[0;34m\u001b[0m\u001b[0;34m\u001b[0m\u001b[0m\n",
      "\u001b[0;31mModuleNotFoundError\u001b[0m: No module named 'db'"
     ]
    }
   ],
   "source": [
    "import numpy as np\n",
    "from db import ClickHouseConnector\n",
    "from data_providers import TradeDataProvider, TrainDbDataProvider\n"
   ]
  },
  {
   "cell_type": "code",
   "execution_count": 3,
   "metadata": {},
   "outputs": [],
   "source": [
    "%matplotlib notebook\n",
    "db_connect_params = {\n",
    "    \"host\" : \"185.117.118.107\",\n",
    "    \"port\" : 59000,\n",
    "    \"user\" : \"alex\",\n",
    "    \"password\" : \"Xrxcmr758\",\n",
    "    \"database\" : \"rt\"\n",
    "}"
   ]
  },
  {
   "cell_type": "markdown",
   "metadata": {},
   "source": [
    "# Запрос данных для торговли"
   ]
  },
  {
   "cell_type": "code",
   "execution_count": 57,
   "metadata": {},
   "outputs": [],
   "source": [
    "query_for_trade = \"\"\"\n",
    "WITH\n",
    "    %(pair)s AS p_pair,\n",
    "    toUInt32(%(period)s) AS p_period,\n",
    "    toUInt32(%(start)s) AS ts_min,\n",
    "    toUInt32(%(end)s+p_period) AS ts_max\n",
    "\n",
    "SELECT ts_main as ts, lowest_ask, highest_bid\n",
    "FROM (SELECT ts_r, AVG(lowest_ask) AS lowest_ask, AVG(highest_bid) AS highest_bid\n",
    "    FROM (SELECT FLOOR(ts / p_period) * p_period AS ts_r, lowest_ask, highest_bid\n",
    "        FROM rt.orderbook\n",
    "        WHERE pair = p_pair AND ts BETWEEN ts_min AND ts_max\n",
    "        ORDER BY ts DESC) AS TB\n",
    "    GROUP BY ts_r) AS tb1\n",
    "    RIGHT JOIN (SELECT arrayJoin (range(ts_min, ts_max, p_period)) AS ts_main) AS tb2 ON tb1.ts_r = tb2.ts_main\n",
    "    ORDER BY ts ASC\n",
    "\n",
    "\"\"\""
   ]
  },
  {
   "cell_type": "code",
   "execution_count": 64,
   "metadata": {},
   "outputs": [],
   "source": [
    "import pandas as pd\n",
    "from app_tools import with_exception\n",
    "import logging\n",
    "import sys, os\n",
    "\n",
    "\n",
    "class TradeDataProviderError(Exception):\n",
    "    pass\n",
    "\n",
    "\n",
    "class TradeDataProvider:\n",
    "    QUERY_PATH_ = \"data_providers/sql/get_dataset_2.sql\"\n",
    "    QUERY_PATH = os.path.join(sys.path[0], \"data_providers/sql/get_last_data.sql\")\n",
    "\n",
    "    @with_exception(TradeDataProviderError)\n",
    "    def __init__(self, provider, query=None):\n",
    "        self.provider = provider\n",
    "        self.data = None\n",
    "        self.log = logging.getLogger(\"{0}.{1}\".format(__name__, self.__class__.__name__))\n",
    "        query_path = query if query is not None else self.QUERY_PATH\n",
    "        self.log.debug(\"Query path: {}\".format(query_path))\n",
    "        self.query = self._get_query(query_path)\n",
    "        self.log.debug(\"Initialized\")\n",
    "\n",
    "    @with_exception(TradeDataProviderError)\n",
    "    def get(self, ts, period, total_points, pairs_list=[]):\n",
    "        self.log.debug(\"get() method has been called | ts: {0}, period: {1}, total_points:{2}\"\n",
    "                       .format(ts, period, total_points))\n",
    "\n",
    "        #self.provider.cursor.execute(self.query, parameters={\"period\": period, \"n_steps\": total_points, \"ts\": ts})\n",
    "        self.provider.cursor.execute(self.query, parameters={\"period\": period, \"n_steps\": total_points})\n",
    "        raw_data = self.provider.cursor.fetchall()\n",
    "        self.log.debug(\"raw_data received len: {0}\".format(len(raw_data)))\n",
    "\n",
    "        data = self._transform(raw_data)\n",
    "        self.data = data.loc[data[\"pair\"].isin(pairs_list)]\n",
    "        self.log.debug(\"Filtered data shape: {0} x {1}\".format(*self.data.shape))\n",
    "\n",
    "        return self.data\n",
    "\n",
    "    @staticmethod\n",
    "    def _transform(raw_data):\n",
    "        data = pd.DataFrame(raw_data, columns=[\"pair\", \"ts\", \"lowest_ask\", \"highest_bid\"])\n",
    "        data[\"ts\"] = data[\"ts\"].astype(int)\n",
    "        data = data.set_index(\"ts\")\n",
    "        return data\n",
    "\n",
    "    @staticmethod\n",
    "    def _get_query(filename):\n",
    "        with open(filename) as txt:\n",
    "            query = txt.read()\n",
    "        return query\n",
    "\n",
    "\n"
   ]
  },
  {
   "cell_type": "code",
   "execution_count": 73,
   "metadata": {},
   "outputs": [
    {
     "name": "stderr",
     "output_type": "stream",
     "text": [
      "Cursor created, database connection established\n",
      "Cursor closed\n"
     ]
    }
   ],
   "source": [
    "import time\n",
    "import numpy as np\n",
    "\n",
    "ts = int(np.floor(time.time()/60)*60)\n",
    "period = 300\n",
    "total_points = 10\n",
    "\n",
    "\n",
    "with ClickHouseConnector(db_connect_params) as provider:\n",
    "    tdp = TradeDataProvider(provider)\n",
    "    data = tdp.get(ts, period, total_points, pairs_list=['USDT_BTC'])"
   ]
  },
  {
   "cell_type": "code",
   "execution_count": 80,
   "metadata": {},
   "outputs": [
    {
     "data": {
      "text/plain": [
       "1643145780"
      ]
     },
     "execution_count": 80,
     "metadata": {},
     "output_type": "execute_result"
    }
   ],
   "source": [
    "ts"
   ]
  },
  {
   "cell_type": "markdown",
   "metadata": {},
   "source": [
    "# Загрузка данных для обучения"
   ]
  },
  {
   "cell_type": "code",
   "execution_count": 75,
   "metadata": {},
   "outputs": [],
   "source": [
    "from db import ClickHouseConnector\n",
    "from poloniex import PublicAPI\n",
    "import pytz\n",
    "import datetime\n",
    "import pandas as pd\n",
    "\n",
    "\n",
    "class AbstractTrainDataProvider:\n",
    "\n",
    "    def get(self, pair, start, end, period) -> pd.DataFrame:\n",
    "        pass\n",
    "\n",
    "    @staticmethod\n",
    "    def date_to_unix_ts_in_utc(date) -> int:\n",
    "        if isinstance(date, str):\n",
    "            timezone = pytz.timezone(\"UTC\")\n",
    "            without_timezone = datetime.datetime.strptime(date, \"%Y-%m-%d %H:%M:%S\")\n",
    "            with_timezone = timezone.localize(without_timezone)\n",
    "            transformed = int(with_timezone.timestamp())\n",
    "        else:\n",
    "            transformed = int(date)\n",
    "        return transformed\n",
    "\n",
    "\n",
    "class TrainDbDataProvider(AbstractTrainDataProvider):\n",
    "    QUERY_PATH = \"/Users/alex/Dev/_Reinforcement Trading/rt_libs/data_providers/sql/get_dataset.sql\"\n",
    "\n",
    "    def __init__(self, provider_params, query=None):\n",
    "        self.provider_params = provider_params\n",
    "        self.provider = ClickHouseConnector(self.provider_params)\n",
    "        if query is None:\n",
    "            self.query = self._get_query(self.QUERY_PATH)\n",
    "        else:\n",
    "            self.query = query\n",
    "\n",
    "    def get(self, pair, start, end, period):\n",
    "        params = self._build_params(pair, start, end, period)\n",
    "\n",
    "        with self.provider:\n",
    "            self.provider.cursor.execute(self.query, parameters=params)\n",
    "            raw_data = self.provider.cursor.fetchall()\n",
    "\n",
    "        data = self._transform(raw_data)\n",
    "        return data\n",
    "\n",
    "    @staticmethod\n",
    "    def _get_query(filename):\n",
    "        with open(filename) as txt:\n",
    "            query = txt.read()\n",
    "        return query\n",
    "\n",
    "    def _build_params(self, pair, start, end, period):\n",
    "        params = {\n",
    "            \"pair\": pair,\n",
    "            \"period\": period,\n",
    "            \"start\": self.date_to_unix_ts_in_utc(start),\n",
    "            \"end\": self.date_to_unix_ts_in_utc(end),\n",
    "        }\n",
    "        return params\n",
    "\n",
    "    @staticmethod\n",
    "    def _transform(raw_data):\n",
    "        data = pd.DataFrame(raw_data, columns=[\"ts\", \"lowest_ask\", \"highest_bid\"])\n",
    "        data[\"ts\"] = data[\"ts\"].astype(int)\n",
    "        data = data.set_index(\"ts\")\n",
    "        return data\n"
   ]
  },
  {
   "cell_type": "code",
   "execution_count": 78,
   "metadata": {},
   "outputs": [
    {
     "name": "stderr",
     "output_type": "stream",
     "text": [
      "Cursor created, database connection established\n",
      "Cursor closed\n"
     ]
    }
   ],
   "source": [
    "task = {\"pair\": \"BTC_LTC\", \"start\": \"2022-01-17 00:00:00\", \"end\": \"2022-01-19 00:00:00\", \"period\": 900}\n",
    "\n",
    "tdp = TrainDbDataProvider(db_connect_params)\n",
    "\n",
    "data = tdp.get(**task)"
   ]
  },
  {
   "cell_type": "code",
   "execution_count": 79,
   "metadata": {},
   "outputs": [
    {
     "data": {
      "text/html": [
       "<div>\n",
       "<style scoped>\n",
       "    .dataframe tbody tr th:only-of-type {\n",
       "        vertical-align: middle;\n",
       "    }\n",
       "\n",
       "    .dataframe tbody tr th {\n",
       "        vertical-align: top;\n",
       "    }\n",
       "\n",
       "    .dataframe thead th {\n",
       "        text-align: right;\n",
       "    }\n",
       "</style>\n",
       "<table border=\"1\" class=\"dataframe\">\n",
       "  <thead>\n",
       "    <tr style=\"text-align: right;\">\n",
       "      <th></th>\n",
       "      <th>lowest_ask</th>\n",
       "      <th>highest_bid</th>\n",
       "    </tr>\n",
       "    <tr>\n",
       "      <th>ts</th>\n",
       "      <th></th>\n",
       "      <th></th>\n",
       "    </tr>\n",
       "  </thead>\n",
       "  <tbody>\n",
       "    <tr>\n",
       "      <th>1642377600</th>\n",
       "      <td>0.003402</td>\n",
       "      <td>0.003400</td>\n",
       "    </tr>\n",
       "    <tr>\n",
       "      <th>1642378500</th>\n",
       "      <td>0.003401</td>\n",
       "      <td>0.003400</td>\n",
       "    </tr>\n",
       "    <tr>\n",
       "      <th>1642379400</th>\n",
       "      <td>0.003395</td>\n",
       "      <td>0.003394</td>\n",
       "    </tr>\n",
       "    <tr>\n",
       "      <th>1642380300</th>\n",
       "      <td>0.003396</td>\n",
       "      <td>0.003395</td>\n",
       "    </tr>\n",
       "    <tr>\n",
       "      <th>1642381200</th>\n",
       "      <td>0.003396</td>\n",
       "      <td>0.003394</td>\n",
       "    </tr>\n",
       "    <tr>\n",
       "      <th>...</th>\n",
       "      <td>...</td>\n",
       "      <td>...</td>\n",
       "    </tr>\n",
       "    <tr>\n",
       "      <th>1642546800</th>\n",
       "      <td>0.003350</td>\n",
       "      <td>0.003346</td>\n",
       "    </tr>\n",
       "    <tr>\n",
       "      <th>1642547700</th>\n",
       "      <td>0.003343</td>\n",
       "      <td>0.003342</td>\n",
       "    </tr>\n",
       "    <tr>\n",
       "      <th>1642548600</th>\n",
       "      <td>0.003340</td>\n",
       "      <td>0.003339</td>\n",
       "    </tr>\n",
       "    <tr>\n",
       "      <th>1642549500</th>\n",
       "      <td>0.003340</td>\n",
       "      <td>0.003338</td>\n",
       "    </tr>\n",
       "    <tr>\n",
       "      <th>1642550400</th>\n",
       "      <td>0.003351</td>\n",
       "      <td>0.003349</td>\n",
       "    </tr>\n",
       "  </tbody>\n",
       "</table>\n",
       "<p>193 rows × 2 columns</p>\n",
       "</div>"
      ],
      "text/plain": [
       "            lowest_ask  highest_bid\n",
       "ts                                 \n",
       "1642377600    0.003402     0.003400\n",
       "1642378500    0.003401     0.003400\n",
       "1642379400    0.003395     0.003394\n",
       "1642380300    0.003396     0.003395\n",
       "1642381200    0.003396     0.003394\n",
       "...                ...          ...\n",
       "1642546800    0.003350     0.003346\n",
       "1642547700    0.003343     0.003342\n",
       "1642548600    0.003340     0.003339\n",
       "1642549500    0.003340     0.003338\n",
       "1642550400    0.003351     0.003349\n",
       "\n",
       "[193 rows x 2 columns]"
      ]
     },
     "execution_count": 79,
     "metadata": {},
     "output_type": "execute_result"
    }
   ],
   "source": [
    "data"
   ]
  },
  {
   "cell_type": "markdown",
   "metadata": {},
   "source": [
    "# Единый дата провайдер"
   ]
  },
  {
   "cell_type": "markdown",
   "metadata": {},
   "source": [
    "- Обязательно указываем по каким парам получаем данные - это ускоряет загрузку\n",
    "- В качестве параметрво запроса нужно высчитать начало и конец периода.\n",
    "    - для обучения эти параметры задаются явно\n",
    "    - для торговли рассчитываются на основе параметров среза\n",
    "- в обоих случаях внешний провайдер сеттим через with\n"
   ]
  },
  {
   "cell_type": "code",
   "execution_count": 82,
   "metadata": {},
   "outputs": [],
   "source": [
    "query_for_common = \"\"\"\n",
    "WITH\n",
    "    toUInt32(%(period)s) AS p_period,\n",
    "    toUInt32(%(start)s) AS ts_min,\n",
    "    toUInt32(%(end)s+p_period) AS ts_max\n",
    "\n",
    "SELECT pair_r, ts_main as ts, lowest_ask, highest_bid\n",
    "FROM (SELECT pair_r, ts_r, AVG(lowest_ask) AS lowest_ask, AVG(highest_bid) AS highest_bid\n",
    "    FROM (SELECT pair as pair_r, FLOOR(ts / p_period) * p_period AS ts_r, lowest_ask, highest_bid\n",
    "        FROM rt.orderbook\n",
    "        WHERE pair IN (%(pairs_list)s) AND ts BETWEEN ts_min AND ts_max\n",
    "        ORDER BY ts DESC) AS TB\n",
    "    GROUP BY ts_r, pair_r) AS tb1\n",
    "    RIGHT JOIN (SELECT arrayJoin (range(ts_min, ts_max, p_period)) AS ts_main) AS tb2 ON tb1.ts_r = tb2.ts_main\n",
    "    ORDER BY pair_r, ts ASC\n",
    "\n",
    "\"\"\""
   ]
  },
  {
   "cell_type": "code",
   "execution_count": 104,
   "metadata": {},
   "outputs": [],
   "source": [
    "import pandas as pd\n",
    "from app_tools import with_exception\n",
    "import logging\n",
    "import sys\n",
    "import os\n",
    "import pytz\n",
    "import datetime\n",
    "\n",
    "\n",
    "class DataProviderError(Exception):\n",
    "    pass\n",
    "\n",
    "\n",
    "class DataProvider:\n",
    "    QUERY_PATH_ = \"data_providers/sql/get_dataset_2.sql\"\n",
    "    QUERY_PATH = os.path.join(sys.path[0], \"data_providers/sql/get_last_data.sql\")\n",
    "\n",
    "    @with_exception(DataProviderError)\n",
    "    def __init__(self, connector, query=None):\n",
    "        \"\"\"провайдер попадает из вне - из-за реализаци трейдера. При выгрузке данных для обучения это не критично. Можно назвать не провайдер, а коннектор\"\"\"\n",
    "        self.connector = connector\n",
    "        self.data = None\n",
    "        self.log = logging.getLogger(__name__)\n",
    "        if query is not None:\n",
    "            self.query = query\n",
    "            self.log.debug(\"Initialized with external query\")\n",
    "        else:\n",
    "            self.query = self._get_query(self.QUERY_PATH)\n",
    "            self.log.debug(\"Initialized with integrated query\")\n",
    "        \n",
    "    @with_exception(DataProviderError)\n",
    "    def request(self, start, end, step_size, pairs_list):  \n",
    "        params = self._build_params(start, end, step_size, pairs_list)\n",
    "        query = self.query % params\n",
    "        \n",
    "        self.connector.cursor.execute(query)\n",
    "        raw_data = self.connector.cursor.fetchall()\n",
    "        self.log.debug(\"raw_data received len: {0}\".format(len(raw_data)))\n",
    "        data = self._transform(raw_data)\n",
    "        return data\n",
    "    \n",
    "    def _build_params(self, start, end, step_size, pairs_list):\n",
    "        params = {\n",
    "            \"start\": self.date_to_unix_ts_in_utc(start),\n",
    "            \"end\": self.date_to_unix_ts_in_utc(end),\n",
    "            \"period\": step_size,\n",
    "            \"pairs_list\": \", \".join([\"'\" + pair + \"'\" for pair in  pairs_list])\n",
    "        }\n",
    "        return params\n",
    "    \n",
    "    @staticmethod\n",
    "    def _transform(raw_data):\n",
    "        data = pd.DataFrame(raw_data, columns=[\"pair\", \"ts\", \"lowest_ask\", \"highest_bid\"])\n",
    "        data[\"ts\"] = data[\"ts\"].astype(int)\n",
    "        data = data.set_index(\"ts\")\n",
    "        return data\n",
    "\n",
    "    @staticmethod\n",
    "    def _get_query(filename):\n",
    "        with open(filename) as txt:\n",
    "            query = txt.read()\n",
    "        return query\n",
    "    \n",
    "    @staticmethod\n",
    "    def date_to_unix_ts_in_utc(date) -> int:\n",
    "        if isinstance(date, str):\n",
    "            timezone = pytz.timezone(\"UTC\")\n",
    "            without_timezone = datetime.datetime.strptime(date, \"%Y-%m-%d %H:%M:%S\")\n",
    "            with_timezone = timezone.localize(without_timezone)\n",
    "            transformed = int(with_timezone.timestamp())\n",
    "        else:\n",
    "            transformed = int(date)\n",
    "        return transformed\n",
    "\n",
    "\n",
    "\n"
   ]
  },
  {
   "cell_type": "code",
   "execution_count": 268,
   "metadata": {},
   "outputs": [
    {
     "name": "stderr",
     "output_type": "stream",
     "text": [
      "Cursor created, database connection established\n",
      "Cursor closed\n"
     ]
    }
   ],
   "source": [
    "pairs_list=['USDT_BTC', 'BTC_ETH', 'USDT_DOGE']\n",
    "step_size = 120\n",
    "\n",
    "with ClickHouseConnector(db_connect_params) as conn:\n",
    "    tdp = DataProvider(conn, query=query_for_common)\n",
    "    data = tdp.request(\"2022-02-01 20:00:00\", \"2022-02-01 20:10:00\", step_size, pairs_list)\n"
   ]
  },
  {
   "cell_type": "code",
   "execution_count": 269,
   "metadata": {},
   "outputs": [
    {
     "data": {
      "text/html": [
       "<div>\n",
       "<style scoped>\n",
       "    .dataframe tbody tr th:only-of-type {\n",
       "        vertical-align: middle;\n",
       "    }\n",
       "\n",
       "    .dataframe tbody tr th {\n",
       "        vertical-align: top;\n",
       "    }\n",
       "\n",
       "    .dataframe thead th {\n",
       "        text-align: right;\n",
       "    }\n",
       "</style>\n",
       "<table border=\"1\" class=\"dataframe\">\n",
       "  <thead>\n",
       "    <tr style=\"text-align: right;\">\n",
       "      <th></th>\n",
       "      <th>pair</th>\n",
       "      <th>lowest_ask</th>\n",
       "      <th>highest_bid</th>\n",
       "    </tr>\n",
       "    <tr>\n",
       "      <th>ts</th>\n",
       "      <th></th>\n",
       "      <th></th>\n",
       "      <th></th>\n",
       "    </tr>\n",
       "  </thead>\n",
       "  <tbody>\n",
       "    <tr>\n",
       "      <th>1643745600</th>\n",
       "      <td>BTC_ETH</td>\n",
       "      <td>0.071783</td>\n",
       "      <td>0.071768</td>\n",
       "    </tr>\n",
       "    <tr>\n",
       "      <th>1643745720</th>\n",
       "      <td>BTC_ETH</td>\n",
       "      <td>0.071864</td>\n",
       "      <td>0.071841</td>\n",
       "    </tr>\n",
       "    <tr>\n",
       "      <th>1643745840</th>\n",
       "      <td>BTC_ETH</td>\n",
       "      <td>0.071850</td>\n",
       "      <td>0.071847</td>\n",
       "    </tr>\n",
       "    <tr>\n",
       "      <th>1643745960</th>\n",
       "      <td>BTC_ETH</td>\n",
       "      <td>0.071884</td>\n",
       "      <td>0.071876</td>\n",
       "    </tr>\n",
       "    <tr>\n",
       "      <th>1643746080</th>\n",
       "      <td>BTC_ETH</td>\n",
       "      <td>0.071959</td>\n",
       "      <td>0.071948</td>\n",
       "    </tr>\n",
       "    <tr>\n",
       "      <th>1643746200</th>\n",
       "      <td>BTC_ETH</td>\n",
       "      <td>0.071987</td>\n",
       "      <td>0.071975</td>\n",
       "    </tr>\n",
       "    <tr>\n",
       "      <th>1643745600</th>\n",
       "      <td>USDT_BTC</td>\n",
       "      <td>38417.048446</td>\n",
       "      <td>38403.546912</td>\n",
       "    </tr>\n",
       "    <tr>\n",
       "      <th>1643745720</th>\n",
       "      <td>USDT_BTC</td>\n",
       "      <td>38513.635043</td>\n",
       "      <td>38508.802390</td>\n",
       "    </tr>\n",
       "    <tr>\n",
       "      <th>1643745840</th>\n",
       "      <td>USDT_BTC</td>\n",
       "      <td>38478.004627</td>\n",
       "      <td>38464.472571</td>\n",
       "    </tr>\n",
       "    <tr>\n",
       "      <th>1643745960</th>\n",
       "      <td>USDT_BTC</td>\n",
       "      <td>38471.548892</td>\n",
       "      <td>38453.752889</td>\n",
       "    </tr>\n",
       "    <tr>\n",
       "      <th>1643746080</th>\n",
       "      <td>USDT_BTC</td>\n",
       "      <td>38456.792162</td>\n",
       "      <td>38439.640687</td>\n",
       "    </tr>\n",
       "    <tr>\n",
       "      <th>1643746200</th>\n",
       "      <td>USDT_BTC</td>\n",
       "      <td>38447.014933</td>\n",
       "      <td>38414.471391</td>\n",
       "    </tr>\n",
       "    <tr>\n",
       "      <th>1643745600</th>\n",
       "      <td>USDT_DOGE</td>\n",
       "      <td>0.141977</td>\n",
       "      <td>0.141689</td>\n",
       "    </tr>\n",
       "    <tr>\n",
       "      <th>1643745720</th>\n",
       "      <td>USDT_DOGE</td>\n",
       "      <td>0.142308</td>\n",
       "      <td>0.141948</td>\n",
       "    </tr>\n",
       "    <tr>\n",
       "      <th>1643745840</th>\n",
       "      <td>USDT_DOGE</td>\n",
       "      <td>0.142289</td>\n",
       "      <td>0.141961</td>\n",
       "    </tr>\n",
       "    <tr>\n",
       "      <th>1643745960</th>\n",
       "      <td>USDT_DOGE</td>\n",
       "      <td>0.142422</td>\n",
       "      <td>0.142110</td>\n",
       "    </tr>\n",
       "    <tr>\n",
       "      <th>1643746080</th>\n",
       "      <td>USDT_DOGE</td>\n",
       "      <td>0.142485</td>\n",
       "      <td>0.142128</td>\n",
       "    </tr>\n",
       "    <tr>\n",
       "      <th>1643746200</th>\n",
       "      <td>USDT_DOGE</td>\n",
       "      <td>0.142419</td>\n",
       "      <td>0.142021</td>\n",
       "    </tr>\n",
       "  </tbody>\n",
       "</table>\n",
       "</div>"
      ],
      "text/plain": [
       "                 pair    lowest_ask   highest_bid\n",
       "ts                                               \n",
       "1643745600    BTC_ETH      0.071783      0.071768\n",
       "1643745720    BTC_ETH      0.071864      0.071841\n",
       "1643745840    BTC_ETH      0.071850      0.071847\n",
       "1643745960    BTC_ETH      0.071884      0.071876\n",
       "1643746080    BTC_ETH      0.071959      0.071948\n",
       "1643746200    BTC_ETH      0.071987      0.071975\n",
       "1643745600   USDT_BTC  38417.048446  38403.546912\n",
       "1643745720   USDT_BTC  38513.635043  38508.802390\n",
       "1643745840   USDT_BTC  38478.004627  38464.472571\n",
       "1643745960   USDT_BTC  38471.548892  38453.752889\n",
       "1643746080   USDT_BTC  38456.792162  38439.640687\n",
       "1643746200   USDT_BTC  38447.014933  38414.471391\n",
       "1643745600  USDT_DOGE      0.141977      0.141689\n",
       "1643745720  USDT_DOGE      0.142308      0.141948\n",
       "1643745840  USDT_DOGE      0.142289      0.141961\n",
       "1643745960  USDT_DOGE      0.142422      0.142110\n",
       "1643746080  USDT_DOGE      0.142485      0.142128\n",
       "1643746200  USDT_DOGE      0.142419      0.142021"
      ]
     },
     "execution_count": 269,
     "metadata": {},
     "output_type": "execute_result"
    }
   ],
   "source": [
    "data"
   ]
  },
  {
   "cell_type": "markdown",
   "metadata": {},
   "source": [
    "## Определение параметров для степа торговли"
   ]
  },
  {
   "cell_type": "markdown",
   "metadata": {},
   "source": [
    "offset - защитный интервал, чтобы избежать раннего запроса для текущей точки данных"
   ]
  },
  {
   "cell_type": "code",
   "execution_count": 399,
   "metadata": {},
   "outputs": [
    {
     "name": "stderr",
     "output_type": "stream",
     "text": [
      "Cursor created, database connection established\n"
     ]
    },
    {
     "name": "stdout",
     "output_type": "stream",
     "text": [
      "1643826600 1643832540\n"
     ]
    },
    {
     "data": {
      "text/html": [
       "<div>\n",
       "<style scoped>\n",
       "    .dataframe tbody tr th:only-of-type {\n",
       "        vertical-align: middle;\n",
       "    }\n",
       "\n",
       "    .dataframe tbody tr th {\n",
       "        vertical-align: top;\n",
       "    }\n",
       "\n",
       "    .dataframe thead th {\n",
       "        text-align: right;\n",
       "    }\n",
       "</style>\n",
       "<table border=\"1\" class=\"dataframe\">\n",
       "  <thead>\n",
       "    <tr style=\"text-align: right;\">\n",
       "      <th></th>\n",
       "      <th>pair</th>\n",
       "      <th>lowest_ask</th>\n",
       "      <th>highest_bid</th>\n",
       "    </tr>\n",
       "    <tr>\n",
       "      <th>ts</th>\n",
       "      <th></th>\n",
       "      <th></th>\n",
       "      <th></th>\n",
       "    </tr>\n",
       "  </thead>\n",
       "  <tbody>\n",
       "    <tr>\n",
       "      <th>1643826600</th>\n",
       "      <td>BTC_ETH</td>\n",
       "      <td>0.071554</td>\n",
       "      <td>0.071530</td>\n",
       "    </tr>\n",
       "    <tr>\n",
       "      <th>1643826660</th>\n",
       "      <td>BTC_ETH</td>\n",
       "      <td>0.071605</td>\n",
       "      <td>0.071595</td>\n",
       "    </tr>\n",
       "    <tr>\n",
       "      <th>1643826720</th>\n",
       "      <td>BTC_ETH</td>\n",
       "      <td>0.071669</td>\n",
       "      <td>0.071657</td>\n",
       "    </tr>\n",
       "    <tr>\n",
       "      <th>1643826780</th>\n",
       "      <td>BTC_ETH</td>\n",
       "      <td>0.071687</td>\n",
       "      <td>0.071659</td>\n",
       "    </tr>\n",
       "    <tr>\n",
       "      <th>1643826840</th>\n",
       "      <td>BTC_ETH</td>\n",
       "      <td>0.071686</td>\n",
       "      <td>0.071676</td>\n",
       "    </tr>\n",
       "    <tr>\n",
       "      <th>...</th>\n",
       "      <td>...</td>\n",
       "      <td>...</td>\n",
       "      <td>...</td>\n",
       "    </tr>\n",
       "    <tr>\n",
       "      <th>1643832300</th>\n",
       "      <td>USDT_DOGE</td>\n",
       "      <td>0.140470</td>\n",
       "      <td>0.140165</td>\n",
       "    </tr>\n",
       "    <tr>\n",
       "      <th>1643832360</th>\n",
       "      <td>USDT_DOGE</td>\n",
       "      <td>0.140514</td>\n",
       "      <td>0.140168</td>\n",
       "    </tr>\n",
       "    <tr>\n",
       "      <th>1643832420</th>\n",
       "      <td>USDT_DOGE</td>\n",
       "      <td>0.140472</td>\n",
       "      <td>0.140199</td>\n",
       "    </tr>\n",
       "    <tr>\n",
       "      <th>1643832480</th>\n",
       "      <td>USDT_DOGE</td>\n",
       "      <td>0.140499</td>\n",
       "      <td>0.140271</td>\n",
       "    </tr>\n",
       "    <tr>\n",
       "      <th>1643832540</th>\n",
       "      <td>USDT_DOGE</td>\n",
       "      <td>0.140536</td>\n",
       "      <td>0.140319</td>\n",
       "    </tr>\n",
       "  </tbody>\n",
       "</table>\n",
       "<p>300 rows × 3 columns</p>\n",
       "</div>"
      ],
      "text/plain": [
       "                 pair  lowest_ask  highest_bid\n",
       "ts                                            \n",
       "1643826600    BTC_ETH    0.071554     0.071530\n",
       "1643826660    BTC_ETH    0.071605     0.071595\n",
       "1643826720    BTC_ETH    0.071669     0.071657\n",
       "1643826780    BTC_ETH    0.071687     0.071659\n",
       "1643826840    BTC_ETH    0.071686     0.071676\n",
       "...               ...         ...          ...\n",
       "1643832300  USDT_DOGE    0.140470     0.140165\n",
       "1643832360  USDT_DOGE    0.140514     0.140168\n",
       "1643832420  USDT_DOGE    0.140472     0.140199\n",
       "1643832480  USDT_DOGE    0.140499     0.140271\n",
       "1643832540  USDT_DOGE    0.140536     0.140319\n",
       "\n",
       "[300 rows x 3 columns]"
      ]
     },
     "metadata": {},
     "output_type": "display_data"
    },
    {
     "name": "stderr",
     "output_type": "stream",
     "text": [
      "Cursor closed\n"
     ]
    }
   ],
   "source": [
    "import time\n",
    "step_size = 60\n",
    "\n",
    "n_steps = 100\n",
    "\n",
    "\n",
    "def get_period(step_size=step_size, n_steps=n_steps, offset=-60):\n",
    "    now = time.time()\n",
    "    now_ts = int(np.floor(now/step_size)*step_size)\n",
    "    end = now_ts + offset\n",
    "    start = now_ts - (n_steps)*step_size\n",
    "    return start, end\n",
    "\n",
    "    \n",
    "start = \"2022-02-01 20:00:00\"\n",
    "end = \"2022-02-01 20:10:00\"\n",
    "start, end = get_period()\n",
    "print(start, end)\n",
    "\n",
    "    \n",
    "    \n",
    "pairs_list=['USDT_BTC', 'BTC_ETH', 'USDT_DOGE']\n",
    "\n",
    "with ClickHouseConnector(db_connect_params) as conn:\n",
    "    tdp = DataProvider(conn, query=query_for_common)\n",
    "    data = tdp.request(start, end , step_size, pairs_list)\n",
    "    display(data)\n",
    "\n"
   ]
  },
  {
   "cell_type": "code",
   "execution_count": 605,
   "metadata": {},
   "outputs": [],
   "source": [
    "n_points = 3\n",
    "period = 300\n",
    "\n",
    "\n",
    "offset = min(data.index) + period*(n_points-1)"
   ]
  },
  {
   "cell_type": "code",
   "execution_count": 612,
   "metadata": {},
   "outputs": [],
   "source": [
    "offset += 60"
   ]
  },
  {
   "cell_type": "code",
   "execution_count": 606,
   "metadata": {},
   "outputs": [
    {
     "data": {
      "text/plain": [
       "1643827200"
      ]
     },
     "execution_count": 606,
     "metadata": {},
     "output_type": "execute_result"
    }
   ],
   "source": [
    "offset"
   ]
  },
  {
   "cell_type": "code",
   "execution_count": 610,
   "metadata": {},
   "outputs": [],
   "source": [
    "n_future_points = 3"
   ]
  },
  {
   "cell_type": "code",
   "execution_count": 613,
   "metadata": {},
   "outputs": [
    {
     "data": {
      "text/plain": [
       "array([1643827560, 1643827860, 1643828160])"
      ]
     },
     "execution_count": 613,
     "metadata": {},
     "output_type": "execute_result"
    }
   ],
   "source": [
    "start = offset + period\n",
    "end = offset + (n_future_points+1) * period\n",
    "\n",
    "idxs = np.arange(start, end, period)\n",
    "idxs"
   ]
  },
  {
   "cell_type": "code",
   "execution_count": 617,
   "metadata": {},
   "outputs": [
    {
     "data": {
      "text/plain": [
       "array([1643827560, 1643827860, 1643827860])"
      ]
     },
     "execution_count": 617,
     "metadata": {},
     "output_type": "execute_result"
    }
   ],
   "source": [
    "max_val = 1643827860\n",
    "idxs_ = np.array(list(map(lambda x: min(x, max_val), idxs)))\n",
    "idxs_"
   ]
  },
  {
   "cell_type": "code",
   "execution_count": null,
   "metadata": {},
   "outputs": [],
   "source": []
  },
  {
   "cell_type": "code",
   "execution_count": null,
   "metadata": {},
   "outputs": [],
   "source": []
  },
  {
   "cell_type": "code",
   "execution_count": 602,
   "metadata": {},
   "outputs": [
    {
     "data": {
      "text/plain": [
       "Int64Index([1643826600, 1643826660, 1643826720, 1643826780, 1643826840,\n",
       "            1643826900, 1643826960, 1643827020, 1643827080, 1643827140,\n",
       "            1643827200, 1643827260, 1643827320, 1643827380, 1643827440,\n",
       "            1643827500, 1643827560, 1643827620, 1643827680, 1643827740],\n",
       "           dtype='int64', name='ts')"
      ]
     },
     "execution_count": 602,
     "metadata": {},
     "output_type": "execute_result"
    }
   ],
   "source": [
    "data.index[:20]"
   ]
  },
  {
   "cell_type": "markdown",
   "metadata": {},
   "source": [
    "# DatapointFactory"
   ]
  },
  {
   "cell_type": "markdown",
   "metadata": {},
   "source": [
    "- Создается для конкретной пары"
   ]
  },
  {
   "cell_type": "code",
   "execution_count": 618,
   "metadata": {},
   "outputs": [],
   "source": [
    "import numpy as np\n",
    "import time\n",
    "from dataset_tools import DataPoint\n",
    "\n",
    "\n",
    "class DataPointFactory:\n",
    "    def __init__(self, period=300, n_observation_points=5, n_future_points=3, step_size=60):\n",
    "        self.period = period\n",
    "        self.n_observation_points = n_observation_points\n",
    "        self.n_future_points = n_future_points\n",
    "        self.step_size = step_size\n",
    "    \n",
    "        self.dataset = None\n",
    "        self.cursor = None\n",
    "        self.max_step = None\n",
    "        \n",
    "        self.done = True        \n",
    "\n",
    "    def reset(self, dataset=None):\n",
    "        if dataset is not None:\n",
    "            self.dataset = dataset\n",
    "            \n",
    "        self.max_step = max(self.dataset.index)\n",
    "        self.done = False\n",
    "        self.cursor = min(self.dataset.index) + self.period*(self.n_observation_points-1)\n",
    "        \n",
    "        data_point = self.get_current_step()\n",
    "        return data_point\n",
    "    \n",
    "    def get_idx(self):\n",
    "        up_bound = self.cursor + self.period\n",
    "        low_bound = up_bound - self.n_observation_points*self.period\n",
    "        idxs = np.arange(low_bound, up_bound, self.period)\n",
    "        return idxs\n",
    "    \n",
    "    def get_future_idx(self):\n",
    "        low_bound = self.cursor + self.period\n",
    "        up_bound = self.cursor + (self.n_future_points + 1) * self.period\n",
    "        idxs = np.arange(low_bound, up_bound, self.period)\n",
    "        idxs = np.array(list(map(lambda x: min(x, self.max_step), idxs)))\n",
    "        return(idxs)\n",
    "\n",
    "    def get_current_step(self):\n",
    "        idxs = self.get_idx()\n",
    "        data_ = self.dataset.loc[idxs, [\"lowest_ask\", \"highest_bid\"]]\n",
    "        \n",
    "        idxs = self.get_future_idx()\n",
    "        data_f = self.dataset.loc[idxs, [\"lowest_ask\", \"highest_bid\"]]\n",
    "\n",
    "        data_point = DataPoint(data_, dataset_future=data_f)        \n",
    "        return data_point    \n",
    "\n",
    "    def get_next_step(self):\n",
    "        if not self.done:\n",
    "            self.cursor += self.step_size\n",
    "        self.done = True if self.cursor >= self.max_step else False\n",
    "        data_point = self.get_current_step()\n",
    "        return data_point, self.done\n"
   ]
  },
  {
   "cell_type": "code",
   "execution_count": 874,
   "metadata": {},
   "outputs": [
    {
     "data": {
      "text/html": [
       "<div>\n",
       "<style scoped>\n",
       "    .dataframe tbody tr th:only-of-type {\n",
       "        vertical-align: middle;\n",
       "    }\n",
       "\n",
       "    .dataframe tbody tr th {\n",
       "        vertical-align: top;\n",
       "    }\n",
       "\n",
       "    .dataframe thead th {\n",
       "        text-align: right;\n",
       "    }\n",
       "</style>\n",
       "<table border=\"1\" class=\"dataframe\">\n",
       "  <thead>\n",
       "    <tr style=\"text-align: right;\">\n",
       "      <th></th>\n",
       "      <th>pair</th>\n",
       "      <th>lowest_ask</th>\n",
       "      <th>highest_bid</th>\n",
       "    </tr>\n",
       "    <tr>\n",
       "      <th>ts</th>\n",
       "      <th></th>\n",
       "      <th></th>\n",
       "      <th></th>\n",
       "    </tr>\n",
       "  </thead>\n",
       "  <tbody>\n",
       "    <tr>\n",
       "      <th>1643826600</th>\n",
       "      <td>USDT_DOGE</td>\n",
       "      <td>0.140185</td>\n",
       "      <td>0.139882</td>\n",
       "    </tr>\n",
       "    <tr>\n",
       "      <th>1643826660</th>\n",
       "      <td>USDT_DOGE</td>\n",
       "      <td>0.140277</td>\n",
       "      <td>0.139973</td>\n",
       "    </tr>\n",
       "    <tr>\n",
       "      <th>1643826720</th>\n",
       "      <td>USDT_DOGE</td>\n",
       "      <td>0.140395</td>\n",
       "      <td>0.140092</td>\n",
       "    </tr>\n",
       "    <tr>\n",
       "      <th>1643826780</th>\n",
       "      <td>USDT_DOGE</td>\n",
       "      <td>0.140272</td>\n",
       "      <td>0.140042</td>\n",
       "    </tr>\n",
       "    <tr>\n",
       "      <th>1643826840</th>\n",
       "      <td>USDT_DOGE</td>\n",
       "      <td>0.140401</td>\n",
       "      <td>0.140057</td>\n",
       "    </tr>\n",
       "    <tr>\n",
       "      <th>...</th>\n",
       "      <td>...</td>\n",
       "      <td>...</td>\n",
       "      <td>...</td>\n",
       "    </tr>\n",
       "    <tr>\n",
       "      <th>1643832300</th>\n",
       "      <td>USDT_DOGE</td>\n",
       "      <td>0.140470</td>\n",
       "      <td>0.140165</td>\n",
       "    </tr>\n",
       "    <tr>\n",
       "      <th>1643832360</th>\n",
       "      <td>USDT_DOGE</td>\n",
       "      <td>0.140514</td>\n",
       "      <td>0.140168</td>\n",
       "    </tr>\n",
       "    <tr>\n",
       "      <th>1643832420</th>\n",
       "      <td>USDT_DOGE</td>\n",
       "      <td>0.140472</td>\n",
       "      <td>0.140199</td>\n",
       "    </tr>\n",
       "    <tr>\n",
       "      <th>1643832480</th>\n",
       "      <td>USDT_DOGE</td>\n",
       "      <td>0.140499</td>\n",
       "      <td>0.140271</td>\n",
       "    </tr>\n",
       "    <tr>\n",
       "      <th>1643832540</th>\n",
       "      <td>USDT_DOGE</td>\n",
       "      <td>0.140536</td>\n",
       "      <td>0.140319</td>\n",
       "    </tr>\n",
       "  </tbody>\n",
       "</table>\n",
       "<p>100 rows × 3 columns</p>\n",
       "</div>"
      ],
      "text/plain": [
       "                 pair  lowest_ask  highest_bid\n",
       "ts                                            \n",
       "1643826600  USDT_DOGE    0.140185     0.139882\n",
       "1643826660  USDT_DOGE    0.140277     0.139973\n",
       "1643826720  USDT_DOGE    0.140395     0.140092\n",
       "1643826780  USDT_DOGE    0.140272     0.140042\n",
       "1643826840  USDT_DOGE    0.140401     0.140057\n",
       "...               ...         ...          ...\n",
       "1643832300  USDT_DOGE    0.140470     0.140165\n",
       "1643832360  USDT_DOGE    0.140514     0.140168\n",
       "1643832420  USDT_DOGE    0.140472     0.140199\n",
       "1643832480  USDT_DOGE    0.140499     0.140271\n",
       "1643832540  USDT_DOGE    0.140536     0.140319\n",
       "\n",
       "[100 rows x 3 columns]"
      ]
     },
     "execution_count": 874,
     "metadata": {},
     "output_type": "execute_result"
    }
   ],
   "source": [
    "filtered = data[data[\"pair\"]==\"USDT_DOGE\"]\n",
    "filtered"
   ]
  },
  {
   "cell_type": "code",
   "execution_count": 875,
   "metadata": {},
   "outputs": [],
   "source": [
    "dpf = DataPointFactory()\n",
    "dp = dpf.reset(dataset=filtered)"
   ]
  },
  {
   "cell_type": "code",
   "execution_count": 876,
   "metadata": {},
   "outputs": [
    {
     "data": {
      "text/html": [
       "<div>\n",
       "<style scoped>\n",
       "    .dataframe tbody tr th:only-of-type {\n",
       "        vertical-align: middle;\n",
       "    }\n",
       "\n",
       "    .dataframe tbody tr th {\n",
       "        vertical-align: top;\n",
       "    }\n",
       "\n",
       "    .dataframe thead th {\n",
       "        text-align: right;\n",
       "    }\n",
       "</style>\n",
       "<table border=\"1\" class=\"dataframe\">\n",
       "  <thead>\n",
       "    <tr style=\"text-align: right;\">\n",
       "      <th></th>\n",
       "      <th>lowest_ask</th>\n",
       "      <th>highest_bid</th>\n",
       "    </tr>\n",
       "    <tr>\n",
       "      <th>ts</th>\n",
       "      <th></th>\n",
       "      <th></th>\n",
       "    </tr>\n",
       "  </thead>\n",
       "  <tbody>\n",
       "    <tr>\n",
       "      <th>1643826600</th>\n",
       "      <td>0.140185</td>\n",
       "      <td>0.139882</td>\n",
       "    </tr>\n",
       "    <tr>\n",
       "      <th>1643826900</th>\n",
       "      <td>0.140335</td>\n",
       "      <td>0.140000</td>\n",
       "    </tr>\n",
       "    <tr>\n",
       "      <th>1643827200</th>\n",
       "      <td>0.140533</td>\n",
       "      <td>0.140218</td>\n",
       "    </tr>\n",
       "    <tr>\n",
       "      <th>1643827500</th>\n",
       "      <td>0.140531</td>\n",
       "      <td>0.140210</td>\n",
       "    </tr>\n",
       "    <tr>\n",
       "      <th>1643827800</th>\n",
       "      <td>0.140331</td>\n",
       "      <td>0.140026</td>\n",
       "    </tr>\n",
       "  </tbody>\n",
       "</table>\n",
       "</div>"
      ],
      "text/plain": [
       "            lowest_ask  highest_bid\n",
       "ts                                 \n",
       "1643826600    0.140185     0.139882\n",
       "1643826900    0.140335     0.140000\n",
       "1643827200    0.140533     0.140218\n",
       "1643827500    0.140531     0.140210\n",
       "1643827800    0.140331     0.140026"
      ]
     },
     "execution_count": 876,
     "metadata": {},
     "output_type": "execute_result"
    }
   ],
   "source": [
    "dp"
   ]
  },
  {
   "cell_type": "code",
   "execution_count": 877,
   "metadata": {},
   "outputs": [
    {
     "name": "stdout",
     "output_type": "stream",
     "text": [
      "            lowest_ask  highest_bid\n",
      "ts                                 \n",
      "1643826600    0.140185     0.139882\n",
      "1643826900    0.140335     0.140000\n",
      "1643827200    0.140533     0.140218\n",
      "1643827500    0.140531     0.140210\n",
      "1643827800    0.140331     0.140026\n"
     ]
    }
   ],
   "source": [
    "dp = dpf.get_current_step()\n",
    "print(dp)"
   ]
  },
  {
   "cell_type": "code",
   "execution_count": 878,
   "metadata": {},
   "outputs": [
    {
     "name": "stdout",
     "output_type": "stream",
     "text": [
      "            lowest_ask  highest_bid\n",
      "ts                                 \n",
      "1643828100    0.140342     0.140248\n",
      "1643828400    0.140679     0.140383\n",
      "1643828700    0.140659     0.140359\n"
     ]
    }
   ],
   "source": [
    "dp = dpf.get_future_step()\n",
    "print(dp)"
   ]
  },
  {
   "cell_type": "code",
   "execution_count": 879,
   "metadata": {},
   "outputs": [
    {
     "name": "stdout",
     "output_type": "stream",
     "text": [
      "            lowest_ask  highest_bid\n",
      "ts                                 \n",
      "1643826660    0.140277     0.139973\n",
      "1643826960    0.140263     0.139888\n",
      "1643827260    0.140444     0.140169\n",
      "1643827560    0.140470     0.140222\n",
      "1643827860    0.140289     0.140014 False\n"
     ]
    }
   ],
   "source": [
    "dp, done = dpf.get_next_step()\n",
    "print(dp, done)"
   ]
  },
  {
   "cell_type": "code",
   "execution_count": null,
   "metadata": {},
   "outputs": [],
   "source": []
  },
  {
   "cell_type": "code",
   "execution_count": 904,
   "metadata": {},
   "outputs": [],
   "source": [
    "import numpy as np\n",
    "from app_tools import with_exception\n",
    "\n",
    "\n",
    "class DataPointError(Exception):\n",
    "    pass\n",
    "\n",
    "\n",
    "class DataPoint:\n",
    "    @with_exception(DataPointError)\n",
    "    def __init__(self, dataset, dataset_future=None):\n",
    "        self.data = dataset\n",
    "        self.data_f = dataset_future\n",
    "        self.current_index = max(self.data.index)\n",
    "\n",
    "    @with_exception(DataPointError)\n",
    "    def get_current_ts(self):\n",
    "        return self.current_index\n",
    "\n",
    "    @with_exception(DataPointError)\n",
    "    def get_price(self, name, cursor=None):\n",
    "        if cursor is None:\n",
    "            cursor = self.current_index\n",
    "        val = self.data.loc[cursor, name]\n",
    "        return val\n",
    "\n",
    "    @with_exception(DataPointError)\n",
    "    def get_prices(self, name):\n",
    "        data = self.data.loc[:, name]\n",
    "        return data\n",
    "\n",
    "    @with_exception(DataPointError)\n",
    "    def get_future_prices(self, name, cursor=None):\n",
    "        \"\"\"Возвращает будущие точки\"\"\"\n",
    "        data = self.data_f.loc[:, name]\n",
    "        return data\n",
    "\n",
    "    @with_exception(DataPointError)\n",
    "    def get_timestamps(self):\n",
    "        return self.data.index.values\n",
    "\n",
    "    @with_exception(DataPointError)\n",
    "    def get_current_data(self):\n",
    "        return self.data\n",
    "\n",
    "    @with_exception(DataPointError)\n",
    "    def get_future_data(self):\n",
    "        return self.data_f\n",
    "\n",
    "    @with_exception(DataPointError)\n",
    "    def get_last_diffs(self, num):\n",
    "        data = self.get_current_data()\n",
    "        col_idx = np.argmax(data.columns == 'lowest_ask')\n",
    "        diffs = data.diff(axis=0).iloc[-num:, col_idx]\n",
    "        return diffs.values"
   ]
  },
  {
   "cell_type": "code",
   "execution_count": 905,
   "metadata": {},
   "outputs": [],
   "source": [
    "data_ = dpf.get_current_step() "
   ]
  },
  {
   "cell_type": "code",
   "execution_count": 906,
   "metadata": {},
   "outputs": [],
   "source": [
    "data_f = dpf.get_future_step() "
   ]
  },
  {
   "cell_type": "code",
   "execution_count": 907,
   "metadata": {},
   "outputs": [],
   "source": [
    "dp = DataPoint(data_, dataset_future=data_f)"
   ]
  },
  {
   "cell_type": "code",
   "execution_count": 910,
   "metadata": {},
   "outputs": [
    {
     "data": {
      "text/plain": [
       "array([ 1.80425e-04,  2.58500e-05, -1.80315e-04])"
      ]
     },
     "execution_count": 910,
     "metadata": {},
     "output_type": "execute_result"
    }
   ],
   "source": [
    "dp.get_last_diffs(3)"
   ]
  },
  {
   "cell_type": "code",
   "execution_count": 913,
   "metadata": {},
   "outputs": [
    {
     "data": {
      "text/plain": [
       "ts\n",
       "1643826660    0.140277\n",
       "1643826960    0.140263\n",
       "1643827260    0.140444\n",
       "1643827560    0.140470\n",
       "1643827860    0.140289\n",
       "Name: lowest_ask, dtype: float64"
      ]
     },
     "execution_count": 913,
     "metadata": {},
     "output_type": "execute_result"
    }
   ],
   "source": [
    "dp.data.loc[:, \"lowest_ask\"]"
   ]
  },
  {
   "cell_type": "code",
   "execution_count": 917,
   "metadata": {},
   "outputs": [
    {
     "data": {
      "text/plain": [
       "0.00018042500000001183"
      ]
     },
     "execution_count": 917,
     "metadata": {},
     "output_type": "execute_result"
    }
   ],
   "source": [
    "dp.data.loc[1643827260, \"lowest_ask\"] - dp.data.loc[1643826960, \"lowest_ask\"]"
   ]
  },
  {
   "cell_type": "code",
   "execution_count": 893,
   "metadata": {},
   "outputs": [
    {
     "data": {
      "text/plain": [
       "0.140289405"
      ]
     },
     "execution_count": 893,
     "metadata": {},
     "output_type": "execute_result"
    }
   ],
   "source": [
    "dp.data.loc[dp.current_index, \"lowest_ask\"]"
   ]
  },
  {
   "cell_type": "code",
   "execution_count": null,
   "metadata": {},
   "outputs": [],
   "source": []
  },
  {
   "cell_type": "code",
   "execution_count": 851,
   "metadata": {},
   "outputs": [
    {
     "data": {
      "text/plain": [
       "array([7.16048500e-02, 3.74622702e+04, 1.40277320e-01])"
      ]
     },
     "execution_count": 851,
     "metadata": {},
     "output_type": "execute_result"
    }
   ],
   "source": [
    "nm = \"lowest_ask\"\n",
    "mask = data.columns==nm\n",
    "data.loc[1643826660, \"lowest_ask\"].values"
   ]
  },
  {
   "cell_type": "code",
   "execution_count": null,
   "metadata": {},
   "outputs": [],
   "source": []
  },
  {
   "cell_type": "code",
   "execution_count": null,
   "metadata": {},
   "outputs": [],
   "source": []
  },
  {
   "cell_type": "code",
   "execution_count": null,
   "metadata": {},
   "outputs": [],
   "source": []
  },
  {
   "cell_type": "code",
   "execution_count": null,
   "metadata": {},
   "outputs": [],
   "source": []
  },
  {
   "cell_type": "code",
   "execution_count": null,
   "metadata": {},
   "outputs": [],
   "source": []
  },
  {
   "cell_type": "code",
   "execution_count": null,
   "metadata": {},
   "outputs": [],
   "source": []
  },
  {
   "cell_type": "code",
   "execution_count": null,
   "metadata": {},
   "outputs": [],
   "source": []
  },
  {
   "cell_type": "code",
   "execution_count": null,
   "metadata": {},
   "outputs": [],
   "source": []
  },
  {
   "cell_type": "code",
   "execution_count": null,
   "metadata": {},
   "outputs": [],
   "source": []
  },
  {
   "cell_type": "code",
   "execution_count": null,
   "metadata": {},
   "outputs": [],
   "source": [
    "class DataPointFactory:\n",
    "    def __init__(self, period, observation_points, future_points=0):\n",
    "        self.period = period\n",
    "        self.offset = observation_points\n",
    "        self.cursor = observation_points\n",
    "        self.last_position = offset\n",
    "        self.dataset = None\n",
    "        self.done = True\n",
    "        pass\n",
    "    \n",
    "    def reset(self):\n",
    "        self.done = False\n",
    "        self.cursor = self.offset\n",
    "        self.data_point = self.get_current_step()\n",
    "        return self.data_point\n",
    "    \n",
    "    \n",
    "    def load_data(self, dataset):\n",
    "        self.dataset = dataset\n",
    "        self.last_position = len(self.dataset)\n",
    "        self.done = False\n",
    "        self.cursor = self.offset\n",
    "    \n",
    "    def get_datapoint(self):\n",
    "        pass\n",
    "    \n",
    "    def get_current_step(self):\n",
    "        dataset = self.get_dataset()\n",
    "        data_point = DataPoint(dataset, self.offset, self.future_points)\n",
    "        return data_point\n",
    "\n",
    "    def get_next_step(self):\n",
    "        if not self.done:\n",
    "            self.cursor += 1\n",
    "        self.done = True if self.cursor >= self.last_position else False\n",
    "        self.data_point = self.get_current_step()\n",
    "        return self.data_point, self.done\n",
    "\n",
    "    "
   ]
  },
  {
   "cell_type": "code",
   "execution_count": null,
   "metadata": {},
   "outputs": [],
   "source": []
  },
  {
   "cell_type": "code",
   "execution_count": null,
   "metadata": {},
   "outputs": [],
   "source": []
  },
  {
   "cell_type": "code",
   "execution_count": null,
   "metadata": {},
   "outputs": [],
   "source": []
  },
  {
   "cell_type": "code",
   "execution_count": null,
   "metadata": {},
   "outputs": [],
   "source": []
  }
 ],
 "metadata": {
  "kernelspec": {
   "display_name": "Python 3",
   "language": "python",
   "name": "python3"
  },
  "language_info": {
   "codemirror_mode": {
    "name": "ipython",
    "version": 3
   },
   "file_extension": ".py",
   "mimetype": "text/x-python",
   "name": "python",
   "nbconvert_exporter": "python",
   "pygments_lexer": "ipython3",
   "version": "3.8.5"
  }
 },
 "nbformat": 4,
 "nbformat_minor": 4
}
