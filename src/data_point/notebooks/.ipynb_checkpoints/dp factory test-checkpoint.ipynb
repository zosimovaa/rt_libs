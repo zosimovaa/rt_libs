{
 "cells": [
  {
   "cell_type": "code",
   "execution_count": 1,
   "metadata": {},
   "outputs": [],
   "source": [
    "import sys\n",
    "# for local development\n",
    "RT_LIBS_PATH = \"/Users/alex/Dev_projects/MyOwnRepo/rt_libs/src\"\n",
    "BA_LIBS_PATH = \"/Users/alex/Dev_projects/MyOwnRepo/basic_application/src\"\n",
    "sys.path.append(RT_LIBS_PATH)\n",
    "sys.path.append(BA_LIBS_PATH)"
   ]
  },
  {
   "cell_type": "code",
   "execution_count": 2,
   "metadata": {},
   "outputs": [],
   "source": [
    "%matplotlib notebook\n",
    "db_connect_params = {\n",
    "    \"host\" : \"185.117.118.107\",\n",
    "    \"port\" : 59000,\n",
    "    \"user\" : \"alex\",\n",
    "    \"password\" : \"Xrxcmr758\",\n",
    "    \"database\" : \"rt\"\n",
    "}"
   ]
  },
  {
   "cell_type": "code",
   "execution_count": 3,
   "metadata": {},
   "outputs": [],
   "source": [
    "import time"
   ]
  },
  {
   "cell_type": "code",
   "execution_count": 4,
   "metadata": {},
   "outputs": [],
   "source": [
    "from data_providers import DbDataProvider\n",
    "from data_providers import ClickHouseConnector"
   ]
  },
  {
   "cell_type": "markdown",
   "metadata": {},
   "source": [
    "## DatasetDownload"
   ]
  },
  {
   "cell_type": "code",
   "execution_count": 6,
   "metadata": {},
   "outputs": [
    {
     "name": "stderr",
     "output_type": "stream",
     "text": [
      "Cursor created, database connection established\n",
      "Cursor closed\n"
     ]
    }
   ],
   "source": [
    "ts = int(time.time())\n",
    "period = 300\n",
    "n_observation_points = 10\n",
    "n_future_points = 3\n",
    "pairs = []\n",
    "\n",
    "\n",
    "#----\n",
    "total_points = n_observation_points + n_future_points\n",
    "\n",
    "with ClickHouseConnector(db_connect_params) as conn:\n",
    "    data_provider = DbDataProvider(conn)\n",
    "   \n",
    "    dataset = data_provider.get_by_periods(\n",
    "                            ts,\n",
    "                            period,\n",
    "                            total_points,\n",
    "                            pairs\n",
    "                        )"
   ]
  },
  {
   "cell_type": "markdown",
   "metadata": {},
   "source": [
    "## Datapoint Factory"
   ]
  },
  {
   "cell_type": "code",
   "execution_count": 7,
   "metadata": {},
   "outputs": [],
   "source": [
    "from data_point import DataPointFactory"
   ]
  },
  {
   "cell_type": "code",
   "execution_count": 8,
   "metadata": {},
   "outputs": [],
   "source": [
    "pair = 'USDT_BTC'\n",
    "pair_dataset = dataset.loc[dataset[\"pair\"] == pair]\n",
    "\n",
    "\n",
    "dpf = DataPointFactory(\n",
    "    dataset=pair_dataset, \n",
    "    period=period, \n",
    "    n_observation_points=n_observation_points,\n",
    "    n_future_points=n_future_points\n",
    ")\n"
   ]
  },
  {
   "cell_type": "code",
   "execution_count": 9,
   "metadata": {},
   "outputs": [
    {
     "data": {
      "text/html": [
       "<div>\n",
       "<style scoped>\n",
       "    .dataframe tbody tr th:only-of-type {\n",
       "        vertical-align: middle;\n",
       "    }\n",
       "\n",
       "    .dataframe tbody tr th {\n",
       "        vertical-align: top;\n",
       "    }\n",
       "\n",
       "    .dataframe thead th {\n",
       "        text-align: right;\n",
       "    }\n",
       "</style>\n",
       "<table border=\"1\" class=\"dataframe\">\n",
       "  <thead>\n",
       "    <tr style=\"text-align: right;\">\n",
       "      <th></th>\n",
       "      <th>pair</th>\n",
       "      <th>highest_bid</th>\n",
       "      <th>lowest_ask</th>\n",
       "    </tr>\n",
       "    <tr>\n",
       "      <th>ts</th>\n",
       "      <th></th>\n",
       "      <th></th>\n",
       "      <th></th>\n",
       "    </tr>\n",
       "  </thead>\n",
       "  <tbody>\n",
       "    <tr>\n",
       "      <th>1655583060</th>\n",
       "      <td>USDT_BTC</td>\n",
       "      <td>18045.4736857</td>\n",
       "      <td>18056.09750245</td>\n",
       "    </tr>\n",
       "    <tr>\n",
       "      <th>1655583360</th>\n",
       "      <td>USDT_BTC</td>\n",
       "      <td>17817.38639396</td>\n",
       "      <td>17818.99147585</td>\n",
       "    </tr>\n",
       "    <tr>\n",
       "      <th>1655583660</th>\n",
       "      <td>USDT_BTC</td>\n",
       "      <td>18093.16794452</td>\n",
       "      <td>18126.23889873</td>\n",
       "    </tr>\n",
       "    <tr>\n",
       "      <th>1655583960</th>\n",
       "      <td>USDT_BTC</td>\n",
       "      <td>17965.01654298</td>\n",
       "      <td>17991.10849401</td>\n",
       "    </tr>\n",
       "    <tr>\n",
       "      <th>1655584260</th>\n",
       "      <td>USDT_BTC</td>\n",
       "      <td>17840.45115666</td>\n",
       "      <td>17878.7483095</td>\n",
       "    </tr>\n",
       "    <tr>\n",
       "      <th>1655584560</th>\n",
       "      <td>USDT_BTC</td>\n",
       "      <td>17710.96329368</td>\n",
       "      <td>17765.53926786</td>\n",
       "    </tr>\n",
       "    <tr>\n",
       "      <th>1655584860</th>\n",
       "      <td>USDT_BTC</td>\n",
       "      <td>17758.4649356</td>\n",
       "      <td>17793.69563315</td>\n",
       "    </tr>\n",
       "    <tr>\n",
       "      <th>1655585160</th>\n",
       "      <td>USDT_BTC</td>\n",
       "      <td>17827.97039684</td>\n",
       "      <td>17860.17221612</td>\n",
       "    </tr>\n",
       "    <tr>\n",
       "      <th>1655585460</th>\n",
       "      <td>USDT_BTC</td>\n",
       "      <td>17758.43147934</td>\n",
       "      <td>17764.25861859</td>\n",
       "    </tr>\n",
       "    <tr>\n",
       "      <th>1655585760</th>\n",
       "      <td>USDT_BTC</td>\n",
       "      <td>17646.01264296</td>\n",
       "      <td>17667.31139932</td>\n",
       "    </tr>\n",
       "    <tr>\n",
       "      <th>1655586060</th>\n",
       "      <td>USDT_BTC</td>\n",
       "      <td>17671.03534056</td>\n",
       "      <td>17684.09638305</td>\n",
       "    </tr>\n",
       "    <tr>\n",
       "      <th>1655586360</th>\n",
       "      <td>USDT_BTC</td>\n",
       "      <td>17852.64605659</td>\n",
       "      <td>17870.405331</td>\n",
       "    </tr>\n",
       "    <tr>\n",
       "      <th>1655586660</th>\n",
       "      <td>USDT_BTC</td>\n",
       "      <td>17930.4821434</td>\n",
       "      <td>17956.69999999</td>\n",
       "    </tr>\n",
       "  </tbody>\n",
       "</table>\n",
       "</div>"
      ],
      "text/plain": [
       "                pair     highest_bid      lowest_ask\n",
       "ts                                                  \n",
       "1655583060  USDT_BTC   18045.4736857  18056.09750245\n",
       "1655583360  USDT_BTC  17817.38639396  17818.99147585\n",
       "1655583660  USDT_BTC  18093.16794452  18126.23889873\n",
       "1655583960  USDT_BTC  17965.01654298  17991.10849401\n",
       "1655584260  USDT_BTC  17840.45115666   17878.7483095\n",
       "1655584560  USDT_BTC  17710.96329368  17765.53926786\n",
       "1655584860  USDT_BTC   17758.4649356  17793.69563315\n",
       "1655585160  USDT_BTC  17827.97039684  17860.17221612\n",
       "1655585460  USDT_BTC  17758.43147934  17764.25861859\n",
       "1655585760  USDT_BTC  17646.01264296  17667.31139932\n",
       "1655586060  USDT_BTC  17671.03534056  17684.09638305\n",
       "1655586360  USDT_BTC  17852.64605659    17870.405331\n",
       "1655586660  USDT_BTC   17930.4821434  17956.69999999"
      ]
     },
     "execution_count": 9,
     "metadata": {},
     "output_type": "execute_result"
    }
   ],
   "source": [
    "pair_dataset"
   ]
  },
  {
   "cell_type": "code",
   "execution_count": 10,
   "metadata": {},
   "outputs": [],
   "source": [
    "dp = dpf.get_current_step()"
   ]
  },
  {
   "cell_type": "code",
   "execution_count": 11,
   "metadata": {},
   "outputs": [
    {
     "data": {
      "text/plain": [
       "{'data':                 pair     highest_bid      lowest_ask\n",
       " ts                                                  \n",
       " 1655583060  USDT_BTC   18045.4736857  18056.09750245\n",
       " 1655583360  USDT_BTC  17817.38639396  17818.99147585\n",
       " 1655583660  USDT_BTC  18093.16794452  18126.23889873\n",
       " 1655583960  USDT_BTC  17965.01654298  17991.10849401\n",
       " 1655584260  USDT_BTC  17840.45115666   17878.7483095\n",
       " 1655584560  USDT_BTC  17710.96329368  17765.53926786\n",
       " 1655584860  USDT_BTC   17758.4649356  17793.69563315\n",
       " 1655585160  USDT_BTC  17827.97039684  17860.17221612\n",
       " 1655585460  USDT_BTC  17758.43147934  17764.25861859\n",
       " 1655585760  USDT_BTC  17646.01264296  17667.31139932,\n",
       " 'data_f':                 pair     highest_bid      lowest_ask\n",
       " ts                                                  \n",
       " 1655586060  USDT_BTC  17671.03534056  17684.09638305\n",
       " 1655586360  USDT_BTC  17852.64605659    17870.405331\n",
       " 1655586660  USDT_BTC   17930.4821434  17956.69999999,\n",
       " 'current_index': 1655585760,\n",
       " 'offset': 10}"
      ]
     },
     "execution_count": 11,
     "metadata": {},
     "output_type": "execute_result"
    }
   ],
   "source": [
    "dp.__dict__"
   ]
  },
  {
   "cell_type": "code",
   "execution_count": null,
   "metadata": {},
   "outputs": [],
   "source": []
  },
  {
   "cell_type": "code",
   "execution_count": null,
   "metadata": {},
   "outputs": [],
   "source": []
  },
  {
   "cell_type": "code",
   "execution_count": null,
   "metadata": {},
   "outputs": [],
   "source": []
  },
  {
   "cell_type": "code",
   "execution_count": null,
   "metadata": {},
   "outputs": [],
   "source": []
  },
  {
   "cell_type": "code",
   "execution_count": null,
   "metadata": {},
   "outputs": [],
   "source": []
  },
  {
   "cell_type": "code",
   "execution_count": null,
   "metadata": {},
   "outputs": [],
   "source": []
  },
  {
   "cell_type": "code",
   "execution_count": null,
   "metadata": {},
   "outputs": [],
   "source": []
  },
  {
   "cell_type": "code",
   "execution_count": null,
   "metadata": {},
   "outputs": [],
   "source": []
  },
  {
   "cell_type": "code",
   "execution_count": null,
   "metadata": {},
   "outputs": [],
   "source": []
  },
  {
   "cell_type": "code",
   "execution_count": null,
   "metadata": {},
   "outputs": [],
   "source": []
  },
  {
   "cell_type": "code",
   "execution_count": null,
   "metadata": {},
   "outputs": [],
   "source": []
  },
  {
   "cell_type": "code",
   "execution_count": null,
   "metadata": {},
   "outputs": [],
   "source": []
  },
  {
   "cell_type": "code",
   "execution_count": null,
   "metadata": {},
   "outputs": [],
   "source": []
  }
 ],
 "metadata": {
  "kernelspec": {
   "display_name": "rt_project_env",
   "language": "python",
   "name": "rt_project_env"
  },
  "language_info": {
   "codemirror_mode": {
    "name": "ipython",
    "version": 3
   },
   "file_extension": ".py",
   "mimetype": "text/x-python",
   "name": "python",
   "nbconvert_exporter": "python",
   "pygments_lexer": "ipython3",
   "version": "3.9.8"
  }
 },
 "nbformat": 4,
 "nbformat_minor": 4
}
